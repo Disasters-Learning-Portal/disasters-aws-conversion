{
 "cells": [
  {
   "cell_type": "markdown",
   "metadata": {},
   "source": [
    "# Disaster AWS COG Conversion Template\n",
    "\n",
    "This template provides a comprehensive workflow for converting satellite imagery to Cloud Optimized GeoTIFFs (COGs) with:\n",
    "- **Modular architecture** with single-responsibility functions\n",
    "- **Automatic error handling** and recovery\n",
    "- **Memory-efficient processing** for large files\n",
    "- **S3 streaming and caching** capabilities\n",
    "\n",
    "## Key Features\n",
    "- ✅ Handles files from <1GB to >10GB\n",
    "- ✅ Prevents striping issues with fixed chunk processing\n",
    "- ✅ Automatic S3 existence checking\n",
    "- ✅ ZSTD compression with optimal predictors\n",
    "- ✅ Comprehensive error tracking\n",
    "\n",
    "---"
   ]
  },
  {
   "cell_type": "markdown",
   "metadata": {},
   "source": [
    "## 📋 CONFIGURATION CELL - MODIFY PARAMETERS HERE\n"
   ]
  },
  {
   "cell_type": "code",
   "execution_count": 1,
   "metadata": {},
   "outputs": [
    {
     "name": "stdout",
     "output_type": "stream",
     "text": [
      "✅ Configuration loaded successfully!\n",
      "Event: 202503_SevereWx_US\n",
      "Source: s3://nasa-disasters/drcs_activations/202503_SevereWx_US/planet\n"
     ]
    }
   ],
   "source": [
    "# ========================================\n",
    "# MAIN CONFIGURATION - MODIFY THESE VALUES\n",
    "# ========================================\n",
    "\n",
    "# Event Configuration\n",
    "EVENT_NAME = '202503_SevereWx_US'  # Event identifier\n",
    "PRODUCT_NAME = 'planet'          # Product type (sentinel1, sentinel2, landsat, etc.)\n",
    "\n",
    "# S3 Configuration\n",
    "BUCKET = 'nasa-disasters'                                # S3 bucket name\n",
    "DIR_OLD_BASE = 'drcs_activations'                       # Source directory base\n",
    "DIR_NEW_BASE = 'drcs_activations_new'                   # Destination directory base\n",
    "PATH_OLD = f'{DIR_OLD_BASE}/{EVENT_NAME}/{PRODUCT_NAME}' # Full source path\n",
    "\n",
    "# File Size Thresholds (in GB)\n",
    "LARGE_FILE_THRESHOLD = 3   # Files > 3GB use large file config\n",
    "ULTRA_LARGE_THRESHOLD = 7  # Files > 7GB use ultra-large config\n",
    "\n",
    "# Memory Configuration\n",
    "MEMORY_LIMIT_MB = 500      # Memory limit per chunk\n",
    "FORCE_FIXED_CHUNKS = True  # Use fixed chunks for large files (prevents striping)\n",
    "\n",
    "# Output Configuration\n",
    "SAVE_LOCAL = True          # Save files locally during processing\n",
    "SAVE_METADATA = True       # Save processing metadata to bucket\n",
    "VERBOSE = True             # Verbose output for functions\n",
    "\n",
    "# Advanced Configuration (usually don't need to change)\n",
    "USE_STREAMING = True      # Stream from S3 (set False if having issues with large files)\n",
    "CACHE_DOWNLOADS = True     # Cache downloaded files\n",
    "MAX_RETRIES = 3           # Maximum retry attempts\n",
    "\n",
    "print(\"✅ Configuration loaded successfully!\")\n",
    "print(f\"Event: {EVENT_NAME}\")\n",
    "print(f\"Source: s3://{BUCKET}/{PATH_OLD}\")\n",
    "\n"
   ]
  },
  {
   "cell_type": "markdown",
   "metadata": {},
   "source": [
    "## ♻️ Overwrite and Verification Configuration\n",
    "\n",
    "Control whether to overwrite existing files and verify processing results:"
   ]
  },
  {
   "cell_type": "code",
   "execution_count": 2,
   "metadata": {},
   "outputs": [
    {
     "name": "stdout",
     "output_type": "stream",
     "text": [
      "✅ Overwrite and verification configuration loaded\n",
      "Overwrite mode: ENABLED\n",
      "Verification: ENABLED\n",
      "⚠️  WARNING: Existing files will be overwritten!\n",
      "   This may incur additional processing time and S3 costs.\n"
     ]
    }
   ],
   "source": [
    "# ========================================\n",
    "# OVERWRITE AND VERIFICATION CONFIGURATION\n",
    "# ========================================\n",
    "\n",
    "# Overwrite Configuration\n",
    "OVERWRITE_EXISTING = False  # Set to True to reprocess and overwrite existing files\n",
    "                            # Set to False to skip existing files (default behavior)\n",
    "\n",
    "# Verification Configuration  \n",
    "VERIFY_PROCESSING = True    # Compare input vs output to verify COG transformation\n",
    "SAVE_VERIFICATION_PLOTS = True  # Save comparison plots for verification\n",
    "VERIFICATION_SAMPLE_SIZE = 5     # Number of files to verify per product type\n",
    "VERIFICATION_DIR = f'verification/{EVENT_NAME}'  # Directory for verification results\n",
    "\n",
    "# Quality Control\n",
    "CHECK_NODATA_PROPAGATION = True  # Verify no-data values are properly handled\n",
    "COMPARE_STATISTICS = True         # Compare min/max/mean between input and output\n",
    "\n",
    "print(\"✅ Overwrite and verification configuration loaded\")\n",
    "print(f\"Overwrite mode: {'ENABLED' if OVERWRITE_EXISTING else 'DISABLED (will skip existing)'}\")\n",
    "print(f\"Verification: {'ENABLED' if VERIFY_PROCESSING else 'DISABLED'}\")\n",
    "if OVERWRITE_EXISTING:\n",
    "    print(\"⚠️  WARNING: Existing files will be overwritten!\")\n",
    "    print(\"   This may incur additional processing time and S3 costs.\")"
   ]
  },
  {
   "cell_type": "markdown",
   "metadata": {},
   "source": [
    "## 📦 Import Required Modules"
   ]
  },
  {
   "cell_type": "code",
   "execution_count": 3,
   "metadata": {},
   "outputs": [
    {
     "name": "stdout",
     "output_type": "stream",
     "text": [
      "✅ Standard libraries imported\n",
      "Module path: /home/jovyan/disasters-aws-conversion\n"
     ]
    }
   ],
   "source": [
    "# Standard library imports\n",
    "import os\n",
    "import sys\n",
    "import re\n",
    "import gc\n",
    "import tempfile\n",
    "from datetime import datetime\n",
    "from pathlib import Path\n",
    "\n",
    "# Data processing\n",
    "import pandas as pd\n",
    "import numpy as np\n",
    "\n",
    "# Geospatial libraries\n",
    "import rasterio\n",
    "from rasterio.warp import calculate_default_transform, reproject, Resampling\n",
    "from rasterio.windows import Window\n",
    "\n",
    "# AWS libraries\n",
    "import boto3\n",
    "from botocore.exceptions import ClientError, NoCredentialsError\n",
    "\n",
    "# Progress tracking\n",
    "from tqdm import tqdm\n",
    "\n",
    "print(\"✅ Standard libraries imported\")\n",
    "\n",
    "# Add parent directory to path for module imports\n",
    "module_path = Path('..').resolve()\n",
    "if str(module_path) not in sys.path:\n",
    "    sys.path.insert(0, str(module_path))\n",
    "\n",
    "print(f\"Module path: {module_path}\")"
   ]
  },
  {
   "cell_type": "code",
   "execution_count": 4,
   "metadata": {},
   "outputs": [
    {
     "name": "stdout",
     "output_type": "stream",
     "text": [
      "✅ Module cache cleared - ready for fresh imports\n"
     ]
    }
   ],
   "source": [
    "# Force reimport of modules if needed (run this if you've updated the code)\n",
    "# This ensures you're using the latest version of the modules\n",
    "import importlib\n",
    "import sys\n",
    "\n",
    "# List of modules to force reload\n",
    "modules_to_reload = [\n",
    "    'main_processor',\n",
    "    'core.s3_operations',\n",
    "    'core.compression', \n",
    "    'core.reprojection',\n",
    "    'core.validation',\n",
    "    'processors.cog_creator',\n",
    "    'configs.chunk_configs',\n",
    "    'utils.memory_management'\n",
    "]\n",
    "\n",
    "# Remove cached modules\n",
    "for module_name in list(sys.modules.keys()):\n",
    "    for target in modules_to_reload:\n",
    "        if target in module_name:\n",
    "            print(f\"Reloading: {module_name}\")\n",
    "            del sys.modules[module_name]\n",
    "            \n",
    "print(\"✅ Module cache cleared - ready for fresh imports\")"
   ]
  },
  {
   "cell_type": "code",
   "execution_count": 5,
   "metadata": {},
   "outputs": [
    {
     "name": "stdout",
     "output_type": "stream",
     "text": [
      "✅ All disaster-aws-conversion modules imported successfully!\n"
     ]
    }
   ],
   "source": [
    "# Import disaster-aws-conversion modules\n",
    "try:\n",
    "    # Core modules\n",
    "    from core.s3_operations import (\n",
    "        initialize_s3_client,\n",
    "        check_s3_file_exists,\n",
    "        list_s3_files,\n",
    "        get_file_size_from_s3\n",
    "    )\n",
    "    from core.validation import validate_cog, check_cog_with_warnings\n",
    "    from core.compression import get_predictor_for_dtype, export_cog_profile\n",
    "    \n",
    "    # Utils\n",
    "    from utils.memory_management import get_memory_usage, monitor_memory\n",
    "    from utils.error_handling import cleanup_temp_files\n",
    "    from utils.logging import print_status, print_summary\n",
    "    \n",
    "    # Processors\n",
    "    from processors.batch_processor import process_file_batch, monitor_batch_progress\n",
    "    \n",
    "    # Configs\n",
    "    from configs.profiles import select_profile_by_size\n",
    "    from configs.chunk_configs import get_chunk_config\n",
    "    \n",
    "    # Main processor\n",
    "    from main_processor import convert_to_cog\n",
    "    \n",
    "    print(\"✅ All disaster-aws-conversion modules imported successfully!\")\n",
    "    \n",
    "except ImportError as e:\n",
    "    print(f\"⚠️ Import error: {e}\")\n",
    "    print(\"Make sure you're running from the disaster-aws-conversion directory\")"
   ]
  },
  {
   "cell_type": "code",
   "execution_count": 6,
   "metadata": {},
   "outputs": [
    {
     "name": "stdout",
     "output_type": "stream",
     "text": [
      "✅ S3 client initialized with full access to nasa-disasters\n",
      "✅ Confirmed access to nasa-disasters bucket\n",
      "✅ S3 filesystem (fsspec) initialized\n",
      "✅ S3 client ready for operations\n"
     ]
    }
   ],
   "source": [
    "# Initialize S3 client\n",
    "s3_client, fs_read = initialize_s3_client(bucket_name=BUCKET, verbose=VERBOSE)\n",
    "\n",
    "if s3_client:\n",
    "    print(\"✅ S3 client ready for operations\")\n",
    "else:\n",
    "    print(\"❌ Failed to initialize S3 client\")\n",
    "    print(\"Please check your AWS credentials\")"
   ]
  },
  {
   "cell_type": "markdown",
   "metadata": {},
   "source": [
    "## 🔌 Initialize AWS S3 Connection"
   ]
  },
  {
   "cell_type": "markdown",
   "metadata": {},
   "source": [
    "## 🔍 Discover Files in S3"
   ]
  },
  {
   "cell_type": "code",
   "execution_count": 7,
   "metadata": {
    "scrolled": true
   },
   "outputs": [
    {
     "name": "stdout",
     "output_type": "stream",
     "text": [
      "✅ Found 68 .tif files in s3://nasa-disasters/drcs_activations/202503_SevereWx_US/planet\n",
      "\n",
      "Files:\n",
      "  - LIX_Planet_trueColor_20250301_7899853_merged.tif (0.5 GB)\n",
      "  - LIX_Planet_trueColor_20250311_7923427_merged.tif (0.6 GB)\n",
      "  - LIX_Planet_trueColor_20250311_7923683_merged.tif (0.7 GB)\n",
      "  - LIX_Planet_trueColor_20250311_7923805_merged.tif (1.3 GB)\n",
      "  - LIX_Planet_trueColor_20250316_7935289_merged.tif (0.4 GB)\n",
      "  - LIX_Planet_trueColor_20250316_7935296_merged.tif (0.2 GB)\n",
      "  - LIX_Planet_trueColor_20250318_7940625_merged.tif (0.9 GB)\n",
      "  - LIX_Planet_trueColor_20250318_7940629_merged.tif (1.4 GB)\n",
      "  - LIX_Planet_trueColor_20250318_7941250_merged.tif (0.7 GB)\n",
      "  - LSX_Planet_trueColor_20250313_7928028_merged.tif (1.1 GB)\n",
      "  - LSX_Planet_trueColor_20250313_7928436_merged.tif (0.5 GB)\n",
      "  - LSX_Planet_trueColor_20250313_7928467_merged.tif (1.4 GB)\n",
      "  - LSX_Planet_trueColor_20250313_7928576_merged.tif (1.3 GB)\n",
      "  - LSX_Planet_trueColor_20250317_7937837_merged.tif (1.0 GB)\n",
      "  - LSX_Planet_trueColor_20250317_7937847_merged.tif (1.5 GB)\n",
      "  - LSX_Planet_trueColor_20250317_7937970_merged.tif (1.3 GB)\n",
      "  - LSX_Planet_trueColor_20250317_7938212_merged.tif (1.4 GB)\n",
      "  - LZK_Planet_trueColor_20250311_7923341_merged.tif (1.1 GB)\n",
      "  - LZK_Planet_trueColor_20250311_7923555_merged.tif (1.0 GB)\n",
      "  - LZK_Planet_trueColor_20250311_7923610_merged.tif (1.3 GB)\n",
      "  - LZK_Planet_trueColor_20250311_7923637_merged.tif (0.9 GB)\n",
      "  - LZK_Planet_trueColor_20250311_7923690_merged.tif (0.8 GB)\n",
      "  - LZK_Planet_trueColor_20250311_7923875_merged.tif (0.5 GB)\n",
      "  - LZK_Planet_trueColor_20250311_7923925_merged.tif (1.1 GB)\n",
      "  - LZK_Planet_trueColor_20250312_7925821_merged.tif (0.5 GB)\n",
      "  - LZK_Planet_trueColor_20250317_7937837_merged.tif (1.0 GB)\n",
      "  - LZK_Planet_trueColor_20250317_7937847_merged.tif (0.6 GB)\n",
      "  - LZK_Planet_trueColor_20250317_7937893_merged.tif (0.4 GB)\n",
      "  - LZK_Planet_trueColor_20250317_7937957_merged.tif (1.0 GB)\n",
      "  - LZK_Planet_trueColor_20250317_7937970_merged.tif (1.0 GB)\n",
      "  - LZK_Planet_trueColor_20250317_7938212_merged.tif (0.5 GB)\n",
      "  - LZK_Planet_trueColor_20250317_7938226_merged.tif (0.8 GB)\n",
      "  - LZK_Planet_trueColor_20250318_7940308_merged.tif (0.5 GB)\n",
      "  - MEG_Planet_trueColor_20250311_7923362_merged.tif (1.1 GB)\n",
      "  - MEG_Planet_trueColor_20250311_7923543_merged.tif (0.5 GB)\n",
      "  - MEG_Planet_trueColor_20250311_7923610_merged.tif (0.7 GB)\n",
      "  - MEG_Planet_trueColor_20250311_7923690_merged.tif (1.3 GB)\n",
      "  - MEG_Planet_trueColor_20250311_7923925_merged.tif (1.1 GB)\n",
      "  - MEG_Planet_trueColor_20250322_7949909_merged.tif (1.0 GB)\n",
      "  - MEG_Planet_trueColor_20250322_7950032_merged.tif (0.3 GB)\n",
      "  - MEG_Planet_trueColor_20250322_7950158_merged.tif (0.4 GB)\n",
      "  - MEG_Planet_trueColor_20250322_7950272_merged.tif (0.8 GB)\n",
      "  - MEG_Planet_trueColor_20250322_7950287_merged.tif (1.1 GB)\n",
      "  - MEG_Planet_trueColor_20250324_7954650_merged.tif (0.6 GB)\n",
      "  - MOB_Planet_trueColor_20250312_7925772_merged.tif (0.5 GB)\n",
      "  - MOB_Planet_trueColor_20250312_7925796_merged.tif (0.8 GB)\n",
      "  - MOB_Planet_trueColor_20250316_7935357_merged.tif (0.5 GB)\n",
      "  - MOB_Planet_trueColor_20250316_7935506_merged.tif (0.6 GB)\n",
      "  - MOB_Planet_trueColor_20250316_7936028_merged.tif (0.3 GB)\n",
      "  - SGF_Planet_trueColor_20250311_7923341_merged.tif (0.3 GB)\n",
      "  - SGF_Planet_trueColor_20250311_7923555_merged.tif (1.3 GB)\n",
      "  - SGF_Planet_trueColor_20250311_7923610_merged.tif (1.0 GB)\n",
      "  - SGF_Planet_trueColor_20250311_7923637_merged.tif (1.2 GB)\n",
      "  - SGF_Planet_trueColor_20250311_7923875_merged.tif (0.8 GB)\n",
      "  - SGF_Planet_trueColor_20250311_7923927_merged.tif (1.2 GB)\n",
      "  - SGF_Planet_trueColor_20250317_7937831_merged.tif (0.5 GB)\n",
      "  - SGF_Planet_trueColor_20250317_7937835_merged.tif (1.0 GB)\n",
      "  - SGF_Planet_trueColor_20250317_7937837_merged.tif (1.0 GB)\n",
      "  - SGF_Planet_trueColor_20250317_7937847_merged.tif (0.6 GB)\n",
      "  - SGF_Planet_trueColor_20250317_7937957_merged.tif (0.7 GB)\n",
      "  - SGF_Planet_trueColor_20250317_7937970_merged.tif (1.0 GB)\n",
      "  - SGF_Planet_trueColor_20250317_7938015_merged.tif (1.3 GB)\n",
      "  - SGF_Planet_trueColor_20250317_7938212_merged.tif (1.1 GB)\n",
      "  - SGF_Planet_trueColor_20250317_7938226_merged.tif (0.5 GB)\n",
      "  - SHV_Planet_trueColor_20250310_7921536_merged.tif (0.5 GB)\n",
      "  - SHV_Planet_trueColor_20250313_7928091_merged.tif (0.5 GB)\n",
      "  - SHV_Planet_trueColor_20250316_7935748_merged.tif (0.5 GB)\n",
      "  - SHV_Planet_trueColor_20250317_7938226_merged.tif (0.5 GB)\n"
     ]
    }
   ],
   "source": [
    "# List all TIF files in the source path\n",
    "if s3_client:\n",
    "    keys = list_s3_files(s3_client, BUCKET, PATH_OLD, suffix='.tif')\n",
    "    print(f\"✅ Found {len(keys)} .tif files in s3://{BUCKET}/{PATH_OLD}\")\n",
    "    \n",
    "    # Show first 5 files as example\n",
    "    if keys:\n",
    "        print(\"\\nFiles:\")\n",
    "        for key in keys:\n",
    "            file_size = get_file_size_from_s3(s3_client, BUCKET, key)\n",
    "            print(f\"  - {os.path.basename(key)} ({file_size:.1f} GB)\")\n",
    "else:\n",
    "    keys = []\n",
    "    print(\"❌ No S3 client available\")"
   ]
  },
  {
   "cell_type": "markdown",
   "metadata": {},
   "source": [
    "## Based on the files that are in the directory, we can now add regex patterns to select specific types of files and move into specific directories"
   ]
  },
  {
   "cell_type": "code",
   "execution_count": 8,
   "metadata": {},
   "outputs": [
    {
     "name": "stdout",
     "output_type": "stream",
     "text": [
      "  - trueColor|truecolor -> drcs_activations_new/Planet/trueColor\n"
     ]
    }
   ],
   "source": [
    "# Product Type Configuration\n",
    "# Define patterns and output directories for different product types\n",
    "# Modify this dictionary to add/remove product types as needed\n",
    "PRODUCT_CONFIGS = {\n",
    "    # Pattern (regex or string): Output directory relative to DIR_NEW_BASE\n",
    "    'trueColor|truecolor': 'Planet/trueColor',  # Multiple patterns with |\n",
    "    # Add more patterns as needed:\n",
    "    # 'SAR': 'Sentinel-1/SAR',\n",
    "    # 'DEM': 'Elevation/DEM',\n",
    "    # 'temperature': 'Climate/Temperature',\n",
    "}\n",
    "\n",
    "\n",
    "for pattern, output_dir in PRODUCT_CONFIGS.items():\n",
    "    print(f\"  - {pattern} -> {DIR_NEW_BASE}/{output_dir}\")"
   ]
  },
  {
   "cell_type": "markdown",
   "metadata": {},
   "source": [
    "## 🔧 No-Data Value Configuration\n",
    "\n",
    "Configure how no-data values are handled during processing:"
   ]
  },
  {
   "cell_type": "code",
   "execution_count": 9,
   "metadata": {},
   "outputs": [
    {
     "name": "stdout",
     "output_type": "stream",
     "text": [
      "✅ No-data configuration loaded\n",
      "Auto no-data: True\n",
      "Manual overrides configured: 0\n"
     ]
    }
   ],
   "source": [
    "# ========================================\n",
    "# NO-DATA VALUE CONFIGURATION\n",
    "# ========================================\n",
    "\n",
    "# Automatic no-data detection\n",
    "USE_AUTO_NODATA = True  # Automatically select appropriate no-data values\n",
    "\n",
    "# Manual no-data values per product type\n",
    "# Set to None to use automatic detection for that product\n",
    "MANUAL_NODATA_VALUES = {\n",
    "    'NDVI': None,       # e.g., -9999 for NDVI\n",
    "    'MNDWI': None,      # e.g., -9999 for MNDWI  \n",
    "    'trueColor_or_truecolor': None,  # e.g., 0 for RGB images\n",
    "    # Add more as needed\n",
    "}\n",
    "\n",
    "# Analysis configuration\n",
    "ANALYZE_BEFORE_PROCESSING = True  # Analyze files to determine min/max before processing\n",
    "VALIDATE_NODATA = True           # Validate that no-data values don't conflict with actual data\n",
    "SHOW_ANALYSIS_REPORT = True      # Display analysis report before processing\n",
    "\n",
    "print(\"✅ No-data configuration loaded\")\n",
    "print(f\"Auto no-data: {USE_AUTO_NODATA}\")\n",
    "print(f\"Manual overrides configured: {sum(v is not None for v in MANUAL_NODATA_VALUES.values())}\")"
   ]
  },
  {
   "cell_type": "code",
   "execution_count": 10,
   "metadata": {},
   "outputs": [
    {
     "name": "stdout",
     "output_type": "stream",
     "text": [
      "trueColor_or_truecolor: 68 files -> Planet/trueColor\n",
      "\n",
      "Total files to process: 68\n"
     ]
    }
   ],
   "source": [
    "# Filter files based on configuration\n",
    "\n",
    "# Filter files by configured patterns\n",
    "files_to_process = {}\n",
    "\n",
    "for pattern, output_dir in PRODUCT_CONFIGS.items():\n",
    "    matching_files = []\n",
    "    for file_path in keys:\n",
    "        # Check if pattern matches the filename\n",
    "        if re.search(pattern, file_path):\n",
    "            matching_files.append(file_path)\n",
    "    \n",
    "    if matching_files:\n",
    "        # Use the pattern as key, but clean it for display\n",
    "        clean_name = pattern.replace('|', '_or_')\n",
    "        files_to_process[clean_name] = {\n",
    "            'files': matching_files,\n",
    "            'output_dir': output_dir\n",
    "        }\n",
    "        print(f\"{clean_name}: {len(matching_files)} files -> {output_dir}\")\n",
    "\n",
    "total_files = sum(len(v['files']) for v in files_to_process.values())\n",
    "print(f\"\\nTotal files to process: {total_files}\")\n",
    "\n",
    "# Show summary\n",
    "if not files_to_process:\n",
    "    print(\"⚠️ No files matched the configured patterns!\")"
   ]
  },
  {
   "cell_type": "markdown",
   "metadata": {},
   "source": [
    "## 🏷️ Manual Filename Generation\n",
    "\n",
    "Define custom filename generation for each product type. Modify these functions to match your specific naming conventions."
   ]
  },
  {
   "cell_type": "code",
   "execution_count": 11,
   "metadata": {},
   "outputs": [
    {
     "name": "stdout",
     "output_type": "stream",
     "text": [
      "✅ Filename generation functions defined\n",
      "Available product handlers: ['trueColor']\n"
     ]
    }
   ],
   "source": [
    "def extract_date_from_filename(filename):\n",
    "    \"\"\"Extract date from filename in YYYYMMDD format.\"\"\"\n",
    "    dates = re.findall(r'\\d{8}', filename)\n",
    "    if dates:\n",
    "        # Convert YYYYMMDD to YYYY-MM-DD\n",
    "        date_str = dates[0]\n",
    "        return f\"{date_str[0:4]}-{date_str[4:6]}-{date_str[6:8]}\"\n",
    "    return None\n",
    "\n",
    "\n",
    "def create_truecolor_filename(original_path, event_name):\n",
    "    \"\"\"\n",
    "    Create filename for trueColor products.\n",
    "    Example: LC08_trueColor_20240715_15547_016038.tif -> 202407_EventName_LC08_trueColor_15547_016038_2024-07-15_day.tif\n",
    "    \"\"\"\n",
    "    filename = os.path.basename(original_path)\n",
    "    stem = os.path.splitext(filename)[0]\n",
    "    \n",
    "    # Extract date\n",
    "    date = extract_date_from_filename(stem)\n",
    "    \n",
    "    if date:\n",
    "        # Remove only the date (YYYYMMDD) but keep time and other parts\n",
    "        stem_clean = re.sub(r'_\\d{8}', '', stem)\n",
    "        cog_filename = f\"{event_name}_{stem_clean}_{date}_day.tif\"\n",
    "    else:\n",
    "        cog_filename = f\"{event_name}_{stem}_day.tif\"\n",
    "    \n",
    "    return cog_filename\n",
    "\n",
    "def create_generic_filename(original_path, event_name):\n",
    "    \"\"\"\n",
    "    Create generic filename for any product type.\n",
    "    Removes only date from middle but keeps time, then adds formatted date with _day suffix.\n",
    "    \"\"\"\n",
    "    filename = os.path.basename(original_path)\n",
    "    stem = os.path.splitext(filename)[0]\n",
    "    \n",
    "    # Extract date\n",
    "    date = extract_date_from_filename(stem)\n",
    "    \n",
    "    if date:\n",
    "        # Remove only the date (YYYYMMDD) but keep time and other parts\n",
    "        stem_clean = re.sub(r'_\\d{8}', '', stem)\n",
    "        cog_filename = f\"{event_name}_{stem_clean}_{date}_day.tif\"\n",
    "    else:\n",
    "        cog_filename = f\"{event_name}_{stem}_day.tif\"\n",
    "    \n",
    "    return cog_filename\n",
    "\n",
    "\n",
    "# Mapping of product types to their filename creators\n",
    "FILENAME_CREATORS = {\n",
    "    'trueColor': create_truecolor_filename,\n",
    "    # Add more mappings as needed:\n",
    "    # 'SAR': create_sar_filename,\n",
    "    # 'DEM': create_dem_filename,\n",
    "}\n",
    "\n",
    "print(\"✅ Filename generation functions defined\")\n",
    "print(\"Available product handlers:\", list(FILENAME_CREATORS.keys()))"
   ]
  },
  {
   "cell_type": "markdown",
   "metadata": {},
   "source": [
    "## 📝 Preview Filename Transformations\n",
    "\n",
    "Review how your files will be renamed before processing begins:"
   ]
  },
  {
   "cell_type": "code",
   "execution_count": 12,
   "metadata": {},
   "outputs": [
    {
     "name": "stdout",
     "output_type": "stream",
     "text": [
      "================================================================================\n",
      "📋 FILENAME TRANSFORMATION PREVIEW\n",
      "================================================================================\n",
      "\n",
      "🔹 trueColor_or_truecolor Files:\n",
      "------------------------------------------------------------\n",
      "  Original:  LIX_Planet_trueColor_20250301_7899853_merged.tif\n",
      "  → New:     202503_SevereWx_US_LIX_Planet_trueColor_7899853_merged_2025-03-01_day.tif\n",
      "\n",
      "  Original:  LIX_Planet_trueColor_20250311_7923427_merged.tif\n",
      "  → New:     202503_SevereWx_US_LIX_Planet_trueColor_7923427_merged_2025-03-11_day.tif\n",
      "\n",
      "  Original:  LIX_Planet_trueColor_20250311_7923683_merged.tif\n",
      "  → New:     202503_SevereWx_US_LIX_Planet_trueColor_7923683_merged_2025-03-11_day.tif\n",
      "\n",
      "  ... and 65 more files\n",
      "\n",
      "\n",
      "================================================================================\n",
      "✅ Review the filename transformations above.\n",
      "   If you need to adjust the naming pattern, modify the\n",
      "   create_*_filename() functions in the previous cell.\n",
      "================================================================================\n"
     ]
    }
   ],
   "source": [
    "# Preview filename transformations for each product type\n",
    "print(\"=\" * 80)\n",
    "print(\"📋 FILENAME TRANSFORMATION PREVIEW\")\n",
    "print(\"=\" * 80)\n",
    "\n",
    "# Show sample transformations for each product type\n",
    "for product_name, product_info in files_to_process.items():\n",
    "    print(f\"\\n🔹 {product_name} Files:\")\n",
    "    print(\"-\" * 60)\n",
    "    \n",
    "    # Get the appropriate filename creator\n",
    "    filename_creator = FILENAME_CREATORS.get(product_name, create_generic_filename)\n",
    "    \n",
    "    # Show first 3 files as examples (or all if less than 3)\n",
    "    sample_files = product_info['files'][:min(3, len(product_info['files']))]\n",
    "    \n",
    "    for file_path in sample_files:\n",
    "        original = os.path.basename(file_path)\n",
    "        transformed = filename_creator(file_path, EVENT_NAME)\n",
    "        \n",
    "        print(f\"  Original:  {original}\")\n",
    "        print(f\"  → New:     {transformed}\")\n",
    "        print()\n",
    "    \n",
    "    # Show count of remaining files\n",
    "    remaining = len(product_info['files']) - len(sample_files)\n",
    "    if remaining > 0:\n",
    "        print(f\"  ... and {remaining} more files\")\n",
    "        print()\n",
    "\n",
    "# Ask for confirmation\n",
    "print(\"\\n\" + \"=\" * 80)\n",
    "print(\"✅ Review the filename transformations above.\")\n",
    "print(\"   If you need to adjust the naming pattern, modify the\")\n",
    "print(\"   create_*_filename() functions in the previous cell.\")\n",
    "print(\"=\" * 80)"
   ]
  },
  {
   "cell_type": "code",
   "execution_count": 13,
   "metadata": {},
   "outputs": [
    {
     "name": "stdout",
     "output_type": "stream",
     "text": [
      "================================================================================\n",
      "🗂️  S3 DESTINATION PATHS PREVIEW\n",
      "================================================================================\n",
      "\n",
      "🔸 trueColor_or_truecolor files will be saved to:\n",
      "   s3://nasa-disasters/drcs_activations_new/Planet/trueColor/\n",
      "\n",
      "   Example full S3 path:\n",
      "   s3://nasa-disasters/drcs_activations_new/Planet/trueColor/202503_SevereWx_US_LIX_Planet_trueColor_7899853_merged_2025-03-01_day.tif\n",
      "\n",
      "================================================================================\n",
      "📊 PROCESSING SUMMARY\n",
      "================================================================================\n",
      "Total files to process: 68\n",
      "Event name: 202503_SevereWx_US\n",
      "Source bucket: s3://nasa-disasters/drcs_activations/202503_SevereWx_US/planet\n",
      "Destination base: s3://nasa-disasters/drcs_activations_new/\n",
      "\n",
      "Product breakdown:\n",
      "  • trueColor_or_truecolor: 68 files\n",
      "================================================================================\n"
     ]
    }
   ],
   "source": [
    "# Preview S3 destination paths\n",
    "print(\"=\" * 80)\n",
    "print(\"🗂️  S3 DESTINATION PATHS PREVIEW\")\n",
    "print(\"=\" * 80)\n",
    "\n",
    "for product_name, product_info in files_to_process.items():\n",
    "    output_dir = product_info['output_dir']\n",
    "    print(f\"\\n🔸 {product_name} files will be saved to:\")\n",
    "    print(f\"   s3://{BUCKET}/{DIR_NEW_BASE}/{output_dir}/\")\n",
    "    \n",
    "    # Show one example with full path\n",
    "    if product_info['files']:\n",
    "        filename_creator = FILENAME_CREATORS.get(product_name, create_generic_filename)\n",
    "        sample_file = product_info['files'][0]\n",
    "        sample_filename = filename_creator(sample_file, EVENT_NAME)\n",
    "        \n",
    "        print(f\"\\n   Example full S3 path:\")\n",
    "        print(f\"   s3://{BUCKET}/{DIR_NEW_BASE}/{output_dir}/{sample_filename}\")\n",
    "\n",
    "print(\"\\n\" + \"=\" * 80)\n",
    "print(\"📊 PROCESSING SUMMARY\")\n",
    "print(\"=\" * 80)\n",
    "print(f\"Total files to process: {total_files}\")\n",
    "print(f\"Event name: {EVENT_NAME}\")\n",
    "print(f\"Source bucket: s3://{BUCKET}/{PATH_OLD}\")\n",
    "print(f\"Destination base: s3://{BUCKET}/{DIR_NEW_BASE}/\")\n",
    "print(\"\\nProduct breakdown:\")\n",
    "for product_name, product_info in files_to_process.items():\n",
    "    print(f\"  • {product_name}: {len(product_info['files'])} files\")\n",
    "print(\"=\" * 80)"
   ]
  },
  {
   "cell_type": "code",
   "execution_count": 14,
   "metadata": {},
   "outputs": [
    {
     "name": "stdout",
     "output_type": "stream",
     "text": [
      "✅ Processing functions updated with overwrite and verification support\n"
     ]
    }
   ],
   "source": [
    "def process_files_by_type(file_list, product_name, output_dir, event_name, s3_client):\n",
    "    \"\"\"\n",
    "    Process a list of files for a specific product type.\n",
    "    \n",
    "    Args:\n",
    "        file_list: List of S3 keys to process\n",
    "        product_name: Name/identifier for this batch of files (e.g., 'NDVI', 'MNDWI', 'trueColor_or_truecolor')\n",
    "        output_dir: Target output directory\n",
    "        event_name: Event name for output naming\n",
    "        s3_client: S3 client\n",
    "    \n",
    "    Returns:\n",
    "        DataFrame with processing results\n",
    "    \"\"\"\n",
    "    # Import convert_to_cog here to ensure it's available\n",
    "    from main_processor import convert_to_cog\n",
    "    \n",
    "    if not file_list:\n",
    "        return pd.DataFrame()\n",
    "    \n",
    "    print(f\"\\n{'='*60}\")\n",
    "    print(f\"🚀 Processing {product_name}\")\n",
    "    print(f\"{'='*60}\")\n",
    "    \n",
    "    # Configuration for batch processing\n",
    "    config = {\n",
    "        'raw_data_bucket': BUCKET,\n",
    "        'raw_data_prefix': PATH_OLD,\n",
    "        'cog_data_bucket': BUCKET,\n",
    "        'cog_data_prefix': f'{DIR_NEW_BASE}/{output_dir}',\n",
    "        'local_output_dir': f'output/{event_name}/{product_name}' if SAVE_LOCAL else None\n",
    "    }\n",
    "    \n",
    "    print_status(f\"{product_name} Processing Configuration\", config)\n",
    "    \n",
    "    # Get the appropriate filename creator for this product type\n",
    "    filename_creator = FILENAME_CREATORS.get(product_name, create_generic_filename)\n",
    "    \n",
    "    # Get manual no-data value for this product type\n",
    "    manual_nodata = MANUAL_NODATA_VALUES.get(product_name)\n",
    "    if manual_nodata is not None:\n",
    "        print(f\"   📌 Using manual no-data value: {manual_nodata}\")\n",
    "    else:\n",
    "        print(f\"   🔄 Using automatic no-data selection\")\n",
    "    \n",
    "    # Show overwrite status\n",
    "    if OVERWRITE_EXISTING:\n",
    "        print(f\"   ♻️  OVERWRITE MODE: Existing files will be replaced\")\n",
    "    else:\n",
    "        print(f\"   ⏭️  SKIP MODE: Existing files will be skipped\")\n",
    "    \n",
    "    # Create local output directory if needed\n",
    "    if SAVE_LOCAL and config['local_output_dir']:\n",
    "        os.makedirs(config['local_output_dir'], exist_ok=True)\n",
    "    \n",
    "    # Process each file\n",
    "    results = []\n",
    "    verification_queue = []  # Files to verify after processing\n",
    "    \n",
    "    for file_path in tqdm(file_list, desc=f\"Processing {product_name}\"):\n",
    "        start_time = datetime.now()\n",
    "        \n",
    "        try:\n",
    "            # Generate COG filename manually using the appropriate function\n",
    "            cog_filename = filename_creator(file_path, event_name)\n",
    "            \n",
    "            # Check if file already exists\n",
    "            output_key = f\"{config['cog_data_prefix']}/{cog_filename}\"\n",
    "            file_exists = check_s3_file_exists(s3_client, config['cog_data_bucket'], output_key)\n",
    "            \n",
    "            # Handle existing files based on OVERWRITE_EXISTING flag\n",
    "            if file_exists and not OVERWRITE_EXISTING:\n",
    "                print(f\"   ⏭️  Skipping {os.path.basename(file_path)} - already exists\")\n",
    "                results.append({\n",
    "                    'original_file': file_path,\n",
    "                    'output_file': cog_filename,\n",
    "                    'status': 'skipped',\n",
    "                    'reason': 'File already exists',\n",
    "                    'processing_time_s': 0,\n",
    "                    'timestamp': datetime.now().isoformat()\n",
    "                })\n",
    "                continue\n",
    "            elif file_exists and OVERWRITE_EXISTING:\n",
    "                print(f\"   ♻️  Overwriting existing file: {cog_filename}\")\n",
    "            \n",
    "            print(f\"\\n📄 Processing: {os.path.basename(file_path)}\")\n",
    "            print(f\"   → Output: {cog_filename}\")\n",
    "            \n",
    "            # Get file size to determine configuration\n",
    "            file_size_gb = get_file_size_from_s3(s3_client, BUCKET, file_path)\n",
    "            \n",
    "            # Select configuration based on size\n",
    "            if file_size_gb > ULTRA_LARGE_THRESHOLD:\n",
    "                print(f\"   📦 Ultra-large file ({file_size_gb:.1f} GB), using fixed 128x128 chunks\")\n",
    "            elif file_size_gb > LARGE_FILE_THRESHOLD:\n",
    "                print(f\"   📦 Large file ({file_size_gb:.1f} GB), using fixed 256x256 chunks\")\n",
    "            else:\n",
    "                print(f\"   📦 Standard file ({file_size_gb:.1f} GB), using adaptive chunks\")\n",
    "            \n",
    "            # Get chunk configuration\n",
    "            chunk_config = get_chunk_config(\n",
    "                file_size_gb=file_size_gb,\n",
    "                memory_limit_mb=MEMORY_LIMIT_MB\n",
    "            )\n",
    "            \n",
    "            # Override streaming setting\n",
    "            chunk_config['use_streaming'] = USE_STREAMING\n",
    "            \n",
    "            # Call main processor with manual no-data if configured\n",
    "            result = convert_to_cog(\n",
    "                name=file_path,\n",
    "                bucket=BUCKET,\n",
    "                cog_filename=cog_filename,\n",
    "                cog_data_bucket=config['cog_data_bucket'],\n",
    "                cog_data_prefix=config['cog_data_prefix'],\n",
    "                s3_client=s3_client,\n",
    "                local_output_dir=config['local_output_dir'],\n",
    "                chunk_config=chunk_config,\n",
    "                manual_nodata=manual_nodata,  # Pass manual no-data value\n",
    "                overwrite=OVERWRITE_EXISTING  # Pass overwrite flag\n",
    "            )\n",
    "            \n",
    "            results.append({\n",
    "                'original_file': file_path,\n",
    "                'output_file': cog_filename,\n",
    "                'output_key': output_key,\n",
    "                'status': 'success',\n",
    "                'result': result,\n",
    "                'processing_time_s': (datetime.now() - start_time).total_seconds(),\n",
    "                'timestamp': datetime.now().isoformat()\n",
    "            })\n",
    "            \n",
    "            # Add to verification queue if enabled\n",
    "            if VERIFY_PROCESSING and len(verification_queue) < VERIFICATION_SAMPLE_SIZE:\n",
    "                verification_queue.append({\n",
    "                    'input_key': file_path,\n",
    "                    'output_key': output_key,\n",
    "                    'filename': cog_filename\n",
    "                })\n",
    "            \n",
    "            print(f\"   ✅ Successfully processed in {(datetime.now() - start_time).total_seconds():.1f}s\")\n",
    "            \n",
    "        except Exception as e:\n",
    "            results.append({\n",
    "                'original_file': file_path,\n",
    "                'output_file': cog_filename if 'cog_filename' in locals() else None,\n",
    "                'status': 'failed',\n",
    "                'error': str(e),\n",
    "                'processing_time_s': (datetime.now() - start_time).total_seconds(),\n",
    "                'timestamp': datetime.now().isoformat()\n",
    "            })\n",
    "            \n",
    "            print(f\"   ❌ Error processing {file_path}: {e}\")\n",
    "            if VERBOSE:\n",
    "                import traceback\n",
    "                traceback.print_exc()\n",
    "    \n",
    "    # Create results DataFrame\n",
    "    results_df = pd.DataFrame(results)\n",
    "    \n",
    "    # Monitor results\n",
    "    monitor_batch_progress(results_df)\n",
    "    \n",
    "    # Run verification if enabled\n",
    "    if VERIFY_PROCESSING and verification_queue:\n",
    "        print(f\"\\n🔍 Verifying {len(verification_queue)} processed files...\")\n",
    "        verification_dir = os.path.join(VERIFICATION_DIR, product_name)\n",
    "        os.makedirs(verification_dir, exist_ok=True)\n",
    "        \n",
    "        from tools.verification import verify_s3_files, create_verification_report\n",
    "        \n",
    "        verification_results = []\n",
    "        for item in verification_queue:\n",
    "            try:\n",
    "                result = verify_s3_files(\n",
    "                    BUCKET, item['input_key'],\n",
    "                    BUCKET, item['output_key'],\n",
    "                    verification_dir, s3_client\n",
    "                )\n",
    "                verification_results.append(result)\n",
    "                print(f\"   ✓ Verified: {item['filename']}\")\n",
    "            except Exception as e:\n",
    "                print(f\"   ✗ Verification failed for {item['filename']}: {e}\")\n",
    "        \n",
    "        # Create verification report\n",
    "        if verification_results:\n",
    "            report_path = os.path.join(verification_dir, 'verification_report.json')\n",
    "            create_verification_report(verification_results, report_path)\n",
    "    \n",
    "    # Save results if requested\n",
    "    if SAVE_METADATA and not results_df.empty and config['local_output_dir']:\n",
    "        csv_filename = f\"{config['local_output_dir']}/processing_results_{product_name}_{datetime.now().strftime('%Y%m%d_%H%M%S')}.csv\"\n",
    "        results_df.to_csv(csv_filename, index=False)\n",
    "        print(f\"\\n📊 Results saved to: {csv_filename}\")\n",
    "    \n",
    "    return results_df\n",
    "\n",
    "print(\"✅ Processing functions updated with overwrite and verification support\")"
   ]
  },
  {
   "cell_type": "markdown",
   "metadata": {},
   "source": [
    "## 🚀 Execute Processing"
   ]
  },
  {
   "cell_type": "code",
   "execution_count": 15,
   "metadata": {},
   "outputs": [
    {
     "name": "stdout",
     "output_type": "stream",
     "text": [
      "Starting processing at 2025-09-27 03:08:27\n",
      "Memory usage at start: 226.0 MB\n"
     ]
    }
   ],
   "source": [
    "# Initialize results storage\n",
    "all_results = []\n",
    "processing_start = datetime.now()\n",
    "\n",
    "print(f\"Starting processing at {processing_start.strftime('%Y-%m-%d %H:%M:%S')}\")\n",
    "print(f\"Memory usage at start: {get_memory_usage():.1f} MB\")"
   ]
  },
  {
   "cell_type": "code",
   "execution_count": 16,
   "metadata": {},
   "outputs": [
    {
     "name": "stdout",
     "output_type": "stream",
     "text": [
      "\n",
      "============================================================\n",
      "🚀 Processing trueColor_or_truecolor\n",
      "============================================================\n",
      "\n",
      "============================================================\n",
      "trueColor_or_truecolor Processing Configuration\n",
      "============================================================\n",
      "  raw_data_bucket: nasa-disasters\n",
      "  raw_data_prefix: drcs_activations/202503_SevereWx_US/planet\n",
      "  cog_data_bucket: nasa-disasters\n",
      "  cog_data_prefix: drcs_activations_new/Planet/trueColor\n",
      "  local_output_dir: output/202503_SevereWx_US/trueColor_or_truecolor\n",
      "============================================================\n",
      "\n",
      "   🔄 Using automatic no-data selection\n",
      "   ♻️  OVERWRITE MODE: Existing files will be replaced\n"
     ]
    },
    {
     "name": "stderr",
     "output_type": "stream",
     "text": [
      "Processing trueColor_or_truecolor:   0%|          | 0/68 [00:00<?, ?it/s]"
     ]
    },
    {
     "name": "stdout",
     "output_type": "stream",
     "text": [
      "   ♻️  Overwriting existing file: 202503_SevereWx_US_LIX_Planet_trueColor_7899853_merged_2025-03-01_day.tif\n",
      "\n",
      "📄 Processing: LIX_Planet_trueColor_20250301_7899853_merged.tif\n",
      "   → Output: 202503_SevereWx_US_LIX_Planet_trueColor_7899853_merged_2025-03-01_day.tif\n",
      "   📦 Standard file (0.5 GB), using adaptive chunks\n",
      "   [CHECK] Checking if file already exists in S3: s3://nasa-disasters/drcs_activations_new/Planet/trueColor/202503_SevereWx_US_LIX_Planet_trueColor_7899853_merged_2025-03-01_day.tif\n",
      "   [OVERWRITE] File exists but overwrite=True, reprocessing: 202503_SevereWx_US_LIX_Planet_trueColor_7899853_merged_2025-03-01_day.tif\n",
      "   [INFO] File size: 0.5 GB\n",
      "   [TEMP] Using temp directory: /tmp\n",
      "   [MEMORY] Initial: 226.0 MB, Available: 29236.2 MB\n",
      "   [STREAM] Attempting to stream from S3: /vsis3/nasa-disasters/drcs_activations/202503_SevereWx_US/planet/LIX_Planet_trueColor_20250301_7899853_merged.tif\n"
     ]
    },
    {
     "name": "stderr",
     "output_type": "stream",
     "text": [
      "/srv/conda/envs/notebook/lib/python3.12/site-packages/rio_cogeo/profiles.py:182: UserWarning: Non-standard compression schema: zstd. The output COG might not be fully supported by software not build against latest libtiff.\n",
      "  warnings.warn(\n",
      "Reading input: <open WarpedVRT name='WarpedVRT(/vsis3/nasa-disasters/drcs_activations/202503_SevereWx_US/planet/LIX_Planet_trueColor_20250301_7899853_merged.tif)' mode='r'>\n",
      "\n"
     ]
    },
    {
     "name": "stdout",
     "output_type": "stream",
     "text": [
      "   [STREAM] ✅ Successfully opened file via streaming\n",
      "   [OPTIMIZED] Using rio-cogeo for single-pass COG creation\n",
      "   [NODATA] Using existing no-data value: 0.0\n",
      "   [COG] Creating COG with reprojection in single pass...\n"
     ]
    },
    {
     "name": "stderr",
     "output_type": "stream",
     "text": [
      "Adding overviews...\n",
      "Updating dataset tags...\n",
      "Writing output to: cog_202503_SevereWx_US_LIX_Planet_trueColor_7899853_merged_2025-03-01_day.tif\n"
     ]
    },
    {
     "name": "stdout",
     "output_type": "stream",
     "text": [
      "   [COG] ✅ COG created successfully\n",
      "   [VALIDATE] Checking COG validity...\n",
      "   [VALIDATE] ✅ Valid COG\n",
      "   [UPLOAD] Uploading 200.2 MB to s3://nasa-disasters/drcs_activations_new/Planet/trueColor/202503_SevereWx_US_LIX_Planet_trueColor_7899853_merged_2025-03-01_day.tif\n",
      "   [UPLOAD] ✅ Uploaded to s3://nasa-disasters/drcs_activations_new/Planet/trueColor/202503_SevereWx_US_LIX_Planet_trueColor_7899853_merged_2025-03-01_day.tif\n"
     ]
    },
    {
     "name": "stderr",
     "output_type": "stream",
     "text": [
      "Processing trueColor_or_truecolor:   1%|▏         | 1/68 [06:29<7:14:27, 389.07s/it]"
     ]
    },
    {
     "name": "stdout",
     "output_type": "stream",
     "text": [
      "   [LOCAL] Saved to output/202503_SevereWx_US/trueColor_or_truecolor/202503_SevereWx_US_LIX_Planet_trueColor_7899853_merged_2025-03-01_day.tif\n",
      "   [MEMORY] Final: 1500.9 MB (Change: +1274.9 MB)\n",
      "   [TIME] Total processing time: 388.9 seconds\n",
      "   [CLEANUP] Removed: cog_202503_SevereWx_US_LIX_Planet_trueColor_7899853_merged_2025-03-01_day.tif\n",
      "   ✅ Successfully processed in 389.1s\n",
      "\n",
      "📄 Processing: LIX_Planet_trueColor_20250311_7923427_merged.tif\n",
      "   → Output: 202503_SevereWx_US_LIX_Planet_trueColor_7923427_merged_2025-03-11_day.tif\n",
      "   📦 Standard file (0.6 GB), using adaptive chunks\n",
      "   [CHECK] Checking if file already exists in S3: s3://nasa-disasters/drcs_activations_new/Planet/trueColor/202503_SevereWx_US_LIX_Planet_trueColor_7923427_merged_2025-03-11_day.tif\n",
      "   [INFO] File size: 0.6 GB\n",
      "   [TEMP] Using temp directory: /tmp\n",
      "   [MEMORY] Initial: 1500.9 MB, Available: 27951.6 MB\n",
      "   [STREAM] Attempting to stream from S3: /vsis3/nasa-disasters/drcs_activations/202503_SevereWx_US/planet/LIX_Planet_trueColor_20250311_7923427_merged.tif\n"
     ]
    },
    {
     "name": "stderr",
     "output_type": "stream",
     "text": [
      "Reading input: <open WarpedVRT name='WarpedVRT(/vsis3/nasa-disasters/drcs_activations/202503_SevereWx_US/planet/LIX_Planet_trueColor_20250311_7923427_merged.tif)' mode='r'>\n",
      "\n"
     ]
    },
    {
     "name": "stdout",
     "output_type": "stream",
     "text": [
      "   [STREAM] ✅ Successfully opened file via streaming\n",
      "   [OPTIMIZED] Using rio-cogeo for single-pass COG creation\n",
      "   [NODATA] Using existing no-data value: 0.0\n",
      "   [COG] Creating COG with reprojection in single pass...\n"
     ]
    },
    {
     "name": "stderr",
     "output_type": "stream",
     "text": [
      "Adding overviews...\n",
      "Updating dataset tags...\n",
      "Writing output to: cog_202503_SevereWx_US_LIX_Planet_trueColor_7923427_merged_2025-03-11_day.tif\n"
     ]
    },
    {
     "name": "stdout",
     "output_type": "stream",
     "text": [
      "   [COG] ✅ COG created successfully\n",
      "   [VALIDATE] Checking COG validity...\n",
      "   [VALIDATE] ✅ Valid COG\n",
      "   [UPLOAD] Uploading 304.2 MB to s3://nasa-disasters/drcs_activations_new/Planet/trueColor/202503_SevereWx_US_LIX_Planet_trueColor_7923427_merged_2025-03-11_day.tif\n",
      "   [UPLOAD] ✅ Uploaded to s3://nasa-disasters/drcs_activations_new/Planet/trueColor/202503_SevereWx_US_LIX_Planet_trueColor_7923427_merged_2025-03-11_day.tif\n"
     ]
    },
    {
     "name": "stderr",
     "output_type": "stream",
     "text": [
      "Processing trueColor_or_truecolor:   3%|▎         | 2/68 [14:37<8:12:17, 447.54s/it]"
     ]
    },
    {
     "name": "stdout",
     "output_type": "stream",
     "text": [
      "   [LOCAL] Saved to output/202503_SevereWx_US/trueColor_or_truecolor/202503_SevereWx_US_LIX_Planet_trueColor_7923427_merged_2025-03-11_day.tif\n",
      "   [MEMORY] Final: 1549.3 MB (Change: +48.3 MB)\n",
      "   [TIME] Total processing time: 488.3 seconds\n",
      "   [CLEANUP] Removed: cog_202503_SevereWx_US_LIX_Planet_trueColor_7923427_merged_2025-03-11_day.tif\n",
      "   ✅ Successfully processed in 488.5s\n",
      "\n",
      "📄 Processing: LIX_Planet_trueColor_20250311_7923683_merged.tif\n",
      "   → Output: 202503_SevereWx_US_LIX_Planet_trueColor_7923683_merged_2025-03-11_day.tif\n",
      "   📦 Standard file (0.7 GB), using adaptive chunks\n",
      "   [CHECK] Checking if file already exists in S3: s3://nasa-disasters/drcs_activations_new/Planet/trueColor/202503_SevereWx_US_LIX_Planet_trueColor_7923683_merged_2025-03-11_day.tif\n",
      "   [INFO] File size: 0.7 GB\n",
      "   [TEMP] Using temp directory: /tmp\n",
      "   [MEMORY] Initial: 1549.3 MB, Available: 28042.3 MB\n",
      "   [STREAM] Attempting to stream from S3: /vsis3/nasa-disasters/drcs_activations/202503_SevereWx_US/planet/LIX_Planet_trueColor_20250311_7923683_merged.tif\n"
     ]
    },
    {
     "name": "stderr",
     "output_type": "stream",
     "text": [
      "Reading input: <open WarpedVRT name='WarpedVRT(/vsis3/nasa-disasters/drcs_activations/202503_SevereWx_US/planet/LIX_Planet_trueColor_20250311_7923683_merged.tif)' mode='r'>\n",
      "\n"
     ]
    },
    {
     "name": "stdout",
     "output_type": "stream",
     "text": [
      "   [STREAM] ✅ Successfully opened file via streaming\n",
      "   [OPTIMIZED] Using rio-cogeo for single-pass COG creation\n",
      "   [NODATA] Using existing no-data value: 0.0\n",
      "   [COG] Creating COG with reprojection in single pass...\n"
     ]
    },
    {
     "name": "stderr",
     "output_type": "stream",
     "text": [
      "Adding overviews...\n",
      "Updating dataset tags...\n",
      "Writing output to: cog_202503_SevereWx_US_LIX_Planet_trueColor_7923683_merged_2025-03-11_day.tif\n"
     ]
    },
    {
     "name": "stdout",
     "output_type": "stream",
     "text": [
      "   [COG] ✅ COG created successfully\n",
      "   [VALIDATE] Checking COG validity...\n",
      "   [VALIDATE] ✅ Valid COG\n",
      "   [UPLOAD] Uploading 362.4 MB to s3://nasa-disasters/drcs_activations_new/Planet/trueColor/202503_SevereWx_US_LIX_Planet_trueColor_7923683_merged_2025-03-11_day.tif\n",
      "   [UPLOAD] ✅ Uploaded to s3://nasa-disasters/drcs_activations_new/Planet/trueColor/202503_SevereWx_US_LIX_Planet_trueColor_7923683_merged_2025-03-11_day.tif\n"
     ]
    },
    {
     "name": "stderr",
     "output_type": "stream",
     "text": [
      "Processing trueColor_or_truecolor:   4%|▍         | 3/68 [23:54<8:58:48, 497.36s/it]"
     ]
    },
    {
     "name": "stdout",
     "output_type": "stream",
     "text": [
      "   [LOCAL] Saved to output/202503_SevereWx_US/trueColor_or_truecolor/202503_SevereWx_US_LIX_Planet_trueColor_7923683_merged_2025-03-11_day.tif\n",
      "   [MEMORY] Final: 1529.8 MB (Change: -19.5 MB)\n",
      "   [TIME] Total processing time: 556.5 seconds\n",
      "   [CLEANUP] Removed: cog_202503_SevereWx_US_LIX_Planet_trueColor_7923683_merged_2025-03-11_day.tif\n",
      "   ✅ Successfully processed in 556.7s\n",
      "\n",
      "📄 Processing: LIX_Planet_trueColor_20250311_7923805_merged.tif\n",
      "   → Output: 202503_SevereWx_US_LIX_Planet_trueColor_7923805_merged_2025-03-11_day.tif\n",
      "   📦 Standard file (1.3 GB), using adaptive chunks\n",
      "   [CHECK] Checking if file already exists in S3: s3://nasa-disasters/drcs_activations_new/Planet/trueColor/202503_SevereWx_US_LIX_Planet_trueColor_7923805_merged_2025-03-11_day.tif\n",
      "   [INFO] File size: 1.3 GB\n",
      "   [TEMP] Using temp directory: /tmp\n",
      "   [MEMORY] Initial: 1529.8 MB, Available: 28063.0 MB\n",
      "   [STREAM] Attempting to stream from S3: /vsis3/nasa-disasters/drcs_activations/202503_SevereWx_US/planet/LIX_Planet_trueColor_20250311_7923805_merged.tif\n"
     ]
    },
    {
     "name": "stderr",
     "output_type": "stream",
     "text": [
      "Reading input: <open WarpedVRT name='WarpedVRT(/vsis3/nasa-disasters/drcs_activations/202503_SevereWx_US/planet/LIX_Planet_trueColor_20250311_7923805_merged.tif)' mode='r'>\n",
      "\n"
     ]
    },
    {
     "name": "stdout",
     "output_type": "stream",
     "text": [
      "   [STREAM] ✅ Successfully opened file via streaming\n",
      "   [OPTIMIZED] Using rio-cogeo for single-pass COG creation\n",
      "   [NODATA] Using existing no-data value: 0.0\n",
      "   [COG] Creating COG with reprojection in single pass...\n"
     ]
    },
    {
     "name": "stderr",
     "output_type": "stream",
     "text": [
      "Adding overviews...\n",
      "Updating dataset tags...\n",
      "Writing output to: cog_202503_SevereWx_US_LIX_Planet_trueColor_7923805_merged_2025-03-11_day.tif\n"
     ]
    },
    {
     "name": "stdout",
     "output_type": "stream",
     "text": [
      "   [COG] ✅ COG created successfully\n",
      "   [VALIDATE] Checking COG validity...\n",
      "   [VALIDATE] ✅ Valid COG\n",
      "   [UPLOAD] Uploading 592.3 MB to s3://nasa-disasters/drcs_activations_new/Planet/trueColor/202503_SevereWx_US_LIX_Planet_trueColor_7923805_merged_2025-03-11_day.tif\n",
      "   [UPLOAD] ✅ Uploaded to s3://nasa-disasters/drcs_activations_new/Planet/trueColor/202503_SevereWx_US_LIX_Planet_trueColor_7923805_merged_2025-03-11_day.tif\n",
      "   [LOCAL] Saved to output/202503_SevereWx_US/trueColor_or_truecolor/202503_SevereWx_US_LIX_Planet_trueColor_7923805_merged_2025-03-11_day.tif\n",
      "   [MEMORY] Final: 1530.9 MB (Change: +1.1 MB)\n",
      "   [TIME] Total processing time: 975.5 seconds\n",
      "   [CLEANUP] Removed: cog_202503_SevereWx_US_LIX_Planet_trueColor_7923805_merged_2025-03-11_day.tif\n"
     ]
    },
    {
     "name": "stderr",
     "output_type": "stream",
     "text": [
      "Processing trueColor_or_truecolor:   6%|▌         | 4/68 [40:09<12:11:57, 686.21s/it]"
     ]
    },
    {
     "name": "stdout",
     "output_type": "stream",
     "text": [
      "   ✅ Successfully processed in 975.7s\n",
      "\n",
      "📄 Processing: LIX_Planet_trueColor_20250316_7935289_merged.tif\n",
      "   → Output: 202503_SevereWx_US_LIX_Planet_trueColor_7935289_merged_2025-03-16_day.tif\n",
      "   📦 Standard file (0.4 GB), using adaptive chunks\n",
      "   [CHECK] Checking if file already exists in S3: s3://nasa-disasters/drcs_activations_new/Planet/trueColor/202503_SevereWx_US_LIX_Planet_trueColor_7935289_merged_2025-03-16_day.tif\n",
      "   [INFO] File size: 0.4 GB\n",
      "   [TEMP] Using temp directory: /tmp\n",
      "   [MEMORY] Initial: 1530.9 MB, Available: 28064.8 MB\n",
      "   [STREAM] Attempting to stream from S3: /vsis3/nasa-disasters/drcs_activations/202503_SevereWx_US/planet/LIX_Planet_trueColor_20250316_7935289_merged.tif\n"
     ]
    },
    {
     "name": "stderr",
     "output_type": "stream",
     "text": [
      "Reading input: <open WarpedVRT name='WarpedVRT(/vsis3/nasa-disasters/drcs_activations/202503_SevereWx_US/planet/LIX_Planet_trueColor_20250316_7935289_merged.tif)' mode='r'>\n",
      "\n"
     ]
    },
    {
     "name": "stdout",
     "output_type": "stream",
     "text": [
      "   [STREAM] ✅ Successfully opened file via streaming\n",
      "   [OPTIMIZED] Using rio-cogeo for single-pass COG creation\n",
      "   [NODATA] Using existing no-data value: 0.0\n",
      "   [COG] Creating COG with reprojection in single pass...\n"
     ]
    },
    {
     "name": "stderr",
     "output_type": "stream",
     "text": [
      "Adding overviews...\n",
      "Updating dataset tags...\n",
      "Writing output to: cog_202503_SevereWx_US_LIX_Planet_trueColor_7935289_merged_2025-03-16_day.tif\n"
     ]
    },
    {
     "name": "stdout",
     "output_type": "stream",
     "text": [
      "   [COG] ✅ COG created successfully\n",
      "   [VALIDATE] Checking COG validity...\n",
      "   [VALIDATE] ✅ Valid COG\n",
      "   [UPLOAD] Uploading 152.1 MB to s3://nasa-disasters/drcs_activations_new/Planet/trueColor/202503_SevereWx_US_LIX_Planet_trueColor_7935289_merged_2025-03-16_day.tif\n",
      "   [UPLOAD] ✅ Uploaded to s3://nasa-disasters/drcs_activations_new/Planet/trueColor/202503_SevereWx_US_LIX_Planet_trueColor_7935289_merged_2025-03-16_day.tif\n"
     ]
    },
    {
     "name": "stderr",
     "output_type": "stream",
     "text": [
      "Processing trueColor_or_truecolor:   7%|▋         | 5/68 [45:13<9:35:32, 548.14s/it] "
     ]
    },
    {
     "name": "stdout",
     "output_type": "stream",
     "text": [
      "   [LOCAL] Saved to output/202503_SevereWx_US/trueColor_or_truecolor/202503_SevereWx_US_LIX_Planet_trueColor_7935289_merged_2025-03-16_day.tif\n",
      "   [MEMORY] Final: 1531.0 MB (Change: +0.1 MB)\n",
      "   [TIME] Total processing time: 303.1 seconds\n",
      "   [CLEANUP] Removed: cog_202503_SevereWx_US_LIX_Planet_trueColor_7935289_merged_2025-03-16_day.tif\n",
      "   ✅ Successfully processed in 303.3s\n",
      "\n",
      "📄 Processing: LIX_Planet_trueColor_20250316_7935296_merged.tif\n",
      "   → Output: 202503_SevereWx_US_LIX_Planet_trueColor_7935296_merged_2025-03-16_day.tif\n",
      "   📦 Standard file (0.2 GB), using adaptive chunks\n",
      "   [CHECK] Checking if file already exists in S3: s3://nasa-disasters/drcs_activations_new/Planet/trueColor/202503_SevereWx_US_LIX_Planet_trueColor_7935296_merged_2025-03-16_day.tif\n",
      "   [INFO] File size: 0.2 GB\n",
      "   [TEMP] Using temp directory: /tmp\n",
      "   [MEMORY] Initial: 1531.0 MB, Available: 28118.5 MB\n",
      "   [STREAM] Attempting to stream from S3: /vsis3/nasa-disasters/drcs_activations/202503_SevereWx_US/planet/LIX_Planet_trueColor_20250316_7935296_merged.tif\n"
     ]
    },
    {
     "name": "stderr",
     "output_type": "stream",
     "text": [
      "Reading input: <open WarpedVRT name='WarpedVRT(/vsis3/nasa-disasters/drcs_activations/202503_SevereWx_US/planet/LIX_Planet_trueColor_20250316_7935296_merged.tif)' mode='r'>\n",
      "\n"
     ]
    },
    {
     "name": "stdout",
     "output_type": "stream",
     "text": [
      "   [STREAM] ✅ Successfully opened file via streaming\n",
      "   [OPTIMIZED] Using rio-cogeo for single-pass COG creation\n",
      "   [NODATA] Using existing no-data value: 0.0\n",
      "   [COG] Creating COG with reprojection in single pass...\n"
     ]
    },
    {
     "name": "stderr",
     "output_type": "stream",
     "text": [
      "Adding overviews...\n",
      "Updating dataset tags...\n",
      "Writing output to: cog_202503_SevereWx_US_LIX_Planet_trueColor_7935296_merged_2025-03-16_day.tif\n"
     ]
    },
    {
     "name": "stdout",
     "output_type": "stream",
     "text": [
      "   [COG] ✅ COG created successfully\n",
      "   [VALIDATE] Checking COG validity...\n",
      "   [VALIDATE] ✅ Valid COG\n",
      "   [UPLOAD] Uploading 83.2 MB to s3://nasa-disasters/drcs_activations_new/Planet/trueColor/202503_SevereWx_US_LIX_Planet_trueColor_7935296_merged_2025-03-16_day.tif\n",
      "   [UPLOAD] ✅ Uploaded to s3://nasa-disasters/drcs_activations_new/Planet/trueColor/202503_SevereWx_US_LIX_Planet_trueColor_7935296_merged_2025-03-16_day.tif\n"
     ]
    },
    {
     "name": "stderr",
     "output_type": "stream",
     "text": [
      "Processing trueColor_or_truecolor:   9%|▉         | 6/68 [47:56<7:11:10, 417.27s/it]"
     ]
    },
    {
     "name": "stdout",
     "output_type": "stream",
     "text": [
      "   [LOCAL] Saved to output/202503_SevereWx_US/trueColor_or_truecolor/202503_SevereWx_US_LIX_Planet_trueColor_7935296_merged_2025-03-16_day.tif\n",
      "   [MEMORY] Final: 1531.8 MB (Change: +0.8 MB)\n",
      "   [TIME] Total processing time: 163.1 seconds\n",
      "   [CLEANUP] Removed: cog_202503_SevereWx_US_LIX_Planet_trueColor_7935296_merged_2025-03-16_day.tif\n",
      "   ✅ Successfully processed in 163.2s\n",
      "\n",
      "📄 Processing: LIX_Planet_trueColor_20250318_7940625_merged.tif\n",
      "   → Output: 202503_SevereWx_US_LIX_Planet_trueColor_7940625_merged_2025-03-18_day.tif\n",
      "   📦 Standard file (0.9 GB), using adaptive chunks\n",
      "   [CHECK] Checking if file already exists in S3: s3://nasa-disasters/drcs_activations_new/Planet/trueColor/202503_SevereWx_US_LIX_Planet_trueColor_7940625_merged_2025-03-18_day.tif\n",
      "   [INFO] File size: 0.9 GB\n",
      "   [TEMP] Using temp directory: /tmp\n",
      "   [MEMORY] Initial: 1531.8 MB, Available: 28121.1 MB\n",
      "   [STREAM] Attempting to stream from S3: /vsis3/nasa-disasters/drcs_activations/202503_SevereWx_US/planet/LIX_Planet_trueColor_20250318_7940625_merged.tif\n"
     ]
    },
    {
     "name": "stderr",
     "output_type": "stream",
     "text": [
      "Reading input: <open WarpedVRT name='WarpedVRT(/vsis3/nasa-disasters/drcs_activations/202503_SevereWx_US/planet/LIX_Planet_trueColor_20250318_7940625_merged.tif)' mode='r'>\n",
      "\n"
     ]
    },
    {
     "name": "stdout",
     "output_type": "stream",
     "text": [
      "   [STREAM] ✅ Successfully opened file via streaming\n",
      "   [OPTIMIZED] Using rio-cogeo for single-pass COG creation\n",
      "   [NODATA] Using existing no-data value: 0.0\n",
      "   [COG] Creating COG with reprojection in single pass...\n"
     ]
    },
    {
     "name": "stderr",
     "output_type": "stream",
     "text": [
      "Adding overviews...\n",
      "Updating dataset tags...\n",
      "Writing output to: cog_202503_SevereWx_US_LIX_Planet_trueColor_7940625_merged_2025-03-18_day.tif\n"
     ]
    },
    {
     "name": "stdout",
     "output_type": "stream",
     "text": [
      "   [COG] ✅ COG created successfully\n",
      "   [VALIDATE] Checking COG validity...\n",
      "   [VALIDATE] ✅ Valid COG\n",
      "   [UPLOAD] Uploading 395.9 MB to s3://nasa-disasters/drcs_activations_new/Planet/trueColor/202503_SevereWx_US_LIX_Planet_trueColor_7940625_merged_2025-03-18_day.tif\n",
      "   [UPLOAD] ✅ Uploaded to s3://nasa-disasters/drcs_activations_new/Planet/trueColor/202503_SevereWx_US_LIX_Planet_trueColor_7940625_merged_2025-03-18_day.tif\n",
      "   [LOCAL] Saved to output/202503_SevereWx_US/trueColor_or_truecolor/202503_SevereWx_US_LIX_Planet_trueColor_7940625_merged_2025-03-18_day.tif\n",
      "   [MEMORY] Final: 1533.0 MB (Change: +1.2 MB)\n",
      "   [TIME] Total processing time: 663.6 seconds\n",
      "   [CLEANUP] Removed: cog_202503_SevereWx_US_LIX_Planet_trueColor_7940625_merged_2025-03-18_day.tif\n"
     ]
    },
    {
     "name": "stderr",
     "output_type": "stream",
     "text": [
      "Processing trueColor_or_truecolor:  10%|█         | 7/68 [59:00<8:26:11, 497.89s/it]"
     ]
    },
    {
     "name": "stdout",
     "output_type": "stream",
     "text": [
      "   ✅ Successfully processed in 663.9s\n",
      "\n",
      "📄 Processing: LIX_Planet_trueColor_20250318_7940629_merged.tif\n",
      "   → Output: 202503_SevereWx_US_LIX_Planet_trueColor_7940629_merged_2025-03-18_day.tif\n",
      "   📦 Standard file (1.4 GB), using adaptive chunks\n",
      "   [CHECK] Checking if file already exists in S3: s3://nasa-disasters/drcs_activations_new/Planet/trueColor/202503_SevereWx_US_LIX_Planet_trueColor_7940629_merged_2025-03-18_day.tif\n",
      "   [INFO] File size: 1.4 GB\n",
      "   [TEMP] Using temp directory: /tmp\n",
      "   [MEMORY] Initial: 1533.0 MB, Available: 28116.2 MB\n",
      "   [STREAM] Attempting to stream from S3: /vsis3/nasa-disasters/drcs_activations/202503_SevereWx_US/planet/LIX_Planet_trueColor_20250318_7940629_merged.tif\n"
     ]
    },
    {
     "name": "stderr",
     "output_type": "stream",
     "text": [
      "Reading input: <open WarpedVRT name='WarpedVRT(/vsis3/nasa-disasters/drcs_activations/202503_SevereWx_US/planet/LIX_Planet_trueColor_20250318_7940629_merged.tif)' mode='r'>\n",
      "\n"
     ]
    },
    {
     "name": "stdout",
     "output_type": "stream",
     "text": [
      "   [STREAM] ✅ Successfully opened file via streaming\n",
      "   [OPTIMIZED] Using rio-cogeo for single-pass COG creation\n",
      "   [NODATA] Using existing no-data value: 0.0\n",
      "   [COG] Creating COG with reprojection in single pass...\n"
     ]
    },
    {
     "name": "stderr",
     "output_type": "stream",
     "text": [
      "Adding overviews...\n",
      "Updating dataset tags...\n",
      "Writing output to: cog_202503_SevereWx_US_LIX_Planet_trueColor_7940629_merged_2025-03-18_day.tif\n"
     ]
    },
    {
     "name": "stdout",
     "output_type": "stream",
     "text": [
      "   [COG] ✅ COG created successfully\n",
      "   [VALIDATE] Checking COG validity...\n",
      "   [VALIDATE] ✅ Valid COG\n",
      "   [UPLOAD] Uploading 665.8 MB to s3://nasa-disasters/drcs_activations_new/Planet/trueColor/202503_SevereWx_US_LIX_Planet_trueColor_7940629_merged_2025-03-18_day.tif\n",
      "   [UPLOAD] ✅ Uploaded to s3://nasa-disasters/drcs_activations_new/Planet/trueColor/202503_SevereWx_US_LIX_Planet_trueColor_7940629_merged_2025-03-18_day.tif\n",
      "   [LOCAL] Saved to output/202503_SevereWx_US/trueColor_or_truecolor/202503_SevereWx_US_LIX_Planet_trueColor_7940629_merged_2025-03-18_day.tif\n",
      "   [MEMORY] Final: 1748.9 MB (Change: +215.9 MB)\n",
      "   [TIME] Total processing time: 1135.8 seconds\n",
      "   [CLEANUP] Removed: cog_202503_SevereWx_US_LIX_Planet_trueColor_7940629_merged_2025-03-18_day.tif\n"
     ]
    },
    {
     "name": "stderr",
     "output_type": "stream",
     "text": [
      "Processing trueColor_or_truecolor:  12%|█▏        | 8/68 [1:17:56<11:41:04, 701.07s/it]"
     ]
    },
    {
     "name": "stdout",
     "output_type": "stream",
     "text": [
      "   ✅ Successfully processed in 1136.1s\n",
      "\n",
      "📄 Processing: LIX_Planet_trueColor_20250318_7941250_merged.tif\n",
      "   → Output: 202503_SevereWx_US_LIX_Planet_trueColor_7941250_merged_2025-03-18_day.tif\n",
      "   📦 Standard file (0.7 GB), using adaptive chunks\n",
      "   [CHECK] Checking if file already exists in S3: s3://nasa-disasters/drcs_activations_new/Planet/trueColor/202503_SevereWx_US_LIX_Planet_trueColor_7941250_merged_2025-03-18_day.tif\n",
      "   [INFO] File size: 0.7 GB\n",
      "   [TEMP] Using temp directory: /tmp\n",
      "   [MEMORY] Initial: 1748.9 MB, Available: 27900.3 MB\n",
      "   [STREAM] Attempting to stream from S3: /vsis3/nasa-disasters/drcs_activations/202503_SevereWx_US/planet/LIX_Planet_trueColor_20250318_7941250_merged.tif\n"
     ]
    },
    {
     "name": "stderr",
     "output_type": "stream",
     "text": [
      "Reading input: <open WarpedVRT name='WarpedVRT(/vsis3/nasa-disasters/drcs_activations/202503_SevereWx_US/planet/LIX_Planet_trueColor_20250318_7941250_merged.tif)' mode='r'>\n",
      "\n"
     ]
    },
    {
     "name": "stdout",
     "output_type": "stream",
     "text": [
      "   [STREAM] ✅ Successfully opened file via streaming\n",
      "   [OPTIMIZED] Using rio-cogeo for single-pass COG creation\n",
      "   [NODATA] Using existing no-data value: 0.0\n",
      "   [COG] Creating COG with reprojection in single pass...\n"
     ]
    },
    {
     "name": "stderr",
     "output_type": "stream",
     "text": [
      "Adding overviews...\n",
      "Updating dataset tags...\n",
      "Writing output to: cog_202503_SevereWx_US_LIX_Planet_trueColor_7941250_merged_2025-03-18_day.tif\n"
     ]
    },
    {
     "name": "stdout",
     "output_type": "stream",
     "text": [
      "   [COG] ✅ COG created successfully\n",
      "   [VALIDATE] Checking COG validity...\n",
      "   [VALIDATE] ✅ Valid COG\n",
      "   [UPLOAD] Uploading 370.3 MB to s3://nasa-disasters/drcs_activations_new/Planet/trueColor/202503_SevereWx_US_LIX_Planet_trueColor_7941250_merged_2025-03-18_day.tif\n",
      "   [UPLOAD] ✅ Uploaded to s3://nasa-disasters/drcs_activations_new/Planet/trueColor/202503_SevereWx_US_LIX_Planet_trueColor_7941250_merged_2025-03-18_day.tif\n",
      "   [LOCAL] Saved to output/202503_SevereWx_US/trueColor_or_truecolor/202503_SevereWx_US_LIX_Planet_trueColor_7941250_merged_2025-03-18_day.tif\n",
      "   [MEMORY] Final: 1743.3 MB (Change: -5.7 MB)\n",
      "   [TIME] Total processing time: 585.7 seconds\n",
      "   [CLEANUP] Removed: cog_202503_SevereWx_US_LIX_Planet_trueColor_7941250_merged_2025-03-18_day.tif\n"
     ]
    },
    {
     "name": "stderr",
     "output_type": "stream",
     "text": [
      "Processing trueColor_or_truecolor:  13%|█▎        | 9/68 [1:27:42<10:53:59, 665.08s/it]"
     ]
    },
    {
     "name": "stdout",
     "output_type": "stream",
     "text": [
      "   ✅ Successfully processed in 586.0s\n",
      "\n",
      "📄 Processing: LSX_Planet_trueColor_20250313_7928028_merged.tif\n",
      "   → Output: 202503_SevereWx_US_LSX_Planet_trueColor_7928028_merged_2025-03-13_day.tif\n",
      "   📦 Standard file (1.1 GB), using adaptive chunks\n",
      "   [CHECK] Checking if file already exists in S3: s3://nasa-disasters/drcs_activations_new/Planet/trueColor/202503_SevereWx_US_LSX_Planet_trueColor_7928028_merged_2025-03-13_day.tif\n",
      "   [INFO] File size: 1.1 GB\n",
      "   [TEMP] Using temp directory: /tmp\n",
      "   [MEMORY] Initial: 1743.3 MB, Available: 27906.9 MB\n",
      "   [STREAM] Attempting to stream from S3: /vsis3/nasa-disasters/drcs_activations/202503_SevereWx_US/planet/LSX_Planet_trueColor_20250313_7928028_merged.tif\n"
     ]
    },
    {
     "name": "stderr",
     "output_type": "stream",
     "text": [
      "Reading input: <open WarpedVRT name='WarpedVRT(/vsis3/nasa-disasters/drcs_activations/202503_SevereWx_US/planet/LSX_Planet_trueColor_20250313_7928028_merged.tif)' mode='r'>\n",
      "\n"
     ]
    },
    {
     "name": "stdout",
     "output_type": "stream",
     "text": [
      "   [STREAM] ✅ Successfully opened file via streaming\n",
      "   [OPTIMIZED] Using rio-cogeo for single-pass COG creation\n",
      "   [NODATA] Using existing no-data value: 0.0\n",
      "   [COG] Creating COG with reprojection in single pass...\n"
     ]
    },
    {
     "name": "stderr",
     "output_type": "stream",
     "text": [
      "Adding overviews...\n",
      "Updating dataset tags...\n",
      "Writing output to: cog_202503_SevereWx_US_LSX_Planet_trueColor_7928028_merged_2025-03-13_day.tif\n"
     ]
    },
    {
     "name": "stdout",
     "output_type": "stream",
     "text": [
      "   [COG] ✅ COG created successfully\n",
      "   [VALIDATE] Checking COG validity...\n",
      "   [VALIDATE] ✅ Valid COG\n",
      "   [UPLOAD] Uploading 485.8 MB to s3://nasa-disasters/drcs_activations_new/Planet/trueColor/202503_SevereWx_US_LSX_Planet_trueColor_7928028_merged_2025-03-13_day.tif\n",
      "   [UPLOAD] ✅ Uploaded to s3://nasa-disasters/drcs_activations_new/Planet/trueColor/202503_SevereWx_US_LSX_Planet_trueColor_7928028_merged_2025-03-13_day.tif\n",
      "   [LOCAL] Saved to output/202503_SevereWx_US/trueColor_or_truecolor/202503_SevereWx_US_LSX_Planet_trueColor_7928028_merged_2025-03-13_day.tif\n",
      "   [MEMORY] Final: 1744.1 MB (Change: +0.8 MB)\n",
      "   [TIME] Total processing time: 869.6 seconds\n",
      "   [CLEANUP] Removed: cog_202503_SevereWx_US_LSX_Planet_trueColor_7928028_merged_2025-03-13_day.tif\n"
     ]
    },
    {
     "name": "stderr",
     "output_type": "stream",
     "text": [
      "Processing trueColor_or_truecolor:  15%|█▍        | 10/68 [1:42:12<11:44:01, 728.29s/it]"
     ]
    },
    {
     "name": "stdout",
     "output_type": "stream",
     "text": [
      "   ✅ Successfully processed in 869.8s\n",
      "\n",
      "📄 Processing: LSX_Planet_trueColor_20250313_7928436_merged.tif\n",
      "   → Output: 202503_SevereWx_US_LSX_Planet_trueColor_7928436_merged_2025-03-13_day.tif\n",
      "   📦 Standard file (0.5 GB), using adaptive chunks\n",
      "   [CHECK] Checking if file already exists in S3: s3://nasa-disasters/drcs_activations_new/Planet/trueColor/202503_SevereWx_US_LSX_Planet_trueColor_7928436_merged_2025-03-13_day.tif\n",
      "   [INFO] File size: 0.5 GB\n",
      "   [TEMP] Using temp directory: /tmp\n",
      "   [MEMORY] Initial: 1744.1 MB, Available: 27904.5 MB\n",
      "   [STREAM] Attempting to stream from S3: /vsis3/nasa-disasters/drcs_activations/202503_SevereWx_US/planet/LSX_Planet_trueColor_20250313_7928436_merged.tif\n"
     ]
    },
    {
     "name": "stderr",
     "output_type": "stream",
     "text": [
      "Reading input: <open WarpedVRT name='WarpedVRT(/vsis3/nasa-disasters/drcs_activations/202503_SevereWx_US/planet/LSX_Planet_trueColor_20250313_7928436_merged.tif)' mode='r'>\n",
      "\n"
     ]
    },
    {
     "name": "stdout",
     "output_type": "stream",
     "text": [
      "   [STREAM] ✅ Successfully opened file via streaming\n",
      "   [OPTIMIZED] Using rio-cogeo for single-pass COG creation\n",
      "   [NODATA] Using existing no-data value: 0.0\n",
      "   [COG] Creating COG with reprojection in single pass...\n"
     ]
    },
    {
     "name": "stderr",
     "output_type": "stream",
     "text": [
      "Adding overviews...\n",
      "Updating dataset tags...\n",
      "Writing output to: cog_202503_SevereWx_US_LSX_Planet_trueColor_7928436_merged_2025-03-13_day.tif\n"
     ]
    },
    {
     "name": "stdout",
     "output_type": "stream",
     "text": [
      "   [COG] ✅ COG created successfully\n",
      "   [VALIDATE] Checking COG validity...\n",
      "   [VALIDATE] ✅ Valid COG\n",
      "   [UPLOAD] Uploading 249.7 MB to s3://nasa-disasters/drcs_activations_new/Planet/trueColor/202503_SevereWx_US_LSX_Planet_trueColor_7928436_merged_2025-03-13_day.tif\n",
      "   [UPLOAD] ✅ Uploaded to s3://nasa-disasters/drcs_activations_new/Planet/trueColor/202503_SevereWx_US_LSX_Planet_trueColor_7928436_merged_2025-03-13_day.tif\n"
     ]
    },
    {
     "name": "stderr",
     "output_type": "stream",
     "text": [
      "Processing trueColor_or_truecolor:  16%|█▌        | 11/68 [1:48:45<9:54:26, 625.72s/it] "
     ]
    },
    {
     "name": "stdout",
     "output_type": "stream",
     "text": [
      "   [LOCAL] Saved to output/202503_SevereWx_US/trueColor_or_truecolor/202503_SevereWx_US_LSX_Planet_trueColor_7928436_merged_2025-03-13_day.tif\n",
      "   [MEMORY] Final: 1744.8 MB (Change: +0.7 MB)\n",
      "   [TIME] Total processing time: 393.0 seconds\n",
      "   [CLEANUP] Removed: cog_202503_SevereWx_US_LSX_Planet_trueColor_7928436_merged_2025-03-13_day.tif\n",
      "   ✅ Successfully processed in 393.1s\n",
      "\n",
      "📄 Processing: LSX_Planet_trueColor_20250313_7928467_merged.tif\n",
      "   → Output: 202503_SevereWx_US_LSX_Planet_trueColor_7928467_merged_2025-03-13_day.tif\n",
      "   📦 Standard file (1.4 GB), using adaptive chunks\n",
      "   [CHECK] Checking if file already exists in S3: s3://nasa-disasters/drcs_activations_new/Planet/trueColor/202503_SevereWx_US_LSX_Planet_trueColor_7928467_merged_2025-03-13_day.tif\n",
      "   [INFO] File size: 1.4 GB\n",
      "   [TEMP] Using temp directory: /tmp\n",
      "   [MEMORY] Initial: 1744.8 MB, Available: 27905.4 MB\n",
      "   [STREAM] Attempting to stream from S3: /vsis3/nasa-disasters/drcs_activations/202503_SevereWx_US/planet/LSX_Planet_trueColor_20250313_7928467_merged.tif\n"
     ]
    },
    {
     "name": "stderr",
     "output_type": "stream",
     "text": [
      "Reading input: <open WarpedVRT name='WarpedVRT(/vsis3/nasa-disasters/drcs_activations/202503_SevereWx_US/planet/LSX_Planet_trueColor_20250313_7928467_merged.tif)' mode='r'>\n",
      "\n"
     ]
    },
    {
     "name": "stdout",
     "output_type": "stream",
     "text": [
      "   [STREAM] ✅ Successfully opened file via streaming\n",
      "   [OPTIMIZED] Using rio-cogeo for single-pass COG creation\n",
      "   [NODATA] Using existing no-data value: 0.0\n",
      "   [COG] Creating COG with reprojection in single pass...\n"
     ]
    },
    {
     "name": "stderr",
     "output_type": "stream",
     "text": [
      "Adding overviews...\n",
      "Updating dataset tags...\n",
      "Writing output to: cog_202503_SevereWx_US_LSX_Planet_trueColor_7928467_merged_2025-03-13_day.tif\n"
     ]
    },
    {
     "name": "stdout",
     "output_type": "stream",
     "text": [
      "   [COG] ✅ COG created successfully\n",
      "   [VALIDATE] Checking COG validity...\n",
      "   [VALIDATE] ✅ Valid COG\n",
      "   [UPLOAD] Uploading 586.5 MB to s3://nasa-disasters/drcs_activations_new/Planet/trueColor/202503_SevereWx_US_LSX_Planet_trueColor_7928467_merged_2025-03-13_day.tif\n",
      "   [UPLOAD] ✅ Uploaded to s3://nasa-disasters/drcs_activations_new/Planet/trueColor/202503_SevereWx_US_LSX_Planet_trueColor_7928467_merged_2025-03-13_day.tif\n",
      "   [LOCAL] Saved to output/202503_SevereWx_US/trueColor_or_truecolor/202503_SevereWx_US_LSX_Planet_trueColor_7928467_merged_2025-03-13_day.tif\n",
      "   [MEMORY] Final: 1758.3 MB (Change: +13.6 MB)\n",
      "   [TIME] Total processing time: 1091.8 seconds\n",
      "   [CLEANUP] Removed: cog_202503_SevereWx_US_LSX_Planet_trueColor_7928467_merged_2025-03-13_day.tif\n"
     ]
    },
    {
     "name": "stderr",
     "output_type": "stream",
     "text": [
      "Processing trueColor_or_truecolor:  18%|█▊        | 12/68 [2:06:57<11:56:24, 767.58s/it]"
     ]
    },
    {
     "name": "stdout",
     "output_type": "stream",
     "text": [
      "   ✅ Successfully processed in 1092.0s\n",
      "\n",
      "📄 Processing: LSX_Planet_trueColor_20250313_7928576_merged.tif\n",
      "   → Output: 202503_SevereWx_US_LSX_Planet_trueColor_7928576_merged_2025-03-13_day.tif\n",
      "   📦 Standard file (1.3 GB), using adaptive chunks\n",
      "   [CHECK] Checking if file already exists in S3: s3://nasa-disasters/drcs_activations_new/Planet/trueColor/202503_SevereWx_US_LSX_Planet_trueColor_7928576_merged_2025-03-13_day.tif\n",
      "   [INFO] File size: 1.3 GB\n",
      "   [TEMP] Using temp directory: /tmp\n",
      "   [MEMORY] Initial: 1758.3 MB, Available: 27891.9 MB\n",
      "   [STREAM] Attempting to stream from S3: /vsis3/nasa-disasters/drcs_activations/202503_SevereWx_US/planet/LSX_Planet_trueColor_20250313_7928576_merged.tif\n"
     ]
    },
    {
     "name": "stderr",
     "output_type": "stream",
     "text": [
      "Reading input: <open WarpedVRT name='WarpedVRT(/vsis3/nasa-disasters/drcs_activations/202503_SevereWx_US/planet/LSX_Planet_trueColor_20250313_7928576_merged.tif)' mode='r'>\n",
      "\n"
     ]
    },
    {
     "name": "stdout",
     "output_type": "stream",
     "text": [
      "   [STREAM] ✅ Successfully opened file via streaming\n",
      "   [OPTIMIZED] Using rio-cogeo for single-pass COG creation\n",
      "   [NODATA] Using existing no-data value: 0.0\n",
      "   [COG] Creating COG with reprojection in single pass...\n"
     ]
    },
    {
     "name": "stderr",
     "output_type": "stream",
     "text": [
      "Adding overviews...\n",
      "Updating dataset tags...\n",
      "Writing output to: cog_202503_SevereWx_US_LSX_Planet_trueColor_7928576_merged_2025-03-13_day.tif\n"
     ]
    },
    {
     "name": "stdout",
     "output_type": "stream",
     "text": [
      "   [COG] ✅ COG created successfully\n",
      "   [VALIDATE] Checking COG validity...\n",
      "   [VALIDATE] ✅ Valid COG\n",
      "   [UPLOAD] Uploading 548.5 MB to s3://nasa-disasters/drcs_activations_new/Planet/trueColor/202503_SevereWx_US_LSX_Planet_trueColor_7928576_merged_2025-03-13_day.tif\n",
      "   [UPLOAD] ✅ Uploaded to s3://nasa-disasters/drcs_activations_new/Planet/trueColor/202503_SevereWx_US_LSX_Planet_trueColor_7928576_merged_2025-03-13_day.tif\n",
      "   [LOCAL] Saved to output/202503_SevereWx_US/trueColor_or_truecolor/202503_SevereWx_US_LSX_Planet_trueColor_7928576_merged_2025-03-13_day.tif\n",
      "   [MEMORY] Final: 1752.6 MB (Change: -5.7 MB)\n",
      "   [TIME] Total processing time: 1029.6 seconds\n",
      "   [CLEANUP] Removed: cog_202503_SevereWx_US_LSX_Planet_trueColor_7928576_merged_2025-03-13_day.tif\n"
     ]
    },
    {
     "name": "stderr",
     "output_type": "stream",
     "text": [
      "Processing trueColor_or_truecolor:  19%|█▉        | 13/68 [2:24:07<12:56:28, 847.05s/it]"
     ]
    },
    {
     "name": "stdout",
     "output_type": "stream",
     "text": [
      "   ✅ Successfully processed in 1029.9s\n",
      "\n",
      "📄 Processing: LSX_Planet_trueColor_20250317_7937837_merged.tif\n",
      "   → Output: 202503_SevereWx_US_LSX_Planet_trueColor_7937837_merged_2025-03-17_day.tif\n",
      "   📦 Standard file (1.0 GB), using adaptive chunks\n",
      "   [CHECK] Checking if file already exists in S3: s3://nasa-disasters/drcs_activations_new/Planet/trueColor/202503_SevereWx_US_LSX_Planet_trueColor_7937837_merged_2025-03-17_day.tif\n",
      "   [INFO] File size: 1.0 GB\n",
      "   [TEMP] Using temp directory: /tmp\n",
      "   [MEMORY] Initial: 1752.6 MB, Available: 27895.3 MB\n",
      "   [STREAM] Attempting to stream from S3: /vsis3/nasa-disasters/drcs_activations/202503_SevereWx_US/planet/LSX_Planet_trueColor_20250317_7937837_merged.tif\n"
     ]
    },
    {
     "name": "stderr",
     "output_type": "stream",
     "text": [
      "Reading input: <open WarpedVRT name='WarpedVRT(/vsis3/nasa-disasters/drcs_activations/202503_SevereWx_US/planet/LSX_Planet_trueColor_20250317_7937837_merged.tif)' mode='r'>\n",
      "\n"
     ]
    },
    {
     "name": "stdout",
     "output_type": "stream",
     "text": [
      "   [STREAM] ✅ Successfully opened file via streaming\n",
      "   [OPTIMIZED] Using rio-cogeo for single-pass COG creation\n",
      "   [NODATA] Using existing no-data value: 0.0\n",
      "   [COG] Creating COG with reprojection in single pass...\n"
     ]
    },
    {
     "name": "stderr",
     "output_type": "stream",
     "text": [
      "Adding overviews...\n",
      "Updating dataset tags...\n",
      "Writing output to: cog_202503_SevereWx_US_LSX_Planet_trueColor_7937837_merged_2025-03-17_day.tif\n"
     ]
    },
    {
     "name": "stdout",
     "output_type": "stream",
     "text": [
      "   [COG] ✅ COG created successfully\n",
      "   [VALIDATE] Checking COG validity...\n",
      "   [VALIDATE] ✅ Valid COG\n",
      "   [UPLOAD] Uploading 462.6 MB to s3://nasa-disasters/drcs_activations_new/Planet/trueColor/202503_SevereWx_US_LSX_Planet_trueColor_7937837_merged_2025-03-17_day.tif\n",
      "   [UPLOAD] ✅ Uploaded to s3://nasa-disasters/drcs_activations_new/Planet/trueColor/202503_SevereWx_US_LSX_Planet_trueColor_7937837_merged_2025-03-17_day.tif\n"
     ]
    },
    {
     "name": "stderr",
     "output_type": "stream",
     "text": [
      "Processing trueColor_or_truecolor:  21%|██        | 14/68 [2:38:03<12:39:26, 843.83s/it]"
     ]
    },
    {
     "name": "stdout",
     "output_type": "stream",
     "text": [
      "   [LOCAL] Saved to output/202503_SevereWx_US/trueColor_or_truecolor/202503_SevereWx_US_LSX_Planet_trueColor_7937837_merged_2025-03-17_day.tif\n",
      "   [MEMORY] Final: 1753.1 MB (Change: +0.5 MB)\n",
      "   [TIME] Total processing time: 836.1 seconds\n",
      "   [CLEANUP] Removed: cog_202503_SevereWx_US_LSX_Planet_trueColor_7937837_merged_2025-03-17_day.tif\n",
      "   ✅ Successfully processed in 836.4s\n",
      "\n",
      "📄 Processing: LSX_Planet_trueColor_20250317_7937847_merged.tif\n",
      "   → Output: 202503_SevereWx_US_LSX_Planet_trueColor_7937847_merged_2025-03-17_day.tif\n",
      "   📦 Standard file (1.5 GB), using adaptive chunks\n",
      "   [CHECK] Checking if file already exists in S3: s3://nasa-disasters/drcs_activations_new/Planet/trueColor/202503_SevereWx_US_LSX_Planet_trueColor_7937847_merged_2025-03-17_day.tif\n",
      "   [INFO] File size: 1.5 GB\n",
      "   [TEMP] Using temp directory: /tmp\n",
      "   [MEMORY] Initial: 1753.1 MB, Available: 27891.0 MB\n",
      "   [STREAM] Attempting to stream from S3: /vsis3/nasa-disasters/drcs_activations/202503_SevereWx_US/planet/LSX_Planet_trueColor_20250317_7937847_merged.tif\n"
     ]
    },
    {
     "name": "stderr",
     "output_type": "stream",
     "text": [
      "Reading input: <open WarpedVRT name='WarpedVRT(/vsis3/nasa-disasters/drcs_activations/202503_SevereWx_US/planet/LSX_Planet_trueColor_20250317_7937847_merged.tif)' mode='r'>\n",
      "\n"
     ]
    },
    {
     "name": "stdout",
     "output_type": "stream",
     "text": [
      "   [STREAM] ✅ Successfully opened file via streaming\n",
      "   [OPTIMIZED] Using rio-cogeo for single-pass COG creation\n",
      "   [NODATA] Using existing no-data value: 0.0\n",
      "   [COG] Creating COG with reprojection in single pass...\n"
     ]
    },
    {
     "name": "stderr",
     "output_type": "stream",
     "text": [
      "Adding overviews...\n",
      "Updating dataset tags...\n",
      "Writing output to: cog_202503_SevereWx_US_LSX_Planet_trueColor_7937847_merged_2025-03-17_day.tif\n"
     ]
    },
    {
     "name": "stdout",
     "output_type": "stream",
     "text": [
      "   [COG] ✅ COG created successfully\n",
      "   [VALIDATE] Checking COG validity...\n",
      "   [VALIDATE] ✅ Valid COG\n",
      "   [UPLOAD] Uploading 650.2 MB to s3://nasa-disasters/drcs_activations_new/Planet/trueColor/202503_SevereWx_US_LSX_Planet_trueColor_7937847_merged_2025-03-17_day.tif\n",
      "   [UPLOAD] ✅ Uploaded to s3://nasa-disasters/drcs_activations_new/Planet/trueColor/202503_SevereWx_US_LSX_Planet_trueColor_7937847_merged_2025-03-17_day.tif\n",
      "   [LOCAL] Saved to output/202503_SevereWx_US/trueColor_or_truecolor/202503_SevereWx_US_LSX_Planet_trueColor_7937847_merged_2025-03-17_day.tif\n",
      "   [MEMORY] Final: 1757.0 MB (Change: +3.9 MB)\n",
      "   [TIME] Total processing time: 1167.6 seconds\n",
      "   [CLEANUP] Removed: cog_202503_SevereWx_US_LSX_Planet_trueColor_7937847_merged_2025-03-17_day.tif\n"
     ]
    },
    {
     "name": "stderr",
     "output_type": "stream",
     "text": [
      "Processing trueColor_or_truecolor:  22%|██▏       | 15/68 [2:57:31<13:51:41, 941.53s/it]"
     ]
    },
    {
     "name": "stdout",
     "output_type": "stream",
     "text": [
      "   ✅ Successfully processed in 1168.0s\n",
      "\n",
      "📄 Processing: LSX_Planet_trueColor_20250317_7937970_merged.tif\n",
      "   → Output: 202503_SevereWx_US_LSX_Planet_trueColor_7937970_merged_2025-03-17_day.tif\n",
      "   📦 Standard file (1.3 GB), using adaptive chunks\n",
      "   [CHECK] Checking if file already exists in S3: s3://nasa-disasters/drcs_activations_new/Planet/trueColor/202503_SevereWx_US_LSX_Planet_trueColor_7937970_merged_2025-03-17_day.tif\n",
      "   [INFO] File size: 1.3 GB\n",
      "   [TEMP] Using temp directory: /tmp\n",
      "   [MEMORY] Initial: 1757.0 MB, Available: 27889.2 MB\n",
      "   [STREAM] Attempting to stream from S3: /vsis3/nasa-disasters/drcs_activations/202503_SevereWx_US/planet/LSX_Planet_trueColor_20250317_7937970_merged.tif\n"
     ]
    },
    {
     "name": "stderr",
     "output_type": "stream",
     "text": [
      "Reading input: <open WarpedVRT name='WarpedVRT(/vsis3/nasa-disasters/drcs_activations/202503_SevereWx_US/planet/LSX_Planet_trueColor_20250317_7937970_merged.tif)' mode='r'>\n",
      "\n"
     ]
    },
    {
     "name": "stdout",
     "output_type": "stream",
     "text": [
      "   [STREAM] ✅ Successfully opened file via streaming\n",
      "   [OPTIMIZED] Using rio-cogeo for single-pass COG creation\n",
      "   [NODATA] Using existing no-data value: 0.0\n",
      "   [COG] Creating COG with reprojection in single pass...\n"
     ]
    },
    {
     "name": "stderr",
     "output_type": "stream",
     "text": [
      "Adding overviews...\n",
      "Updating dataset tags...\n",
      "Writing output to: cog_202503_SevereWx_US_LSX_Planet_trueColor_7937970_merged_2025-03-17_day.tif\n"
     ]
    },
    {
     "name": "stdout",
     "output_type": "stream",
     "text": [
      "   [COG] ✅ COG created successfully\n",
      "   [VALIDATE] Checking COG validity...\n",
      "   [VALIDATE] ✅ Valid COG\n",
      "   [UPLOAD] Uploading 538.9 MB to s3://nasa-disasters/drcs_activations_new/Planet/trueColor/202503_SevereWx_US_LSX_Planet_trueColor_7937970_merged_2025-03-17_day.tif\n",
      "   [UPLOAD] ✅ Uploaded to s3://nasa-disasters/drcs_activations_new/Planet/trueColor/202503_SevereWx_US_LSX_Planet_trueColor_7937970_merged_2025-03-17_day.tif\n",
      "   [LOCAL] Saved to output/202503_SevereWx_US/trueColor_or_truecolor/202503_SevereWx_US_LSX_Planet_trueColor_7937970_merged_2025-03-17_day.tif\n",
      "   [MEMORY] Final: 1757.6 MB (Change: +0.6 MB)\n",
      "   [TIME] Total processing time: 1027.3 seconds\n",
      "   [CLEANUP] Removed: cog_202503_SevereWx_US_LSX_Planet_trueColor_7937970_merged_2025-03-17_day.tif\n"
     ]
    },
    {
     "name": "stderr",
     "output_type": "stream",
     "text": [
      "Processing trueColor_or_truecolor:  24%|██▎       | 16/68 [3:14:39<13:58:26, 967.44s/it]"
     ]
    },
    {
     "name": "stdout",
     "output_type": "stream",
     "text": [
      "   ✅ Successfully processed in 1027.6s\n",
      "\n",
      "📄 Processing: LSX_Planet_trueColor_20250317_7938212_merged.tif\n",
      "   → Output: 202503_SevereWx_US_LSX_Planet_trueColor_7938212_merged_2025-03-17_day.tif\n",
      "   📦 Standard file (1.4 GB), using adaptive chunks\n",
      "   [CHECK] Checking if file already exists in S3: s3://nasa-disasters/drcs_activations_new/Planet/trueColor/202503_SevereWx_US_LSX_Planet_trueColor_7938212_merged_2025-03-17_day.tif\n",
      "   [INFO] File size: 1.4 GB\n",
      "   [TEMP] Using temp directory: /tmp\n",
      "   [MEMORY] Initial: 1757.6 MB, Available: 27889.5 MB\n",
      "   [STREAM] Attempting to stream from S3: /vsis3/nasa-disasters/drcs_activations/202503_SevereWx_US/planet/LSX_Planet_trueColor_20250317_7938212_merged.tif\n"
     ]
    },
    {
     "name": "stderr",
     "output_type": "stream",
     "text": [
      "Reading input: <open WarpedVRT name='WarpedVRT(/vsis3/nasa-disasters/drcs_activations/202503_SevereWx_US/planet/LSX_Planet_trueColor_20250317_7938212_merged.tif)' mode='r'>\n",
      "\n"
     ]
    },
    {
     "name": "stdout",
     "output_type": "stream",
     "text": [
      "   [STREAM] ✅ Successfully opened file via streaming\n",
      "   [OPTIMIZED] Using rio-cogeo for single-pass COG creation\n",
      "   [NODATA] Using existing no-data value: 0.0\n",
      "   [COG] Creating COG with reprojection in single pass...\n"
     ]
    },
    {
     "name": "stderr",
     "output_type": "stream",
     "text": [
      "Adding overviews...\n",
      "Updating dataset tags...\n",
      "Writing output to: cog_202503_SevereWx_US_LSX_Planet_trueColor_7938212_merged_2025-03-17_day.tif\n"
     ]
    },
    {
     "name": "stdout",
     "output_type": "stream",
     "text": [
      "   [COG] ✅ COG created successfully\n",
      "   [VALIDATE] Checking COG validity...\n",
      "   [VALIDATE] ✅ Valid COG\n",
      "   [UPLOAD] Uploading 603.0 MB to s3://nasa-disasters/drcs_activations_new/Planet/trueColor/202503_SevereWx_US_LSX_Planet_trueColor_7938212_merged_2025-03-17_day.tif\n",
      "   [UPLOAD] ✅ Uploaded to s3://nasa-disasters/drcs_activations_new/Planet/trueColor/202503_SevereWx_US_LSX_Planet_trueColor_7938212_merged_2025-03-17_day.tif\n",
      "   [LOCAL] Saved to output/202503_SevereWx_US/trueColor_or_truecolor/202503_SevereWx_US_LSX_Planet_trueColor_7938212_merged_2025-03-17_day.tif\n",
      "   [MEMORY] Final: 1758.7 MB (Change: +1.1 MB)\n",
      "   [TIME] Total processing time: 1130.5 seconds\n",
      "   [CLEANUP] Removed: cog_202503_SevereWx_US_LSX_Planet_trueColor_7938212_merged_2025-03-17_day.tif\n"
     ]
    },
    {
     "name": "stderr",
     "output_type": "stream",
     "text": [
      "Processing trueColor_or_truecolor:  25%|██▌       | 17/68 [3:33:30<14:24:05, 1016.57s/it]"
     ]
    },
    {
     "name": "stdout",
     "output_type": "stream",
     "text": [
      "   ✅ Successfully processed in 1130.8s\n",
      "\n",
      "📄 Processing: LZK_Planet_trueColor_20250311_7923341_merged.tif\n",
      "   → Output: 202503_SevereWx_US_LZK_Planet_trueColor_7923341_merged_2025-03-11_day.tif\n",
      "   📦 Standard file (1.1 GB), using adaptive chunks\n",
      "   [CHECK] Checking if file already exists in S3: s3://nasa-disasters/drcs_activations_new/Planet/trueColor/202503_SevereWx_US_LZK_Planet_trueColor_7923341_merged_2025-03-11_day.tif\n",
      "   [INFO] File size: 1.1 GB\n",
      "   [TEMP] Using temp directory: /tmp\n",
      "   [MEMORY] Initial: 1758.7 MB, Available: 27888.6 MB\n",
      "   [STREAM] Attempting to stream from S3: /vsis3/nasa-disasters/drcs_activations/202503_SevereWx_US/planet/LZK_Planet_trueColor_20250311_7923341_merged.tif\n"
     ]
    },
    {
     "name": "stderr",
     "output_type": "stream",
     "text": [
      "Reading input: <open WarpedVRT name='WarpedVRT(/vsis3/nasa-disasters/drcs_activations/202503_SevereWx_US/planet/LZK_Planet_trueColor_20250311_7923341_merged.tif)' mode='r'>\n",
      "\n"
     ]
    },
    {
     "name": "stdout",
     "output_type": "stream",
     "text": [
      "   [STREAM] ✅ Successfully opened file via streaming\n",
      "   [OPTIMIZED] Using rio-cogeo for single-pass COG creation\n",
      "   [NODATA] Using existing no-data value: 0.0\n",
      "   [COG] Creating COG with reprojection in single pass...\n"
     ]
    },
    {
     "name": "stderr",
     "output_type": "stream",
     "text": [
      "Adding overviews...\n",
      "Updating dataset tags...\n",
      "Writing output to: cog_202503_SevereWx_US_LZK_Planet_trueColor_7923341_merged_2025-03-11_day.tif\n"
     ]
    },
    {
     "name": "stdout",
     "output_type": "stream",
     "text": [
      "   [COG] ✅ COG created successfully\n",
      "   [VALIDATE] Checking COG validity...\n",
      "   [VALIDATE] ✅ Valid COG\n",
      "   [UPLOAD] Uploading 494.9 MB to s3://nasa-disasters/drcs_activations_new/Planet/trueColor/202503_SevereWx_US_LZK_Planet_trueColor_7923341_merged_2025-03-11_day.tif\n",
      "   [UPLOAD] ✅ Uploaded to s3://nasa-disasters/drcs_activations_new/Planet/trueColor/202503_SevereWx_US_LZK_Planet_trueColor_7923341_merged_2025-03-11_day.tif\n",
      "   [LOCAL] Saved to output/202503_SevereWx_US/trueColor_or_truecolor/202503_SevereWx_US_LZK_Planet_trueColor_7923341_merged_2025-03-11_day.tif\n",
      "   [MEMORY] Final: 1759.5 MB (Change: +0.8 MB)\n",
      "   [TIME] Total processing time: 834.0 seconds\n",
      "   [CLEANUP] Removed: cog_202503_SevereWx_US_LZK_Planet_trueColor_7923341_merged_2025-03-11_day.tif\n"
     ]
    },
    {
     "name": "stderr",
     "output_type": "stream",
     "text": [
      "Processing trueColor_or_truecolor:  26%|██▋       | 18/68 [3:47:24<13:21:30, 961.80s/it] "
     ]
    },
    {
     "name": "stdout",
     "output_type": "stream",
     "text": [
      "   ✅ Successfully processed in 834.3s\n",
      "\n",
      "📄 Processing: LZK_Planet_trueColor_20250311_7923555_merged.tif\n",
      "   → Output: 202503_SevereWx_US_LZK_Planet_trueColor_7923555_merged_2025-03-11_day.tif\n",
      "   📦 Standard file (1.0 GB), using adaptive chunks\n",
      "   [CHECK] Checking if file already exists in S3: s3://nasa-disasters/drcs_activations_new/Planet/trueColor/202503_SevereWx_US_LZK_Planet_trueColor_7923555_merged_2025-03-11_day.tif\n",
      "   [INFO] File size: 1.0 GB\n",
      "   [TEMP] Using temp directory: /tmp\n",
      "   [MEMORY] Initial: 1759.5 MB, Available: 27887.7 MB\n",
      "   [STREAM] Attempting to stream from S3: /vsis3/nasa-disasters/drcs_activations/202503_SevereWx_US/planet/LZK_Planet_trueColor_20250311_7923555_merged.tif\n"
     ]
    },
    {
     "name": "stderr",
     "output_type": "stream",
     "text": [
      "Reading input: <open WarpedVRT name='WarpedVRT(/vsis3/nasa-disasters/drcs_activations/202503_SevereWx_US/planet/LZK_Planet_trueColor_20250311_7923555_merged.tif)' mode='r'>\n",
      "\n"
     ]
    },
    {
     "name": "stdout",
     "output_type": "stream",
     "text": [
      "   [STREAM] ✅ Successfully opened file via streaming\n",
      "   [OPTIMIZED] Using rio-cogeo for single-pass COG creation\n",
      "   [NODATA] Using existing no-data value: 0.0\n",
      "   [COG] Creating COG with reprojection in single pass...\n"
     ]
    },
    {
     "name": "stderr",
     "output_type": "stream",
     "text": [
      "Adding overviews...\n",
      "Updating dataset tags...\n",
      "Writing output to: cog_202503_SevereWx_US_LZK_Planet_trueColor_7923555_merged_2025-03-11_day.tif\n"
     ]
    },
    {
     "name": "stdout",
     "output_type": "stream",
     "text": [
      "   [COG] ✅ COG created successfully\n",
      "   [VALIDATE] Checking COG validity...\n",
      "   [VALIDATE] ✅ Valid COG\n",
      "   [UPLOAD] Uploading 425.6 MB to s3://nasa-disasters/drcs_activations_new/Planet/trueColor/202503_SevereWx_US_LZK_Planet_trueColor_7923555_merged_2025-03-11_day.tif\n",
      "   [UPLOAD] ✅ Uploaded to s3://nasa-disasters/drcs_activations_new/Planet/trueColor/202503_SevereWx_US_LZK_Planet_trueColor_7923555_merged_2025-03-11_day.tif\n",
      "   [LOCAL] Saved to output/202503_SevereWx_US/trueColor_or_truecolor/202503_SevereWx_US_LZK_Planet_trueColor_7923555_merged_2025-03-11_day.tif\n",
      "   [MEMORY] Final: 1757.1 MB (Change: -2.4 MB)\n",
      "   [TIME] Total processing time: 837.9 seconds\n",
      "   [CLEANUP] Removed: cog_202503_SevereWx_US_LZK_Planet_trueColor_7923555_merged_2025-03-11_day.tif\n"
     ]
    },
    {
     "name": "stderr",
     "output_type": "stream",
     "text": [
      "Processing trueColor_or_truecolor:  28%|██▊       | 19/68 [4:01:22<12:35:08, 924.66s/it]"
     ]
    },
    {
     "name": "stdout",
     "output_type": "stream",
     "text": [
      "   ✅ Successfully processed in 838.1s\n",
      "\n",
      "📄 Processing: LZK_Planet_trueColor_20250311_7923610_merged.tif\n",
      "   → Output: 202503_SevereWx_US_LZK_Planet_trueColor_7923610_merged_2025-03-11_day.tif\n",
      "   📦 Standard file (1.3 GB), using adaptive chunks\n",
      "   [CHECK] Checking if file already exists in S3: s3://nasa-disasters/drcs_activations_new/Planet/trueColor/202503_SevereWx_US_LZK_Planet_trueColor_7923610_merged_2025-03-11_day.tif\n",
      "   [INFO] File size: 1.3 GB\n",
      "   [TEMP] Using temp directory: /tmp\n",
      "   [MEMORY] Initial: 1757.1 MB, Available: 27889.1 MB\n",
      "   [STREAM] Attempting to stream from S3: /vsis3/nasa-disasters/drcs_activations/202503_SevereWx_US/planet/LZK_Planet_trueColor_20250311_7923610_merged.tif\n"
     ]
    },
    {
     "name": "stderr",
     "output_type": "stream",
     "text": [
      "Reading input: <open WarpedVRT name='WarpedVRT(/vsis3/nasa-disasters/drcs_activations/202503_SevereWx_US/planet/LZK_Planet_trueColor_20250311_7923610_merged.tif)' mode='r'>\n",
      "\n"
     ]
    },
    {
     "name": "stdout",
     "output_type": "stream",
     "text": [
      "   [STREAM] ✅ Successfully opened file via streaming\n",
      "   [OPTIMIZED] Using rio-cogeo for single-pass COG creation\n",
      "   [NODATA] Using existing no-data value: 0.0\n",
      "   [COG] Creating COG with reprojection in single pass...\n"
     ]
    },
    {
     "name": "stderr",
     "output_type": "stream",
     "text": [
      "Adding overviews...\n",
      "Updating dataset tags...\n",
      "Writing output to: cog_202503_SevereWx_US_LZK_Planet_trueColor_7923610_merged_2025-03-11_day.tif\n"
     ]
    },
    {
     "name": "stdout",
     "output_type": "stream",
     "text": [
      "   [COG] ✅ COG created successfully\n",
      "   [VALIDATE] Checking COG validity...\n",
      "   [VALIDATE] ✅ Valid COG\n",
      "   [UPLOAD] Uploading 511.0 MB to s3://nasa-disasters/drcs_activations_new/Planet/trueColor/202503_SevereWx_US_LZK_Planet_trueColor_7923610_merged_2025-03-11_day.tif\n",
      "   [UPLOAD] ✅ Uploaded to s3://nasa-disasters/drcs_activations_new/Planet/trueColor/202503_SevereWx_US_LZK_Planet_trueColor_7923610_merged_2025-03-11_day.tif\n",
      "   [LOCAL] Saved to output/202503_SevereWx_US/trueColor_or_truecolor/202503_SevereWx_US_LZK_Planet_trueColor_7923610_merged_2025-03-11_day.tif\n",
      "   [MEMORY] Final: 1755.4 MB (Change: -1.7 MB)\n",
      "   [TIME] Total processing time: 1073.3 seconds\n",
      "   [CLEANUP] Removed: cog_202503_SevereWx_US_LZK_Planet_trueColor_7923610_merged_2025-03-11_day.tif\n"
     ]
    },
    {
     "name": "stderr",
     "output_type": "stream",
     "text": [
      "Processing trueColor_or_truecolor:  29%|██▉       | 20/68 [4:19:16<12:55:29, 969.36s/it]"
     ]
    },
    {
     "name": "stdout",
     "output_type": "stream",
     "text": [
      "   ✅ Successfully processed in 1073.5s\n",
      "\n",
      "📄 Processing: LZK_Planet_trueColor_20250311_7923637_merged.tif\n",
      "   → Output: 202503_SevereWx_US_LZK_Planet_trueColor_7923637_merged_2025-03-11_day.tif\n",
      "   📦 Standard file (0.9 GB), using adaptive chunks\n",
      "   [CHECK] Checking if file already exists in S3: s3://nasa-disasters/drcs_activations_new/Planet/trueColor/202503_SevereWx_US_LZK_Planet_trueColor_7923637_merged_2025-03-11_day.tif\n",
      "   [INFO] File size: 0.9 GB\n",
      "   [TEMP] Using temp directory: /tmp\n",
      "   [MEMORY] Initial: 1755.4 MB, Available: 27887.3 MB\n",
      "   [STREAM] Attempting to stream from S3: /vsis3/nasa-disasters/drcs_activations/202503_SevereWx_US/planet/LZK_Planet_trueColor_20250311_7923637_merged.tif\n"
     ]
    },
    {
     "name": "stderr",
     "output_type": "stream",
     "text": [
      "Reading input: <open WarpedVRT name='WarpedVRT(/vsis3/nasa-disasters/drcs_activations/202503_SevereWx_US/planet/LZK_Planet_trueColor_20250311_7923637_merged.tif)' mode='r'>\n",
      "\n"
     ]
    },
    {
     "name": "stdout",
     "output_type": "stream",
     "text": [
      "   [STREAM] ✅ Successfully opened file via streaming\n",
      "   [OPTIMIZED] Using rio-cogeo for single-pass COG creation\n",
      "   [NODATA] Using existing no-data value: 0.0\n",
      "   [COG] Creating COG with reprojection in single pass...\n"
     ]
    },
    {
     "name": "stderr",
     "output_type": "stream",
     "text": [
      "Adding overviews...\n",
      "Updating dataset tags...\n",
      "Writing output to: cog_202503_SevereWx_US_LZK_Planet_trueColor_7923637_merged_2025-03-11_day.tif\n"
     ]
    },
    {
     "name": "stdout",
     "output_type": "stream",
     "text": [
      "   [COG] ✅ COG created successfully\n",
      "   [VALIDATE] Checking COG validity...\n",
      "   [VALIDATE] ✅ Valid COG\n",
      "   [UPLOAD] Uploading 372.5 MB to s3://nasa-disasters/drcs_activations_new/Planet/trueColor/202503_SevereWx_US_LZK_Planet_trueColor_7923637_merged_2025-03-11_day.tif\n",
      "   [UPLOAD] ✅ Uploaded to s3://nasa-disasters/drcs_activations_new/Planet/trueColor/202503_SevereWx_US_LZK_Planet_trueColor_7923637_merged_2025-03-11_day.tif\n",
      "   [LOCAL] Saved to output/202503_SevereWx_US/trueColor_or_truecolor/202503_SevereWx_US_LZK_Planet_trueColor_7923637_merged_2025-03-11_day.tif\n",
      "   [MEMORY] Final: 1755.5 MB (Change: +0.1 MB)\n",
      "   [TIME] Total processing time: 642.6 seconds\n",
      "   [CLEANUP] Removed: cog_202503_SevereWx_US_LZK_Planet_trueColor_7923637_merged_2025-03-11_day.tif\n"
     ]
    },
    {
     "name": "stderr",
     "output_type": "stream",
     "text": [
      "Processing trueColor_or_truecolor:  31%|███       | 21/68 [4:29:58<11:22:33, 871.36s/it]"
     ]
    },
    {
     "name": "stdout",
     "output_type": "stream",
     "text": [
      "   ✅ Successfully processed in 642.9s\n",
      "\n",
      "📄 Processing: LZK_Planet_trueColor_20250311_7923690_merged.tif\n",
      "   → Output: 202503_SevereWx_US_LZK_Planet_trueColor_7923690_merged_2025-03-11_day.tif\n",
      "   📦 Standard file (0.8 GB), using adaptive chunks\n",
      "   [CHECK] Checking if file already exists in S3: s3://nasa-disasters/drcs_activations_new/Planet/trueColor/202503_SevereWx_US_LZK_Planet_trueColor_7923690_merged_2025-03-11_day.tif\n",
      "   [INFO] File size: 0.8 GB\n",
      "   [TEMP] Using temp directory: /tmp\n",
      "   [MEMORY] Initial: 1755.5 MB, Available: 27889.5 MB\n",
      "   [STREAM] Attempting to stream from S3: /vsis3/nasa-disasters/drcs_activations/202503_SevereWx_US/planet/LZK_Planet_trueColor_20250311_7923690_merged.tif\n"
     ]
    },
    {
     "name": "stderr",
     "output_type": "stream",
     "text": [
      "Reading input: <open WarpedVRT name='WarpedVRT(/vsis3/nasa-disasters/drcs_activations/202503_SevereWx_US/planet/LZK_Planet_trueColor_20250311_7923690_merged.tif)' mode='r'>\n",
      "\n"
     ]
    },
    {
     "name": "stdout",
     "output_type": "stream",
     "text": [
      "   [STREAM] ✅ Successfully opened file via streaming\n",
      "   [OPTIMIZED] Using rio-cogeo for single-pass COG creation\n",
      "   [NODATA] Using existing no-data value: 0.0\n",
      "   [COG] Creating COG with reprojection in single pass...\n"
     ]
    },
    {
     "name": "stderr",
     "output_type": "stream",
     "text": [
      "Adding overviews...\n",
      "Updating dataset tags...\n",
      "Writing output to: cog_202503_SevereWx_US_LZK_Planet_trueColor_7923690_merged_2025-03-11_day.tif\n"
     ]
    },
    {
     "name": "stdout",
     "output_type": "stream",
     "text": [
      "   [COG] ✅ COG created successfully\n",
      "   [VALIDATE] Checking COG validity...\n",
      "   [VALIDATE] ✅ Valid COG\n",
      "   [UPLOAD] Uploading 331.2 MB to s3://nasa-disasters/drcs_activations_new/Planet/trueColor/202503_SevereWx_US_LZK_Planet_trueColor_7923690_merged_2025-03-11_day.tif\n",
      "   [UPLOAD] ✅ Uploaded to s3://nasa-disasters/drcs_activations_new/Planet/trueColor/202503_SevereWx_US_LZK_Planet_trueColor_7923690_merged_2025-03-11_day.tif\n"
     ]
    },
    {
     "name": "stderr",
     "output_type": "stream",
     "text": [
      "Processing trueColor_or_truecolor:  32%|███▏      | 22/68 [4:40:00<10:05:55, 790.33s/it]"
     ]
    },
    {
     "name": "stdout",
     "output_type": "stream",
     "text": [
      "   [LOCAL] Saved to output/202503_SevereWx_US/trueColor_or_truecolor/202503_SevereWx_US_LZK_Planet_trueColor_7923690_merged_2025-03-11_day.tif\n",
      "   [MEMORY] Final: 1755.5 MB (Change: +0.0 MB)\n",
      "   [TIME] Total processing time: 601.2 seconds\n",
      "   [CLEANUP] Removed: cog_202503_SevereWx_US_LZK_Planet_trueColor_7923690_merged_2025-03-11_day.tif\n",
      "   ✅ Successfully processed in 601.4s\n",
      "\n",
      "📄 Processing: LZK_Planet_trueColor_20250311_7923875_merged.tif\n",
      "   → Output: 202503_SevereWx_US_LZK_Planet_trueColor_7923875_merged_2025-03-11_day.tif\n",
      "   📦 Standard file (0.5 GB), using adaptive chunks\n",
      "   [CHECK] Checking if file already exists in S3: s3://nasa-disasters/drcs_activations_new/Planet/trueColor/202503_SevereWx_US_LZK_Planet_trueColor_7923875_merged_2025-03-11_day.tif\n",
      "   [INFO] File size: 0.5 GB\n",
      "   [TEMP] Using temp directory: /tmp\n",
      "   [MEMORY] Initial: 1755.5 MB, Available: 27892.4 MB\n",
      "   [STREAM] Attempting to stream from S3: /vsis3/nasa-disasters/drcs_activations/202503_SevereWx_US/planet/LZK_Planet_trueColor_20250311_7923875_merged.tif\n"
     ]
    },
    {
     "name": "stderr",
     "output_type": "stream",
     "text": [
      "Reading input: <open WarpedVRT name='WarpedVRT(/vsis3/nasa-disasters/drcs_activations/202503_SevereWx_US/planet/LZK_Planet_trueColor_20250311_7923875_merged.tif)' mode='r'>\n",
      "\n"
     ]
    },
    {
     "name": "stdout",
     "output_type": "stream",
     "text": [
      "   [STREAM] ✅ Successfully opened file via streaming\n",
      "   [OPTIMIZED] Using rio-cogeo for single-pass COG creation\n",
      "   [NODATA] Using existing no-data value: 0.0\n",
      "   [COG] Creating COG with reprojection in single pass...\n"
     ]
    },
    {
     "name": "stderr",
     "output_type": "stream",
     "text": [
      "Adding overviews...\n",
      "Updating dataset tags...\n",
      "Writing output to: cog_202503_SevereWx_US_LZK_Planet_trueColor_7923875_merged_2025-03-11_day.tif\n"
     ]
    },
    {
     "name": "stdout",
     "output_type": "stream",
     "text": [
      "   [COG] ✅ COG created successfully\n",
      "   [VALIDATE] Checking COG validity...\n",
      "   [VALIDATE] ✅ Valid COG\n",
      "   [UPLOAD] Uploading 244.9 MB to s3://nasa-disasters/drcs_activations_new/Planet/trueColor/202503_SevereWx_US_LZK_Planet_trueColor_7923875_merged_2025-03-11_day.tif\n",
      "   [UPLOAD] ✅ Uploaded to s3://nasa-disasters/drcs_activations_new/Planet/trueColor/202503_SevereWx_US_LZK_Planet_trueColor_7923875_merged_2025-03-11_day.tif\n"
     ]
    },
    {
     "name": "stderr",
     "output_type": "stream",
     "text": [
      "Processing trueColor_or_truecolor:  34%|███▍      | 23/68 [4:46:35<8:23:50, 671.78s/it] "
     ]
    },
    {
     "name": "stdout",
     "output_type": "stream",
     "text": [
      "   [LOCAL] Saved to output/202503_SevereWx_US/trueColor_or_truecolor/202503_SevereWx_US_LZK_Planet_trueColor_7923875_merged_2025-03-11_day.tif\n",
      "   [MEMORY] Final: 1756.0 MB (Change: +0.5 MB)\n",
      "   [TIME] Total processing time: 395.1 seconds\n",
      "   [CLEANUP] Removed: cog_202503_SevereWx_US_LZK_Planet_trueColor_7923875_merged_2025-03-11_day.tif\n",
      "   ✅ Successfully processed in 395.3s\n",
      "\n",
      "📄 Processing: LZK_Planet_trueColor_20250311_7923925_merged.tif\n",
      "   → Output: 202503_SevereWx_US_LZK_Planet_trueColor_7923925_merged_2025-03-11_day.tif\n",
      "   📦 Standard file (1.1 GB), using adaptive chunks\n",
      "   [CHECK] Checking if file already exists in S3: s3://nasa-disasters/drcs_activations_new/Planet/trueColor/202503_SevereWx_US_LZK_Planet_trueColor_7923925_merged_2025-03-11_day.tif\n",
      "   [INFO] File size: 1.1 GB\n",
      "   [TEMP] Using temp directory: /tmp\n",
      "   [MEMORY] Initial: 1756.0 MB, Available: 27889.6 MB\n",
      "   [STREAM] Attempting to stream from S3: /vsis3/nasa-disasters/drcs_activations/202503_SevereWx_US/planet/LZK_Planet_trueColor_20250311_7923925_merged.tif\n",
      "   [STREAM] ✅ Successfully opened file via streaming\n",
      "   [OPTIMIZED] Using rio-cogeo for single-pass COG creation\n"
     ]
    },
    {
     "name": "stderr",
     "output_type": "stream",
     "text": [
      "Reading input: <open WarpedVRT name='WarpedVRT(/vsis3/nasa-disasters/drcs_activations/202503_SevereWx_US/planet/LZK_Planet_trueColor_20250311_7923925_merged.tif)' mode='r'>\n",
      "\n"
     ]
    },
    {
     "name": "stdout",
     "output_type": "stream",
     "text": [
      "   [NODATA] Using existing no-data value: 0.0\n",
      "   [COG] Creating COG with reprojection in single pass...\n"
     ]
    },
    {
     "name": "stderr",
     "output_type": "stream",
     "text": [
      "Adding overviews...\n",
      "Updating dataset tags...\n",
      "Writing output to: cog_202503_SevereWx_US_LZK_Planet_trueColor_7923925_merged_2025-03-11_day.tif\n"
     ]
    },
    {
     "name": "stdout",
     "output_type": "stream",
     "text": [
      "   [COG] ✅ COG created successfully\n",
      "   [VALIDATE] Checking COG validity...\n",
      "   [VALIDATE] ✅ Valid COG\n",
      "   [UPLOAD] Uploading 495.0 MB to s3://nasa-disasters/drcs_activations_new/Planet/trueColor/202503_SevereWx_US_LZK_Planet_trueColor_7923925_merged_2025-03-11_day.tif\n",
      "   [UPLOAD] ✅ Uploaded to s3://nasa-disasters/drcs_activations_new/Planet/trueColor/202503_SevereWx_US_LZK_Planet_trueColor_7923925_merged_2025-03-11_day.tif\n",
      "   [LOCAL] Saved to output/202503_SevereWx_US/trueColor_or_truecolor/202503_SevereWx_US_LZK_Planet_trueColor_7923925_merged_2025-03-11_day.tif\n",
      "   [MEMORY] Final: 1762.4 MB (Change: +6.5 MB)\n",
      "   [TIME] Total processing time: 922.9 seconds\n",
      "   [CLEANUP] Removed: cog_202503_SevereWx_US_LZK_Planet_trueColor_7923925_merged_2025-03-11_day.tif\n"
     ]
    },
    {
     "name": "stderr",
     "output_type": "stream",
     "text": [
      "Processing trueColor_or_truecolor:  35%|███▌      | 24/68 [5:01:58<9:07:56, 747.19s/it]"
     ]
    },
    {
     "name": "stdout",
     "output_type": "stream",
     "text": [
      "   ✅ Successfully processed in 923.1s\n",
      "\n",
      "📄 Processing: LZK_Planet_trueColor_20250312_7925821_merged.tif\n",
      "   → Output: 202503_SevereWx_US_LZK_Planet_trueColor_7925821_merged_2025-03-12_day.tif\n",
      "   📦 Standard file (0.5 GB), using adaptive chunks\n",
      "   [CHECK] Checking if file already exists in S3: s3://nasa-disasters/drcs_activations_new/Planet/trueColor/202503_SevereWx_US_LZK_Planet_trueColor_7925821_merged_2025-03-12_day.tif\n",
      "   [INFO] File size: 0.5 GB\n",
      "   [TEMP] Using temp directory: /tmp\n",
      "   [MEMORY] Initial: 1762.4 MB, Available: 27884.1 MB\n",
      "   [STREAM] Attempting to stream from S3: /vsis3/nasa-disasters/drcs_activations/202503_SevereWx_US/planet/LZK_Planet_trueColor_20250312_7925821_merged.tif\n"
     ]
    },
    {
     "name": "stderr",
     "output_type": "stream",
     "text": [
      "Reading input: <open WarpedVRT name='WarpedVRT(/vsis3/nasa-disasters/drcs_activations/202503_SevereWx_US/planet/LZK_Planet_trueColor_20250312_7925821_merged.tif)' mode='r'>\n",
      "\n"
     ]
    },
    {
     "name": "stdout",
     "output_type": "stream",
     "text": [
      "   [STREAM] ✅ Successfully opened file via streaming\n",
      "   [OPTIMIZED] Using rio-cogeo for single-pass COG creation\n",
      "   [NODATA] Using existing no-data value: 0.0\n",
      "   [COG] Creating COG with reprojection in single pass...\n"
     ]
    },
    {
     "name": "stderr",
     "output_type": "stream",
     "text": [
      "Adding overviews...\n",
      "Updating dataset tags...\n",
      "Writing output to: cog_202503_SevereWx_US_LZK_Planet_trueColor_7925821_merged_2025-03-12_day.tif\n"
     ]
    },
    {
     "name": "stdout",
     "output_type": "stream",
     "text": [
      "   [COG] ✅ COG created successfully\n",
      "   [VALIDATE] Checking COG validity...\n",
      "   [VALIDATE] ✅ Valid COG\n",
      "   [UPLOAD] Uploading 231.3 MB to s3://nasa-disasters/drcs_activations_new/Planet/trueColor/202503_SevereWx_US_LZK_Planet_trueColor_7925821_merged_2025-03-12_day.tif\n",
      "   [UPLOAD] ✅ Uploaded to s3://nasa-disasters/drcs_activations_new/Planet/trueColor/202503_SevereWx_US_LZK_Planet_trueColor_7925821_merged_2025-03-12_day.tif\n"
     ]
    },
    {
     "name": "stderr",
     "output_type": "stream",
     "text": [
      "Processing trueColor_or_truecolor:  37%|███▋      | 25/68 [5:08:26<7:38:13, 639.39s/it]"
     ]
    },
    {
     "name": "stdout",
     "output_type": "stream",
     "text": [
      "   [LOCAL] Saved to output/202503_SevereWx_US/trueColor_or_truecolor/202503_SevereWx_US_LZK_Planet_trueColor_7925821_merged_2025-03-12_day.tif\n",
      "   [MEMORY] Final: 1762.5 MB (Change: +0.0 MB)\n",
      "   [TIME] Total processing time: 387.7 seconds\n",
      "   [CLEANUP] Removed: cog_202503_SevereWx_US_LZK_Planet_trueColor_7925821_merged_2025-03-12_day.tif\n",
      "   ✅ Successfully processed in 387.9s\n",
      "\n",
      "📄 Processing: LZK_Planet_trueColor_20250317_7937837_merged.tif\n",
      "   → Output: 202503_SevereWx_US_LZK_Planet_trueColor_7937837_merged_2025-03-17_day.tif\n",
      "   📦 Standard file (1.0 GB), using adaptive chunks\n",
      "   [CHECK] Checking if file already exists in S3: s3://nasa-disasters/drcs_activations_new/Planet/trueColor/202503_SevereWx_US_LZK_Planet_trueColor_7937837_merged_2025-03-17_day.tif\n",
      "   [INFO] File size: 1.0 GB\n",
      "   [TEMP] Using temp directory: /tmp\n",
      "   [MEMORY] Initial: 1762.5 MB, Available: 27884.9 MB\n",
      "   [STREAM] Attempting to stream from S3: /vsis3/nasa-disasters/drcs_activations/202503_SevereWx_US/planet/LZK_Planet_trueColor_20250317_7937837_merged.tif\n"
     ]
    },
    {
     "name": "stderr",
     "output_type": "stream",
     "text": [
      "Reading input: <open WarpedVRT name='WarpedVRT(/vsis3/nasa-disasters/drcs_activations/202503_SevereWx_US/planet/LZK_Planet_trueColor_20250317_7937837_merged.tif)' mode='r'>\n",
      "\n"
     ]
    },
    {
     "name": "stdout",
     "output_type": "stream",
     "text": [
      "   [STREAM] ✅ Successfully opened file via streaming\n",
      "   [OPTIMIZED] Using rio-cogeo for single-pass COG creation\n",
      "   [NODATA] Using existing no-data value: 0.0\n",
      "   [COG] Creating COG with reprojection in single pass...\n"
     ]
    },
    {
     "name": "stderr",
     "output_type": "stream",
     "text": [
      "Adding overviews...\n",
      "Updating dataset tags...\n",
      "Writing output to: cog_202503_SevereWx_US_LZK_Planet_trueColor_7937837_merged_2025-03-17_day.tif\n"
     ]
    },
    {
     "name": "stdout",
     "output_type": "stream",
     "text": [
      "   [COG] ✅ COG created successfully\n",
      "   [VALIDATE] Checking COG validity...\n",
      "   [VALIDATE] ✅ Valid COG\n",
      "   [UPLOAD] Uploading 459.6 MB to s3://nasa-disasters/drcs_activations_new/Planet/trueColor/202503_SevereWx_US_LZK_Planet_trueColor_7937837_merged_2025-03-17_day.tif\n",
      "   [UPLOAD] ✅ Uploaded to s3://nasa-disasters/drcs_activations_new/Planet/trueColor/202503_SevereWx_US_LZK_Planet_trueColor_7937837_merged_2025-03-17_day.tif\n",
      "   [LOCAL] Saved to output/202503_SevereWx_US/trueColor_or_truecolor/202503_SevereWx_US_LZK_Planet_trueColor_7937837_merged_2025-03-17_day.tif\n",
      "   [MEMORY] Final: 1762.5 MB (Change: +0.0 MB)\n",
      "   [TIME] Total processing time: 819.4 seconds\n",
      "   [CLEANUP] Removed: cog_202503_SevereWx_US_LZK_Planet_trueColor_7937837_merged_2025-03-17_day.tif\n",
      "   ✅ Successfully processed in 819.6s\n"
     ]
    },
    {
     "name": "stderr",
     "output_type": "stream",
     "text": [
      "Processing trueColor_or_truecolor:  38%|███▊      | 26/68 [5:22:06<8:05:25, 693.46s/it]"
     ]
    },
    {
     "name": "stdout",
     "output_type": "stream",
     "text": [
      "\n",
      "📄 Processing: LZK_Planet_trueColor_20250317_7937847_merged.tif\n",
      "   → Output: 202503_SevereWx_US_LZK_Planet_trueColor_7937847_merged_2025-03-17_day.tif\n",
      "   📦 Standard file (0.6 GB), using adaptive chunks\n",
      "   [CHECK] Checking if file already exists in S3: s3://nasa-disasters/drcs_activations_new/Planet/trueColor/202503_SevereWx_US_LZK_Planet_trueColor_7937847_merged_2025-03-17_day.tif\n",
      "   [INFO] File size: 0.6 GB\n",
      "   [TEMP] Using temp directory: /tmp\n",
      "   [MEMORY] Initial: 1762.5 MB, Available: 27882.2 MB\n",
      "   [STREAM] Attempting to stream from S3: /vsis3/nasa-disasters/drcs_activations/202503_SevereWx_US/planet/LZK_Planet_trueColor_20250317_7937847_merged.tif\n"
     ]
    },
    {
     "name": "stderr",
     "output_type": "stream",
     "text": [
      "Reading input: <open WarpedVRT name='WarpedVRT(/vsis3/nasa-disasters/drcs_activations/202503_SevereWx_US/planet/LZK_Planet_trueColor_20250317_7937847_merged.tif)' mode='r'>\n",
      "\n"
     ]
    },
    {
     "name": "stdout",
     "output_type": "stream",
     "text": [
      "   [STREAM] ✅ Successfully opened file via streaming\n",
      "   [OPTIMIZED] Using rio-cogeo for single-pass COG creation\n",
      "   [NODATA] Using existing no-data value: 0.0\n",
      "   [COG] Creating COG with reprojection in single pass...\n"
     ]
    },
    {
     "name": "stderr",
     "output_type": "stream",
     "text": [
      "Adding overviews...\n",
      "Updating dataset tags...\n",
      "Writing output to: cog_202503_SevereWx_US_LZK_Planet_trueColor_7937847_merged_2025-03-17_day.tif\n"
     ]
    },
    {
     "name": "stdout",
     "output_type": "stream",
     "text": [
      "   [COG] ✅ COG created successfully\n",
      "   [VALIDATE] Checking COG validity...\n",
      "   [VALIDATE] ✅ Valid COG\n",
      "   [UPLOAD] Uploading 262.3 MB to s3://nasa-disasters/drcs_activations_new/Planet/trueColor/202503_SevereWx_US_LZK_Planet_trueColor_7937847_merged_2025-03-17_day.tif\n",
      "   [UPLOAD] ✅ Uploaded to s3://nasa-disasters/drcs_activations_new/Planet/trueColor/202503_SevereWx_US_LZK_Planet_trueColor_7937847_merged_2025-03-17_day.tif\n"
     ]
    },
    {
     "name": "stderr",
     "output_type": "stream",
     "text": [
      "Processing trueColor_or_truecolor:  40%|███▉      | 27/68 [5:29:17<7:00:11, 614.91s/it]"
     ]
    },
    {
     "name": "stdout",
     "output_type": "stream",
     "text": [
      "   [LOCAL] Saved to output/202503_SevereWx_US/trueColor_or_truecolor/202503_SevereWx_US_LZK_Planet_trueColor_7937847_merged_2025-03-17_day.tif\n",
      "   [MEMORY] Final: 1762.7 MB (Change: +0.2 MB)\n",
      "   [TIME] Total processing time: 431.4 seconds\n",
      "   [CLEANUP] Removed: cog_202503_SevereWx_US_LZK_Planet_trueColor_7937847_merged_2025-03-17_day.tif\n",
      "   ✅ Successfully processed in 431.7s\n",
      "\n",
      "📄 Processing: LZK_Planet_trueColor_20250317_7937893_merged.tif\n",
      "   → Output: 202503_SevereWx_US_LZK_Planet_trueColor_7937893_merged_2025-03-17_day.tif\n",
      "   📦 Standard file (0.4 GB), using adaptive chunks\n",
      "   [CHECK] Checking if file already exists in S3: s3://nasa-disasters/drcs_activations_new/Planet/trueColor/202503_SevereWx_US_LZK_Planet_trueColor_7937893_merged_2025-03-17_day.tif\n",
      "   [INFO] File size: 0.4 GB\n",
      "   [TEMP] Using temp directory: /tmp\n",
      "   [MEMORY] Initial: 1762.7 MB, Available: 27879.7 MB\n",
      "   [STREAM] Attempting to stream from S3: /vsis3/nasa-disasters/drcs_activations/202503_SevereWx_US/planet/LZK_Planet_trueColor_20250317_7937893_merged.tif\n"
     ]
    },
    {
     "name": "stderr",
     "output_type": "stream",
     "text": [
      "Reading input: <open WarpedVRT name='WarpedVRT(/vsis3/nasa-disasters/drcs_activations/202503_SevereWx_US/planet/LZK_Planet_trueColor_20250317_7937893_merged.tif)' mode='r'>\n",
      "\n"
     ]
    },
    {
     "name": "stdout",
     "output_type": "stream",
     "text": [
      "   [STREAM] ✅ Successfully opened file via streaming\n",
      "   [OPTIMIZED] Using rio-cogeo for single-pass COG creation\n",
      "   [NODATA] Using existing no-data value: 0.0\n",
      "   [COG] Creating COG with reprojection in single pass...\n"
     ]
    },
    {
     "name": "stderr",
     "output_type": "stream",
     "text": [
      "Adding overviews...\n",
      "Updating dataset tags...\n",
      "Writing output to: cog_202503_SevereWx_US_LZK_Planet_trueColor_7937893_merged_2025-03-17_day.tif\n"
     ]
    },
    {
     "name": "stdout",
     "output_type": "stream",
     "text": [
      "   [COG] ✅ COG created successfully\n",
      "   [VALIDATE] Checking COG validity...\n",
      "   [VALIDATE] ✅ Valid COG\n",
      "   [UPLOAD] Uploading 167.2 MB to s3://nasa-disasters/drcs_activations_new/Planet/trueColor/202503_SevereWx_US_LZK_Planet_trueColor_7937893_merged_2025-03-17_day.tif\n",
      "   [UPLOAD] ✅ Uploaded to s3://nasa-disasters/drcs_activations_new/Planet/trueColor/202503_SevereWx_US_LZK_Planet_trueColor_7937893_merged_2025-03-17_day.tif\n"
     ]
    },
    {
     "name": "stderr",
     "output_type": "stream",
     "text": [
      "Processing trueColor_or_truecolor:  41%|████      | 28/68 [5:33:53<5:42:01, 513.05s/it]"
     ]
    },
    {
     "name": "stdout",
     "output_type": "stream",
     "text": [
      "   [LOCAL] Saved to output/202503_SevereWx_US/trueColor_or_truecolor/202503_SevereWx_US_LZK_Planet_trueColor_7937893_merged_2025-03-17_day.tif\n",
      "   [MEMORY] Final: 1762.7 MB (Change: +0.0 MB)\n",
      "   [TIME] Total processing time: 275.2 seconds\n",
      "   [CLEANUP] Removed: cog_202503_SevereWx_US_LZK_Planet_trueColor_7937893_merged_2025-03-17_day.tif\n",
      "   ✅ Successfully processed in 275.4s\n",
      "\n",
      "📄 Processing: LZK_Planet_trueColor_20250317_7937957_merged.tif\n",
      "   → Output: 202503_SevereWx_US_LZK_Planet_trueColor_7937957_merged_2025-03-17_day.tif\n",
      "   📦 Standard file (1.0 GB), using adaptive chunks\n",
      "   [CHECK] Checking if file already exists in S3: s3://nasa-disasters/drcs_activations_new/Planet/trueColor/202503_SevereWx_US_LZK_Planet_trueColor_7937957_merged_2025-03-17_day.tif\n",
      "   [INFO] File size: 1.0 GB\n",
      "   [TEMP] Using temp directory: /tmp\n",
      "   [MEMORY] Initial: 1762.7 MB, Available: 27883.3 MB\n",
      "   [STREAM] Attempting to stream from S3: /vsis3/nasa-disasters/drcs_activations/202503_SevereWx_US/planet/LZK_Planet_trueColor_20250317_7937957_merged.tif\n"
     ]
    },
    {
     "name": "stderr",
     "output_type": "stream",
     "text": [
      "Reading input: <open WarpedVRT name='WarpedVRT(/vsis3/nasa-disasters/drcs_activations/202503_SevereWx_US/planet/LZK_Planet_trueColor_20250317_7937957_merged.tif)' mode='r'>\n",
      "\n"
     ]
    },
    {
     "name": "stdout",
     "output_type": "stream",
     "text": [
      "   [STREAM] ✅ Successfully opened file via streaming\n",
      "   [OPTIMIZED] Using rio-cogeo for single-pass COG creation\n",
      "   [NODATA] Using existing no-data value: 0.0\n",
      "   [COG] Creating COG with reprojection in single pass...\n"
     ]
    },
    {
     "name": "stderr",
     "output_type": "stream",
     "text": [
      "Adding overviews...\n",
      "Updating dataset tags...\n",
      "Writing output to: cog_202503_SevereWx_US_LZK_Planet_trueColor_7937957_merged_2025-03-17_day.tif\n"
     ]
    },
    {
     "name": "stdout",
     "output_type": "stream",
     "text": [
      "   [COG] ✅ COG created successfully\n",
      "   [VALIDATE] Checking COG validity...\n",
      "   [VALIDATE] ✅ Valid COG\n",
      "   [UPLOAD] Uploading 451.2 MB to s3://nasa-disasters/drcs_activations_new/Planet/trueColor/202503_SevereWx_US_LZK_Planet_trueColor_7937957_merged_2025-03-17_day.tif\n",
      "   [UPLOAD] ✅ Uploaded to s3://nasa-disasters/drcs_activations_new/Planet/trueColor/202503_SevereWx_US_LZK_Planet_trueColor_7937957_merged_2025-03-17_day.tif\n"
     ]
    },
    {
     "name": "stderr",
     "output_type": "stream",
     "text": [
      "Processing trueColor_or_truecolor:  43%|████▎     | 29/68 [5:47:34<6:33:37, 605.58s/it]"
     ]
    },
    {
     "name": "stdout",
     "output_type": "stream",
     "text": [
      "   [LOCAL] Saved to output/202503_SevereWx_US/trueColor_or_truecolor/202503_SevereWx_US_LZK_Planet_trueColor_7937957_merged_2025-03-17_day.tif\n",
      "   [MEMORY] Final: 1741.6 MB (Change: -21.2 MB)\n",
      "   [TIME] Total processing time: 821.3 seconds\n",
      "   [CLEANUP] Removed: cog_202503_SevereWx_US_LZK_Planet_trueColor_7937957_merged_2025-03-17_day.tif\n",
      "   ✅ Successfully processed in 821.5s\n",
      "\n",
      "📄 Processing: LZK_Planet_trueColor_20250317_7937970_merged.tif\n",
      "   → Output: 202503_SevereWx_US_LZK_Planet_trueColor_7937970_merged_2025-03-17_day.tif\n",
      "   📦 Standard file (1.0 GB), using adaptive chunks\n",
      "   [CHECK] Checking if file already exists in S3: s3://nasa-disasters/drcs_activations_new/Planet/trueColor/202503_SevereWx_US_LZK_Planet_trueColor_7937970_merged_2025-03-17_day.tif\n",
      "   [INFO] File size: 1.0 GB\n",
      "   [TEMP] Using temp directory: /tmp\n",
      "   [MEMORY] Initial: 1741.6 MB, Available: 28123.9 MB\n",
      "   [STREAM] Attempting to stream from S3: /vsis3/nasa-disasters/drcs_activations/202503_SevereWx_US/planet/LZK_Planet_trueColor_20250317_7937970_merged.tif\n"
     ]
    },
    {
     "name": "stderr",
     "output_type": "stream",
     "text": [
      "Reading input: <open WarpedVRT name='WarpedVRT(/vsis3/nasa-disasters/drcs_activations/202503_SevereWx_US/planet/LZK_Planet_trueColor_20250317_7937970_merged.tif)' mode='r'>\n",
      "\n"
     ]
    },
    {
     "name": "stdout",
     "output_type": "stream",
     "text": [
      "   [STREAM] ✅ Successfully opened file via streaming\n",
      "   [OPTIMIZED] Using rio-cogeo for single-pass COG creation\n",
      "   [NODATA] Using existing no-data value: 0.0\n",
      "   [COG] Creating COG with reprojection in single pass...\n"
     ]
    },
    {
     "name": "stderr",
     "output_type": "stream",
     "text": [
      "Adding overviews...\n",
      "Updating dataset tags...\n",
      "Writing output to: cog_202503_SevereWx_US_LZK_Planet_trueColor_7937970_merged_2025-03-17_day.tif\n"
     ]
    },
    {
     "name": "stdout",
     "output_type": "stream",
     "text": [
      "   [COG] ✅ COG created successfully\n",
      "   [VALIDATE] Checking COG validity...\n",
      "   [VALIDATE] ✅ Valid COG\n",
      "   [UPLOAD] Uploading 364.0 MB to s3://nasa-disasters/drcs_activations_new/Planet/trueColor/202503_SevereWx_US_LZK_Planet_trueColor_7937970_merged_2025-03-17_day.tif\n",
      "   [UPLOAD] ✅ Uploaded to s3://nasa-disasters/drcs_activations_new/Planet/trueColor/202503_SevereWx_US_LZK_Planet_trueColor_7937970_merged_2025-03-17_day.tif\n",
      "   [LOCAL] Saved to output/202503_SevereWx_US/trueColor_or_truecolor/202503_SevereWx_US_LZK_Planet_trueColor_7937970_merged_2025-03-17_day.tif\n",
      "   [MEMORY] Final: 1741.6 MB (Change: +0.0 MB)\n",
      "   [TIME] Total processing time: 734.6 seconds\n",
      "   [CLEANUP] Removed: cog_202503_SevereWx_US_LZK_Planet_trueColor_7937970_merged_2025-03-17_day.tif\n"
     ]
    },
    {
     "name": "stderr",
     "output_type": "stream",
     "text": [
      "Processing trueColor_or_truecolor:  44%|████▍     | 30/68 [5:59:49<6:48:05, 644.35s/it]"
     ]
    },
    {
     "name": "stdout",
     "output_type": "stream",
     "text": [
      "   ✅ Successfully processed in 734.8s\n",
      "\n",
      "📄 Processing: LZK_Planet_trueColor_20250317_7938212_merged.tif\n",
      "   → Output: 202503_SevereWx_US_LZK_Planet_trueColor_7938212_merged_2025-03-17_day.tif\n",
      "   📦 Standard file (0.5 GB), using adaptive chunks\n",
      "   [CHECK] Checking if file already exists in S3: s3://nasa-disasters/drcs_activations_new/Planet/trueColor/202503_SevereWx_US_LZK_Planet_trueColor_7938212_merged_2025-03-17_day.tif\n",
      "   [INFO] File size: 0.5 GB\n",
      "   [TEMP] Using temp directory: /tmp\n",
      "   [MEMORY] Initial: 1741.6 MB, Available: 28122.6 MB\n",
      "   [STREAM] Attempting to stream from S3: /vsis3/nasa-disasters/drcs_activations/202503_SevereWx_US/planet/LZK_Planet_trueColor_20250317_7938212_merged.tif\n"
     ]
    },
    {
     "name": "stderr",
     "output_type": "stream",
     "text": [
      "Reading input: <open WarpedVRT name='WarpedVRT(/vsis3/nasa-disasters/drcs_activations/202503_SevereWx_US/planet/LZK_Planet_trueColor_20250317_7938212_merged.tif)' mode='r'>\n",
      "\n"
     ]
    },
    {
     "name": "stdout",
     "output_type": "stream",
     "text": [
      "   [STREAM] ✅ Successfully opened file via streaming\n",
      "   [OPTIMIZED] Using rio-cogeo for single-pass COG creation\n",
      "   [NODATA] Using existing no-data value: 0.0\n",
      "   [COG] Creating COG with reprojection in single pass...\n"
     ]
    },
    {
     "name": "stderr",
     "output_type": "stream",
     "text": [
      "Adding overviews...\n",
      "Updating dataset tags...\n",
      "Writing output to: cog_202503_SevereWx_US_LZK_Planet_trueColor_7938212_merged_2025-03-17_day.tif\n"
     ]
    },
    {
     "name": "stdout",
     "output_type": "stream",
     "text": [
      "   [COG] ✅ COG created successfully\n",
      "   [VALIDATE] Checking COG validity...\n",
      "   [VALIDATE] ✅ Valid COG\n",
      "   [UPLOAD] Uploading 248.1 MB to s3://nasa-disasters/drcs_activations_new/Planet/trueColor/202503_SevereWx_US_LZK_Planet_trueColor_7938212_merged_2025-03-17_day.tif\n",
      "   [UPLOAD] ✅ Uploaded to s3://nasa-disasters/drcs_activations_new/Planet/trueColor/202503_SevereWx_US_LZK_Planet_trueColor_7938212_merged_2025-03-17_day.tif\n"
     ]
    },
    {
     "name": "stderr",
     "output_type": "stream",
     "text": [
      "Processing trueColor_or_truecolor:  46%|████▌     | 31/68 [6:06:25<5:51:28, 569.96s/it]"
     ]
    },
    {
     "name": "stdout",
     "output_type": "stream",
     "text": [
      "   [LOCAL] Saved to output/202503_SevereWx_US/trueColor_or_truecolor/202503_SevereWx_US_LZK_Planet_trueColor_7938212_merged_2025-03-17_day.tif\n",
      "   [MEMORY] Final: 1742.3 MB (Change: +0.7 MB)\n",
      "   [TIME] Total processing time: 396.2 seconds\n",
      "   [CLEANUP] Removed: cog_202503_SevereWx_US_LZK_Planet_trueColor_7938212_merged_2025-03-17_day.tif\n",
      "   ✅ Successfully processed in 396.4s\n",
      "\n",
      "📄 Processing: LZK_Planet_trueColor_20250317_7938226_merged.tif\n",
      "   → Output: 202503_SevereWx_US_LZK_Planet_trueColor_7938226_merged_2025-03-17_day.tif\n",
      "   📦 Standard file (0.8 GB), using adaptive chunks\n",
      "   [CHECK] Checking if file already exists in S3: s3://nasa-disasters/drcs_activations_new/Planet/trueColor/202503_SevereWx_US_LZK_Planet_trueColor_7938226_merged_2025-03-17_day.tif\n",
      "   [INFO] File size: 0.8 GB\n",
      "   [TEMP] Using temp directory: /tmp\n",
      "   [MEMORY] Initial: 1742.3 MB, Available: 28124.8 MB\n",
      "   [STREAM] Attempting to stream from S3: /vsis3/nasa-disasters/drcs_activations/202503_SevereWx_US/planet/LZK_Planet_trueColor_20250317_7938226_merged.tif\n"
     ]
    },
    {
     "name": "stderr",
     "output_type": "stream",
     "text": [
      "Reading input: <open WarpedVRT name='WarpedVRT(/vsis3/nasa-disasters/drcs_activations/202503_SevereWx_US/planet/LZK_Planet_trueColor_20250317_7938226_merged.tif)' mode='r'>\n",
      "\n"
     ]
    },
    {
     "name": "stdout",
     "output_type": "stream",
     "text": [
      "   [STREAM] ✅ Successfully opened file via streaming\n",
      "   [OPTIMIZED] Using rio-cogeo for single-pass COG creation\n",
      "   [NODATA] Using existing no-data value: 0.0\n",
      "   [COG] Creating COG with reprojection in single pass...\n"
     ]
    },
    {
     "name": "stderr",
     "output_type": "stream",
     "text": [
      "Adding overviews...\n",
      "Updating dataset tags...\n",
      "Writing output to: cog_202503_SevereWx_US_LZK_Planet_trueColor_7938226_merged_2025-03-17_day.tif\n"
     ]
    },
    {
     "name": "stdout",
     "output_type": "stream",
     "text": [
      "   [COG] ✅ COG created successfully\n",
      "   [VALIDATE] Checking COG validity...\n",
      "   [VALIDATE] ✅ Valid COG\n",
      "   [UPLOAD] Uploading 344.5 MB to s3://nasa-disasters/drcs_activations_new/Planet/trueColor/202503_SevereWx_US_LZK_Planet_trueColor_7938226_merged_2025-03-17_day.tif\n",
      "   [UPLOAD] ✅ Uploaded to s3://nasa-disasters/drcs_activations_new/Planet/trueColor/202503_SevereWx_US_LZK_Planet_trueColor_7938226_merged_2025-03-17_day.tif\n"
     ]
    },
    {
     "name": "stderr",
     "output_type": "stream",
     "text": [
      "Processing trueColor_or_truecolor:  47%|████▋     | 32/68 [6:16:00<5:42:44, 571.23s/it]"
     ]
    },
    {
     "name": "stdout",
     "output_type": "stream",
     "text": [
      "   [LOCAL] Saved to output/202503_SevereWx_US/trueColor_or_truecolor/202503_SevereWx_US_LZK_Planet_trueColor_7938226_merged_2025-03-17_day.tif\n",
      "   [MEMORY] Final: 1742.3 MB (Change: +0.0 MB)\n",
      "   [TIME] Total processing time: 574.0 seconds\n",
      "   [CLEANUP] Removed: cog_202503_SevereWx_US_LZK_Planet_trueColor_7938226_merged_2025-03-17_day.tif\n",
      "   ✅ Successfully processed in 574.2s\n",
      "\n",
      "📄 Processing: LZK_Planet_trueColor_20250318_7940308_merged.tif\n",
      "   → Output: 202503_SevereWx_US_LZK_Planet_trueColor_7940308_merged_2025-03-18_day.tif\n",
      "   📦 Standard file (0.5 GB), using adaptive chunks\n",
      "   [CHECK] Checking if file already exists in S3: s3://nasa-disasters/drcs_activations_new/Planet/trueColor/202503_SevereWx_US_LZK_Planet_trueColor_7940308_merged_2025-03-18_day.tif\n",
      "   [INFO] File size: 0.5 GB\n",
      "   [TEMP] Using temp directory: /tmp\n",
      "   [MEMORY] Initial: 1742.3 MB, Available: 28121.1 MB\n",
      "   [STREAM] Attempting to stream from S3: /vsis3/nasa-disasters/drcs_activations/202503_SevereWx_US/planet/LZK_Planet_trueColor_20250318_7940308_merged.tif\n"
     ]
    },
    {
     "name": "stderr",
     "output_type": "stream",
     "text": [
      "Reading input: <open WarpedVRT name='WarpedVRT(/vsis3/nasa-disasters/drcs_activations/202503_SevereWx_US/planet/LZK_Planet_trueColor_20250318_7940308_merged.tif)' mode='r'>\n",
      "\n"
     ]
    },
    {
     "name": "stdout",
     "output_type": "stream",
     "text": [
      "   [STREAM] ✅ Successfully opened file via streaming\n",
      "   [OPTIMIZED] Using rio-cogeo for single-pass COG creation\n",
      "   [NODATA] Using existing no-data value: 0.0\n",
      "   [COG] Creating COG with reprojection in single pass...\n"
     ]
    },
    {
     "name": "stderr",
     "output_type": "stream",
     "text": [
      "Adding overviews...\n",
      "Updating dataset tags...\n",
      "Writing output to: cog_202503_SevereWx_US_LZK_Planet_trueColor_7940308_merged_2025-03-18_day.tif\n"
     ]
    },
    {
     "name": "stdout",
     "output_type": "stream",
     "text": [
      "   [COG] ✅ COG created successfully\n",
      "   [VALIDATE] Checking COG validity...\n",
      "   [VALIDATE] ✅ Valid COG\n",
      "   [UPLOAD] Uploading 206.8 MB to s3://nasa-disasters/drcs_activations_new/Planet/trueColor/202503_SevereWx_US_LZK_Planet_trueColor_7940308_merged_2025-03-18_day.tif\n",
      "   [UPLOAD] ✅ Uploaded to s3://nasa-disasters/drcs_activations_new/Planet/trueColor/202503_SevereWx_US_LZK_Planet_trueColor_7940308_merged_2025-03-18_day.tif\n"
     ]
    },
    {
     "name": "stderr",
     "output_type": "stream",
     "text": [
      "Processing trueColor_or_truecolor:  49%|████▊     | 33/68 [6:22:18<4:59:23, 513.25s/it]"
     ]
    },
    {
     "name": "stdout",
     "output_type": "stream",
     "text": [
      "   [LOCAL] Saved to output/202503_SevereWx_US/trueColor_or_truecolor/202503_SevereWx_US_LZK_Planet_trueColor_7940308_merged_2025-03-18_day.tif\n",
      "   [MEMORY] Final: 1742.3 MB (Change: +0.0 MB)\n",
      "   [TIME] Total processing time: 377.8 seconds\n",
      "   [CLEANUP] Removed: cog_202503_SevereWx_US_LZK_Planet_trueColor_7940308_merged_2025-03-18_day.tif\n",
      "   ✅ Successfully processed in 378.0s\n",
      "\n",
      "📄 Processing: MEG_Planet_trueColor_20250311_7923362_merged.tif\n",
      "   → Output: 202503_SevereWx_US_MEG_Planet_trueColor_7923362_merged_2025-03-11_day.tif\n",
      "   📦 Standard file (1.1 GB), using adaptive chunks\n",
      "   [CHECK] Checking if file already exists in S3: s3://nasa-disasters/drcs_activations_new/Planet/trueColor/202503_SevereWx_US_MEG_Planet_trueColor_7923362_merged_2025-03-11_day.tif\n",
      "   [INFO] File size: 1.1 GB\n",
      "   [TEMP] Using temp directory: /tmp\n",
      "   [MEMORY] Initial: 1742.3 MB, Available: 28120.6 MB\n",
      "   [STREAM] Attempting to stream from S3: /vsis3/nasa-disasters/drcs_activations/202503_SevereWx_US/planet/MEG_Planet_trueColor_20250311_7923362_merged.tif\n"
     ]
    },
    {
     "name": "stderr",
     "output_type": "stream",
     "text": [
      "Reading input: <open WarpedVRT name='WarpedVRT(/vsis3/nasa-disasters/drcs_activations/202503_SevereWx_US/planet/MEG_Planet_trueColor_20250311_7923362_merged.tif)' mode='r'>\n",
      "\n"
     ]
    },
    {
     "name": "stdout",
     "output_type": "stream",
     "text": [
      "   [STREAM] ✅ Successfully opened file via streaming\n",
      "   [OPTIMIZED] Using rio-cogeo for single-pass COG creation\n",
      "   [NODATA] Using existing no-data value: 0.0\n",
      "   [COG] Creating COG with reprojection in single pass...\n"
     ]
    },
    {
     "name": "stderr",
     "output_type": "stream",
     "text": [
      "Adding overviews...\n",
      "Updating dataset tags...\n",
      "Writing output to: cog_202503_SevereWx_US_MEG_Planet_trueColor_7923362_merged_2025-03-11_day.tif\n"
     ]
    },
    {
     "name": "stdout",
     "output_type": "stream",
     "text": [
      "   [COG] ✅ COG created successfully\n",
      "   [VALIDATE] Checking COG validity...\n",
      "   [VALIDATE] ✅ Valid COG\n",
      "   [UPLOAD] Uploading 497.0 MB to s3://nasa-disasters/drcs_activations_new/Planet/trueColor/202503_SevereWx_US_MEG_Planet_trueColor_7923362_merged_2025-03-11_day.tif\n",
      "   [UPLOAD] ✅ Uploaded to s3://nasa-disasters/drcs_activations_new/Planet/trueColor/202503_SevereWx_US_MEG_Planet_trueColor_7923362_merged_2025-03-11_day.tif\n",
      "   [LOCAL] Saved to output/202503_SevereWx_US/trueColor_or_truecolor/202503_SevereWx_US_MEG_Planet_trueColor_7923362_merged_2025-03-11_day.tif\n",
      "   [MEMORY] Final: 1748.5 MB (Change: +6.3 MB)\n",
      "   [TIME] Total processing time: 887.7 seconds\n",
      "   [CLEANUP] Removed: cog_202503_SevereWx_US_MEG_Planet_trueColor_7923362_merged_2025-03-11_day.tif\n",
      "   ✅ Successfully processed in 887.9s\n"
     ]
    },
    {
     "name": "stderr",
     "output_type": "stream",
     "text": [
      "Processing trueColor_or_truecolor:  50%|█████     | 34/68 [6:37:06<5:54:32, 625.65s/it]"
     ]
    },
    {
     "name": "stdout",
     "output_type": "stream",
     "text": [
      "\n",
      "📄 Processing: MEG_Planet_trueColor_20250311_7923543_merged.tif\n",
      "   → Output: 202503_SevereWx_US_MEG_Planet_trueColor_7923543_merged_2025-03-11_day.tif\n",
      "   📦 Standard file (0.5 GB), using adaptive chunks\n",
      "   [CHECK] Checking if file already exists in S3: s3://nasa-disasters/drcs_activations_new/Planet/trueColor/202503_SevereWx_US_MEG_Planet_trueColor_7923543_merged_2025-03-11_day.tif\n",
      "   [INFO] File size: 0.5 GB\n",
      "   [TEMP] Using temp directory: /tmp\n",
      "   [MEMORY] Initial: 1748.5 MB, Available: 28113.8 MB\n",
      "   [STREAM] Attempting to stream from S3: /vsis3/nasa-disasters/drcs_activations/202503_SevereWx_US/planet/MEG_Planet_trueColor_20250311_7923543_merged.tif\n"
     ]
    },
    {
     "name": "stderr",
     "output_type": "stream",
     "text": [
      "Reading input: <open WarpedVRT name='WarpedVRT(/vsis3/nasa-disasters/drcs_activations/202503_SevereWx_US/planet/MEG_Planet_trueColor_20250311_7923543_merged.tif)' mode='r'>\n",
      "\n"
     ]
    },
    {
     "name": "stdout",
     "output_type": "stream",
     "text": [
      "   [STREAM] ✅ Successfully opened file via streaming\n",
      "   [OPTIMIZED] Using rio-cogeo for single-pass COG creation\n",
      "   [NODATA] Using existing no-data value: 0.0\n",
      "   [COG] Creating COG with reprojection in single pass...\n"
     ]
    },
    {
     "name": "stderr",
     "output_type": "stream",
     "text": [
      "Adding overviews...\n",
      "Updating dataset tags...\n",
      "Writing output to: cog_202503_SevereWx_US_MEG_Planet_trueColor_7923543_merged_2025-03-11_day.tif\n"
     ]
    },
    {
     "name": "stdout",
     "output_type": "stream",
     "text": [
      "   [COG] ✅ COG created successfully\n",
      "   [VALIDATE] Checking COG validity...\n",
      "   [VALIDATE] ✅ Valid COG\n",
      "   [UPLOAD] Uploading 207.2 MB to s3://nasa-disasters/drcs_activations_new/Planet/trueColor/202503_SevereWx_US_MEG_Planet_trueColor_7923543_merged_2025-03-11_day.tif\n",
      "   [UPLOAD] ✅ Uploaded to s3://nasa-disasters/drcs_activations_new/Planet/trueColor/202503_SevereWx_US_MEG_Planet_trueColor_7923543_merged_2025-03-11_day.tif\n"
     ]
    },
    {
     "name": "stderr",
     "output_type": "stream",
     "text": [
      "Processing trueColor_or_truecolor:  51%|█████▏    | 35/68 [6:43:45<5:06:45, 557.73s/it]"
     ]
    },
    {
     "name": "stdout",
     "output_type": "stream",
     "text": [
      "   [LOCAL] Saved to output/202503_SevereWx_US/trueColor_or_truecolor/202503_SevereWx_US_MEG_Planet_trueColor_7923543_merged_2025-03-11_day.tif\n",
      "   [MEMORY] Final: 1748.6 MB (Change: +0.0 MB)\n",
      "   [TIME] Total processing time: 399.1 seconds\n",
      "   [CLEANUP] Removed: cog_202503_SevereWx_US_MEG_Planet_trueColor_7923543_merged_2025-03-11_day.tif\n",
      "   ✅ Successfully processed in 399.2s\n",
      "\n",
      "📄 Processing: MEG_Planet_trueColor_20250311_7923610_merged.tif\n",
      "   → Output: 202503_SevereWx_US_MEG_Planet_trueColor_7923610_merged_2025-03-11_day.tif\n",
      "   📦 Standard file (0.7 GB), using adaptive chunks\n",
      "   [CHECK] Checking if file already exists in S3: s3://nasa-disasters/drcs_activations_new/Planet/trueColor/202503_SevereWx_US_MEG_Planet_trueColor_7923610_merged_2025-03-11_day.tif\n",
      "   [INFO] File size: 0.7 GB\n",
      "   [TEMP] Using temp directory: /tmp\n",
      "   [MEMORY] Initial: 1748.6 MB, Available: 28115.5 MB\n",
      "   [STREAM] Attempting to stream from S3: /vsis3/nasa-disasters/drcs_activations/202503_SevereWx_US/planet/MEG_Planet_trueColor_20250311_7923610_merged.tif\n"
     ]
    },
    {
     "name": "stderr",
     "output_type": "stream",
     "text": [
      "Reading input: <open WarpedVRT name='WarpedVRT(/vsis3/nasa-disasters/drcs_activations/202503_SevereWx_US/planet/MEG_Planet_trueColor_20250311_7923610_merged.tif)' mode='r'>\n",
      "\n"
     ]
    },
    {
     "name": "stdout",
     "output_type": "stream",
     "text": [
      "   [STREAM] ✅ Successfully opened file via streaming\n",
      "   [OPTIMIZED] Using rio-cogeo for single-pass COG creation\n",
      "   [NODATA] Using existing no-data value: 0.0\n",
      "   [COG] Creating COG with reprojection in single pass...\n"
     ]
    },
    {
     "name": "stderr",
     "output_type": "stream",
     "text": [
      "Adding overviews...\n",
      "Updating dataset tags...\n",
      "Writing output to: cog_202503_SevereWx_US_MEG_Planet_trueColor_7923610_merged_2025-03-11_day.tif\n"
     ]
    },
    {
     "name": "stdout",
     "output_type": "stream",
     "text": [
      "   [COG] ✅ COG created successfully\n",
      "   [VALIDATE] Checking COG validity...\n",
      "   [VALIDATE] ✅ Valid COG\n",
      "   [UPLOAD] Uploading 297.9 MB to s3://nasa-disasters/drcs_activations_new/Planet/trueColor/202503_SevereWx_US_MEG_Planet_trueColor_7923610_merged_2025-03-11_day.tif\n",
      "   [UPLOAD] ✅ Uploaded to s3://nasa-disasters/drcs_activations_new/Planet/trueColor/202503_SevereWx_US_MEG_Planet_trueColor_7923610_merged_2025-03-11_day.tif\n",
      "   [LOCAL] Saved to output/202503_SevereWx_US/trueColor_or_truecolor/202503_SevereWx_US_MEG_Planet_trueColor_7923610_merged_2025-03-11_day.tif\n",
      "   [MEMORY] Final: 1748.8 MB (Change: +0.3 MB)\n",
      "   [TIME] Total processing time: 583.4 seconds\n",
      "   [CLEANUP] Removed: cog_202503_SevereWx_US_MEG_Planet_trueColor_7923610_merged_2025-03-11_day.tif\n"
     ]
    },
    {
     "name": "stderr",
     "output_type": "stream",
     "text": [
      "Processing trueColor_or_truecolor:  53%|█████▎    | 36/68 [6:53:28<5:01:36, 565.52s/it]"
     ]
    },
    {
     "name": "stdout",
     "output_type": "stream",
     "text": [
      "   ✅ Successfully processed in 583.7s\n",
      "\n",
      "📄 Processing: MEG_Planet_trueColor_20250311_7923690_merged.tif\n",
      "   → Output: 202503_SevereWx_US_MEG_Planet_trueColor_7923690_merged_2025-03-11_day.tif\n",
      "   📦 Standard file (1.3 GB), using adaptive chunks\n",
      "   [CHECK] Checking if file already exists in S3: s3://nasa-disasters/drcs_activations_new/Planet/trueColor/202503_SevereWx_US_MEG_Planet_trueColor_7923690_merged_2025-03-11_day.tif\n",
      "   [INFO] File size: 1.3 GB\n",
      "   [TEMP] Using temp directory: /tmp\n",
      "   [MEMORY] Initial: 1748.8 MB, Available: 28113.1 MB\n",
      "   [STREAM] Attempting to stream from S3: /vsis3/nasa-disasters/drcs_activations/202503_SevereWx_US/planet/MEG_Planet_trueColor_20250311_7923690_merged.tif\n"
     ]
    },
    {
     "name": "stderr",
     "output_type": "stream",
     "text": [
      "Reading input: <open WarpedVRT name='WarpedVRT(/vsis3/nasa-disasters/drcs_activations/202503_SevereWx_US/planet/MEG_Planet_trueColor_20250311_7923690_merged.tif)' mode='r'>\n",
      "\n"
     ]
    },
    {
     "name": "stdout",
     "output_type": "stream",
     "text": [
      "   [STREAM] ✅ Successfully opened file via streaming\n",
      "   [OPTIMIZED] Using rio-cogeo for single-pass COG creation\n",
      "   [NODATA] Using existing no-data value: 0.0\n",
      "   [COG] Creating COG with reprojection in single pass...\n"
     ]
    },
    {
     "name": "stderr",
     "output_type": "stream",
     "text": [
      "Adding overviews...\n",
      "Updating dataset tags...\n",
      "Writing output to: cog_202503_SevereWx_US_MEG_Planet_trueColor_7923690_merged_2025-03-11_day.tif\n"
     ]
    },
    {
     "name": "stdout",
     "output_type": "stream",
     "text": [
      "   [COG] ✅ COG created successfully\n",
      "   [VALIDATE] Checking COG validity...\n",
      "   [VALIDATE] ✅ Valid COG\n",
      "   [UPLOAD] Uploading 573.8 MB to s3://nasa-disasters/drcs_activations_new/Planet/trueColor/202503_SevereWx_US_MEG_Planet_trueColor_7923690_merged_2025-03-11_day.tif\n",
      "   [UPLOAD] ✅ Uploaded to s3://nasa-disasters/drcs_activations_new/Planet/trueColor/202503_SevereWx_US_MEG_Planet_trueColor_7923690_merged_2025-03-11_day.tif\n",
      "   [LOCAL] Saved to output/202503_SevereWx_US/trueColor_or_truecolor/202503_SevereWx_US_MEG_Planet_trueColor_7923690_merged_2025-03-11_day.tif\n",
      "   [MEMORY] Final: 1834.4 MB (Change: +85.6 MB)\n",
      "   [TIME] Total processing time: 1073.0 seconds\n",
      "   [CLEANUP] Removed: cog_202503_SevereWx_US_MEG_Planet_trueColor_7923690_merged_2025-03-11_day.tif\n"
     ]
    },
    {
     "name": "stderr",
     "output_type": "stream",
     "text": [
      "Processing trueColor_or_truecolor:  54%|█████▍    | 37/68 [7:11:22<6:10:52, 717.84s/it]"
     ]
    },
    {
     "name": "stdout",
     "output_type": "stream",
     "text": [
      "   ✅ Successfully processed in 1073.3s\n",
      "\n",
      "📄 Processing: MEG_Planet_trueColor_20250311_7923925_merged.tif\n",
      "   → Output: 202503_SevereWx_US_MEG_Planet_trueColor_7923925_merged_2025-03-11_day.tif\n",
      "   📦 Standard file (1.1 GB), using adaptive chunks\n",
      "   [CHECK] Checking if file already exists in S3: s3://nasa-disasters/drcs_activations_new/Planet/trueColor/202503_SevereWx_US_MEG_Planet_trueColor_7923925_merged_2025-03-11_day.tif\n",
      "   [INFO] File size: 1.1 GB\n",
      "   [TEMP] Using temp directory: /tmp\n",
      "   [MEMORY] Initial: 1834.4 MB, Available: 28030.9 MB\n",
      "   [STREAM] Attempting to stream from S3: /vsis3/nasa-disasters/drcs_activations/202503_SevereWx_US/planet/MEG_Planet_trueColor_20250311_7923925_merged.tif\n"
     ]
    },
    {
     "name": "stderr",
     "output_type": "stream",
     "text": [
      "Reading input: <open WarpedVRT name='WarpedVRT(/vsis3/nasa-disasters/drcs_activations/202503_SevereWx_US/planet/MEG_Planet_trueColor_20250311_7923925_merged.tif)' mode='r'>\n",
      "\n"
     ]
    },
    {
     "name": "stdout",
     "output_type": "stream",
     "text": [
      "   [STREAM] ✅ Successfully opened file via streaming\n",
      "   [OPTIMIZED] Using rio-cogeo for single-pass COG creation\n",
      "   [NODATA] Using existing no-data value: 0.0\n",
      "   [COG] Creating COG with reprojection in single pass...\n"
     ]
    },
    {
     "name": "stderr",
     "output_type": "stream",
     "text": [
      "Adding overviews...\n",
      "Updating dataset tags...\n",
      "Writing output to: cog_202503_SevereWx_US_MEG_Planet_trueColor_7923925_merged_2025-03-11_day.tif\n"
     ]
    },
    {
     "name": "stdout",
     "output_type": "stream",
     "text": [
      "   [COG] ✅ COG created successfully\n",
      "   [VALIDATE] Checking COG validity...\n",
      "   [VALIDATE] ✅ Valid COG\n",
      "   [UPLOAD] Uploading 472.9 MB to s3://nasa-disasters/drcs_activations_new/Planet/trueColor/202503_SevereWx_US_MEG_Planet_trueColor_7923925_merged_2025-03-11_day.tif\n",
      "   [UPLOAD] ✅ Uploaded to s3://nasa-disasters/drcs_activations_new/Planet/trueColor/202503_SevereWx_US_MEG_Planet_trueColor_7923925_merged_2025-03-11_day.tif\n",
      "   [LOCAL] Saved to output/202503_SevereWx_US/trueColor_or_truecolor/202503_SevereWx_US_MEG_Planet_trueColor_7923925_merged_2025-03-11_day.tif\n",
      "   [MEMORY] Final: 1835.0 MB (Change: +0.6 MB)\n",
      "   [TIME] Total processing time: 890.4 seconds\n",
      "   [CLEANUP] Removed: cog_202503_SevereWx_US_MEG_Planet_trueColor_7923925_merged_2025-03-11_day.tif\n",
      "   ✅ Successfully processed in 890.6s\n"
     ]
    },
    {
     "name": "stderr",
     "output_type": "stream",
     "text": [
      "Processing trueColor_or_truecolor:  56%|█████▌    | 38/68 [7:26:12<6:24:50, 769.67s/it]"
     ]
    },
    {
     "name": "stdout",
     "output_type": "stream",
     "text": [
      "\n",
      "📄 Processing: MEG_Planet_trueColor_20250322_7949909_merged.tif\n",
      "   → Output: 202503_SevereWx_US_MEG_Planet_trueColor_7949909_merged_2025-03-22_day.tif\n",
      "   📦 Standard file (1.0 GB), using adaptive chunks\n",
      "   [CHECK] Checking if file already exists in S3: s3://nasa-disasters/drcs_activations_new/Planet/trueColor/202503_SevereWx_US_MEG_Planet_trueColor_7949909_merged_2025-03-22_day.tif\n",
      "   [INFO] File size: 1.0 GB\n",
      "   [TEMP] Using temp directory: /tmp\n",
      "   [MEMORY] Initial: 1835.0 MB, Available: 28028.5 MB\n",
      "   [STREAM] Attempting to stream from S3: /vsis3/nasa-disasters/drcs_activations/202503_SevereWx_US/planet/MEG_Planet_trueColor_20250322_7949909_merged.tif\n"
     ]
    },
    {
     "name": "stderr",
     "output_type": "stream",
     "text": [
      "Reading input: <open WarpedVRT name='WarpedVRT(/vsis3/nasa-disasters/drcs_activations/202503_SevereWx_US/planet/MEG_Planet_trueColor_20250322_7949909_merged.tif)' mode='r'>\n",
      "\n"
     ]
    },
    {
     "name": "stdout",
     "output_type": "stream",
     "text": [
      "   [STREAM] ✅ Successfully opened file via streaming\n",
      "   [OPTIMIZED] Using rio-cogeo for single-pass COG creation\n",
      "   [NODATA] Using existing no-data value: 0.0\n",
      "   [COG] Creating COG with reprojection in single pass...\n"
     ]
    },
    {
     "name": "stderr",
     "output_type": "stream",
     "text": [
      "Adding overviews...\n",
      "Updating dataset tags...\n",
      "Writing output to: cog_202503_SevereWx_US_MEG_Planet_trueColor_7949909_merged_2025-03-22_day.tif\n"
     ]
    },
    {
     "name": "stdout",
     "output_type": "stream",
     "text": [
      "   [COG] ✅ COG created successfully\n",
      "   [VALIDATE] Checking COG validity...\n",
      "   [VALIDATE] ✅ Valid COG\n",
      "   [UPLOAD] Uploading 408.4 MB to s3://nasa-disasters/drcs_activations_new/Planet/trueColor/202503_SevereWx_US_MEG_Planet_trueColor_7949909_merged_2025-03-22_day.tif\n",
      "   [UPLOAD] ✅ Uploaded to s3://nasa-disasters/drcs_activations_new/Planet/trueColor/202503_SevereWx_US_MEG_Planet_trueColor_7949909_merged_2025-03-22_day.tif\n"
     ]
    },
    {
     "name": "stderr",
     "output_type": "stream",
     "text": [
      "Processing trueColor_or_truecolor:  57%|█████▋    | 39/68 [7:39:58<6:20:07, 786.46s/it]"
     ]
    },
    {
     "name": "stdout",
     "output_type": "stream",
     "text": [
      "   [LOCAL] Saved to output/202503_SevereWx_US/trueColor_or_truecolor/202503_SevereWx_US_MEG_Planet_trueColor_7949909_merged_2025-03-22_day.tif\n",
      "   [MEMORY] Final: 1835.1 MB (Change: +0.1 MB)\n",
      "   [TIME] Total processing time: 825.4 seconds\n",
      "   [CLEANUP] Removed: cog_202503_SevereWx_US_MEG_Planet_trueColor_7949909_merged_2025-03-22_day.tif\n",
      "   ✅ Successfully processed in 825.6s\n",
      "\n",
      "📄 Processing: MEG_Planet_trueColor_20250322_7950032_merged.tif\n",
      "   → Output: 202503_SevereWx_US_MEG_Planet_trueColor_7950032_merged_2025-03-22_day.tif\n",
      "   📦 Standard file (0.3 GB), using adaptive chunks\n",
      "   [CHECK] Checking if file already exists in S3: s3://nasa-disasters/drcs_activations_new/Planet/trueColor/202503_SevereWx_US_MEG_Planet_trueColor_7950032_merged_2025-03-22_day.tif\n",
      "   [INFO] File size: 0.3 GB\n",
      "   [TEMP] Using temp directory: /tmp\n",
      "   [MEMORY] Initial: 1835.1 MB, Available: 28029.3 MB\n",
      "   [STREAM] Attempting to stream from S3: /vsis3/nasa-disasters/drcs_activations/202503_SevereWx_US/planet/MEG_Planet_trueColor_20250322_7950032_merged.tif\n"
     ]
    },
    {
     "name": "stderr",
     "output_type": "stream",
     "text": [
      "Reading input: <open WarpedVRT name='WarpedVRT(/vsis3/nasa-disasters/drcs_activations/202503_SevereWx_US/planet/MEG_Planet_trueColor_20250322_7950032_merged.tif)' mode='r'>\n",
      "\n"
     ]
    },
    {
     "name": "stdout",
     "output_type": "stream",
     "text": [
      "   [STREAM] ✅ Successfully opened file via streaming\n",
      "   [OPTIMIZED] Using rio-cogeo for single-pass COG creation\n",
      "   [NODATA] Using existing no-data value: 0.0\n",
      "   [COG] Creating COG with reprojection in single pass...\n"
     ]
    },
    {
     "name": "stderr",
     "output_type": "stream",
     "text": [
      "Adding overviews...\n",
      "Updating dataset tags...\n",
      "Writing output to: cog_202503_SevereWx_US_MEG_Planet_trueColor_7950032_merged_2025-03-22_day.tif\n"
     ]
    },
    {
     "name": "stdout",
     "output_type": "stream",
     "text": [
      "   [COG] ✅ COG created successfully\n",
      "   [VALIDATE] Checking COG validity...\n",
      "   [VALIDATE] ✅ Valid COG\n",
      "   [UPLOAD] Uploading 116.1 MB to s3://nasa-disasters/drcs_activations_new/Planet/trueColor/202503_SevereWx_US_MEG_Planet_trueColor_7950032_merged_2025-03-22_day.tif\n",
      "   [UPLOAD] ✅ Uploaded to s3://nasa-disasters/drcs_activations_new/Planet/trueColor/202503_SevereWx_US_MEG_Planet_trueColor_7950032_merged_2025-03-22_day.tif\n"
     ]
    },
    {
     "name": "stderr",
     "output_type": "stream",
     "text": [
      "Processing trueColor_or_truecolor:  59%|█████▉    | 40/68 [7:43:42<4:48:20, 617.87s/it]"
     ]
    },
    {
     "name": "stdout",
     "output_type": "stream",
     "text": [
      "   [LOCAL] Saved to output/202503_SevereWx_US/trueColor_or_truecolor/202503_SevereWx_US_MEG_Planet_trueColor_7950032_merged_2025-03-22_day.tif\n",
      "   [MEMORY] Final: 1835.1 MB (Change: +0.0 MB)\n",
      "   [TIME] Total processing time: 224.3 seconds\n",
      "   [CLEANUP] Removed: cog_202503_SevereWx_US_MEG_Planet_trueColor_7950032_merged_2025-03-22_day.tif\n",
      "   ✅ Successfully processed in 224.5s\n",
      "\n",
      "📄 Processing: MEG_Planet_trueColor_20250322_7950158_merged.tif\n",
      "   → Output: 202503_SevereWx_US_MEG_Planet_trueColor_7950158_merged_2025-03-22_day.tif\n",
      "   📦 Standard file (0.4 GB), using adaptive chunks\n",
      "   [CHECK] Checking if file already exists in S3: s3://nasa-disasters/drcs_activations_new/Planet/trueColor/202503_SevereWx_US_MEG_Planet_trueColor_7950158_merged_2025-03-22_day.tif\n",
      "   [INFO] File size: 0.4 GB\n",
      "   [TEMP] Using temp directory: /tmp\n",
      "   [MEMORY] Initial: 1835.1 MB, Available: 28029.1 MB\n",
      "   [STREAM] Attempting to stream from S3: /vsis3/nasa-disasters/drcs_activations/202503_SevereWx_US/planet/MEG_Planet_trueColor_20250322_7950158_merged.tif\n"
     ]
    },
    {
     "name": "stderr",
     "output_type": "stream",
     "text": [
      "Reading input: <open WarpedVRT name='WarpedVRT(/vsis3/nasa-disasters/drcs_activations/202503_SevereWx_US/planet/MEG_Planet_trueColor_20250322_7950158_merged.tif)' mode='r'>\n",
      "\n"
     ]
    },
    {
     "name": "stdout",
     "output_type": "stream",
     "text": [
      "   [STREAM] ✅ Successfully opened file via streaming\n",
      "   [OPTIMIZED] Using rio-cogeo for single-pass COG creation\n",
      "   [NODATA] Using existing no-data value: 0.0\n",
      "   [COG] Creating COG with reprojection in single pass...\n"
     ]
    },
    {
     "name": "stderr",
     "output_type": "stream",
     "text": [
      "Adding overviews...\n",
      "Updating dataset tags...\n",
      "Writing output to: cog_202503_SevereWx_US_MEG_Planet_trueColor_7950158_merged_2025-03-22_day.tif\n"
     ]
    },
    {
     "name": "stdout",
     "output_type": "stream",
     "text": [
      "   [COG] ✅ COG created successfully\n",
      "   [VALIDATE] Checking COG validity...\n",
      "   [VALIDATE] ✅ Valid COG\n",
      "   [UPLOAD] Uploading 163.0 MB to s3://nasa-disasters/drcs_activations_new/Planet/trueColor/202503_SevereWx_US_MEG_Planet_trueColor_7950158_merged_2025-03-22_day.tif\n",
      "   [UPLOAD] ✅ Uploaded to s3://nasa-disasters/drcs_activations_new/Planet/trueColor/202503_SevereWx_US_MEG_Planet_trueColor_7950158_merged_2025-03-22_day.tif\n"
     ]
    },
    {
     "name": "stderr",
     "output_type": "stream",
     "text": [
      "Processing trueColor_or_truecolor:  60%|██████    | 41/68 [7:48:43<3:55:11, 522.67s/it]"
     ]
    },
    {
     "name": "stdout",
     "output_type": "stream",
     "text": [
      "   [LOCAL] Saved to output/202503_SevereWx_US/trueColor_or_truecolor/202503_SevereWx_US_MEG_Planet_trueColor_7950158_merged_2025-03-22_day.tif\n",
      "   [MEMORY] Final: 1835.1 MB (Change: +0.0 MB)\n",
      "   [TIME] Total processing time: 300.3 seconds\n",
      "   [CLEANUP] Removed: cog_202503_SevereWx_US_MEG_Planet_trueColor_7950158_merged_2025-03-22_day.tif\n",
      "   ✅ Successfully processed in 300.5s\n",
      "\n",
      "📄 Processing: MEG_Planet_trueColor_20250322_7950272_merged.tif\n",
      "   → Output: 202503_SevereWx_US_MEG_Planet_trueColor_7950272_merged_2025-03-22_day.tif\n",
      "   📦 Standard file (0.8 GB), using adaptive chunks\n",
      "   [CHECK] Checking if file already exists in S3: s3://nasa-disasters/drcs_activations_new/Planet/trueColor/202503_SevereWx_US_MEG_Planet_trueColor_7950272_merged_2025-03-22_day.tif\n",
      "   [INFO] File size: 0.8 GB\n",
      "   [TEMP] Using temp directory: /tmp\n",
      "   [MEMORY] Initial: 1835.1 MB, Available: 28006.9 MB\n",
      "   [STREAM] Attempting to stream from S3: /vsis3/nasa-disasters/drcs_activations/202503_SevereWx_US/planet/MEG_Planet_trueColor_20250322_7950272_merged.tif\n"
     ]
    },
    {
     "name": "stderr",
     "output_type": "stream",
     "text": [
      "Reading input: <open WarpedVRT name='WarpedVRT(/vsis3/nasa-disasters/drcs_activations/202503_SevereWx_US/planet/MEG_Planet_trueColor_20250322_7950272_merged.tif)' mode='r'>\n",
      "\n"
     ]
    },
    {
     "name": "stdout",
     "output_type": "stream",
     "text": [
      "   [STREAM] ✅ Successfully opened file via streaming\n",
      "   [OPTIMIZED] Using rio-cogeo for single-pass COG creation\n",
      "   [NODATA] Using existing no-data value: 0.0\n",
      "   [COG] Creating COG with reprojection in single pass...\n"
     ]
    },
    {
     "name": "stderr",
     "output_type": "stream",
     "text": [
      "Adding overviews...\n",
      "Updating dataset tags...\n",
      "Writing output to: cog_202503_SevereWx_US_MEG_Planet_trueColor_7950272_merged_2025-03-22_day.tif\n"
     ]
    },
    {
     "name": "stdout",
     "output_type": "stream",
     "text": [
      "   [COG] ✅ COG created successfully\n",
      "   [VALIDATE] Checking COG validity...\n",
      "   [VALIDATE] ✅ Valid COG\n",
      "   [UPLOAD] Uploading 311.8 MB to s3://nasa-disasters/drcs_activations_new/Planet/trueColor/202503_SevereWx_US_MEG_Planet_trueColor_7950272_merged_2025-03-22_day.tif\n",
      "   [UPLOAD] ✅ Uploaded to s3://nasa-disasters/drcs_activations_new/Planet/trueColor/202503_SevereWx_US_MEG_Planet_trueColor_7950272_merged_2025-03-22_day.tif\n",
      "   [LOCAL] Saved to output/202503_SevereWx_US/trueColor_or_truecolor/202503_SevereWx_US_MEG_Planet_trueColor_7950272_merged_2025-03-22_day.tif\n",
      "   [MEMORY] Final: 1835.2 MB (Change: +0.0 MB)\n",
      "   [TIME] Total processing time: 585.6 seconds\n",
      "   [CLEANUP] Removed: cog_202503_SevereWx_US_MEG_Planet_trueColor_7950272_merged_2025-03-22_day.tif\n"
     ]
    },
    {
     "name": "stderr",
     "output_type": "stream",
     "text": [
      "Processing trueColor_or_truecolor:  62%|██████▏   | 42/68 [7:58:29<3:54:42, 541.62s/it]"
     ]
    },
    {
     "name": "stdout",
     "output_type": "stream",
     "text": [
      "   ✅ Successfully processed in 585.9s\n",
      "\n",
      "📄 Processing: MEG_Planet_trueColor_20250322_7950287_merged.tif\n",
      "   → Output: 202503_SevereWx_US_MEG_Planet_trueColor_7950287_merged_2025-03-22_day.tif\n",
      "   📦 Standard file (1.1 GB), using adaptive chunks\n",
      "   [CHECK] Checking if file already exists in S3: s3://nasa-disasters/drcs_activations_new/Planet/trueColor/202503_SevereWx_US_MEG_Planet_trueColor_7950287_merged_2025-03-22_day.tif\n",
      "   [INFO] File size: 1.1 GB\n",
      "   [TEMP] Using temp directory: /tmp\n",
      "   [MEMORY] Initial: 1835.2 MB, Available: 28028.9 MB\n",
      "   [STREAM] Attempting to stream from S3: /vsis3/nasa-disasters/drcs_activations/202503_SevereWx_US/planet/MEG_Planet_trueColor_20250322_7950287_merged.tif\n",
      "   [STREAM] ✅ Successfully opened file via streaming\n",
      "   [OPTIMIZED] Using rio-cogeo for single-pass COG creation\n",
      "   [NODATA] Using existing no-data value: 0.0\n",
      "   [COG] Creating COG with reprojection in single pass...\n"
     ]
    },
    {
     "name": "stderr",
     "output_type": "stream",
     "text": [
      "Reading input: <open WarpedVRT name='WarpedVRT(/vsis3/nasa-disasters/drcs_activations/202503_SevereWx_US/planet/MEG_Planet_trueColor_20250322_7950287_merged.tif)' mode='r'>\n",
      "\n",
      "Adding overviews...\n",
      "Updating dataset tags...\n",
      "Writing output to: cog_202503_SevereWx_US_MEG_Planet_trueColor_7950287_merged_2025-03-22_day.tif\n"
     ]
    },
    {
     "name": "stdout",
     "output_type": "stream",
     "text": [
      "   [COG] ✅ COG created successfully\n",
      "   [VALIDATE] Checking COG validity...\n",
      "   [VALIDATE] ✅ Valid COG\n",
      "   [UPLOAD] Uploading 491.0 MB to s3://nasa-disasters/drcs_activations_new/Planet/trueColor/202503_SevereWx_US_MEG_Planet_trueColor_7950287_merged_2025-03-22_day.tif\n",
      "   [UPLOAD] ✅ Uploaded to s3://nasa-disasters/drcs_activations_new/Planet/trueColor/202503_SevereWx_US_MEG_Planet_trueColor_7950287_merged_2025-03-22_day.tif\n",
      "   [LOCAL] Saved to output/202503_SevereWx_US/trueColor_or_truecolor/202503_SevereWx_US_MEG_Planet_trueColor_7950287_merged_2025-03-22_day.tif\n",
      "   [MEMORY] Final: 1835.2 MB (Change: +0.1 MB)\n",
      "   [TIME] Total processing time: 885.7 seconds\n",
      "   [CLEANUP] Removed: cog_202503_SevereWx_US_MEG_Planet_trueColor_7950287_merged_2025-03-22_day.tif\n"
     ]
    },
    {
     "name": "stderr",
     "output_type": "stream",
     "text": [
      "Processing trueColor_or_truecolor:  63%|██████▎   | 43/68 [8:13:15<4:28:43, 644.93s/it]"
     ]
    },
    {
     "name": "stdout",
     "output_type": "stream",
     "text": [
      "   ✅ Successfully processed in 886.0s\n",
      "\n",
      "📄 Processing: MEG_Planet_trueColor_20250324_7954650_merged.tif\n",
      "   → Output: 202503_SevereWx_US_MEG_Planet_trueColor_7954650_merged_2025-03-24_day.tif\n",
      "   📦 Standard file (0.6 GB), using adaptive chunks\n",
      "   [CHECK] Checking if file already exists in S3: s3://nasa-disasters/drcs_activations_new/Planet/trueColor/202503_SevereWx_US_MEG_Planet_trueColor_7954650_merged_2025-03-24_day.tif\n",
      "   [INFO] File size: 0.6 GB\n",
      "   [TEMP] Using temp directory: /tmp\n",
      "   [MEMORY] Initial: 1835.2 MB, Available: 28026.6 MB\n",
      "   [STREAM] Attempting to stream from S3: /vsis3/nasa-disasters/drcs_activations/202503_SevereWx_US/planet/MEG_Planet_trueColor_20250324_7954650_merged.tif\n"
     ]
    },
    {
     "name": "stderr",
     "output_type": "stream",
     "text": [
      "Reading input: <open WarpedVRT name='WarpedVRT(/vsis3/nasa-disasters/drcs_activations/202503_SevereWx_US/planet/MEG_Planet_trueColor_20250324_7954650_merged.tif)' mode='r'>\n",
      "\n"
     ]
    },
    {
     "name": "stdout",
     "output_type": "stream",
     "text": [
      "   [STREAM] ✅ Successfully opened file via streaming\n",
      "   [OPTIMIZED] Using rio-cogeo for single-pass COG creation\n",
      "   [NODATA] Using existing no-data value: 0.0\n",
      "   [COG] Creating COG with reprojection in single pass...\n"
     ]
    },
    {
     "name": "stderr",
     "output_type": "stream",
     "text": [
      "Adding overviews...\n",
      "Updating dataset tags...\n",
      "Writing output to: cog_202503_SevereWx_US_MEG_Planet_trueColor_7954650_merged_2025-03-24_day.tif\n"
     ]
    },
    {
     "name": "stdout",
     "output_type": "stream",
     "text": [
      "   [COG] ✅ COG created successfully\n",
      "   [VALIDATE] Checking COG validity...\n",
      "   [VALIDATE] ✅ Valid COG\n",
      "   [UPLOAD] Uploading 282.0 MB to s3://nasa-disasters/drcs_activations_new/Planet/trueColor/202503_SevereWx_US_MEG_Planet_trueColor_7954650_merged_2025-03-24_day.tif\n",
      "   [UPLOAD] ✅ Uploaded to s3://nasa-disasters/drcs_activations_new/Planet/trueColor/202503_SevereWx_US_MEG_Planet_trueColor_7954650_merged_2025-03-24_day.tif\n"
     ]
    },
    {
     "name": "stderr",
     "output_type": "stream",
     "text": [
      "Processing trueColor_or_truecolor:  65%|██████▍   | 44/68 [8:20:54<3:55:39, 589.13s/it]"
     ]
    },
    {
     "name": "stdout",
     "output_type": "stream",
     "text": [
      "   [LOCAL] Saved to output/202503_SevereWx_US/trueColor_or_truecolor/202503_SevereWx_US_MEG_Planet_trueColor_7954650_merged_2025-03-24_day.tif\n",
      "   [MEMORY] Final: 1835.2 MB (Change: +0.0 MB)\n",
      "   [TIME] Total processing time: 458.7 seconds\n",
      "   [CLEANUP] Removed: cog_202503_SevereWx_US_MEG_Planet_trueColor_7954650_merged_2025-03-24_day.tif\n",
      "   ✅ Successfully processed in 458.9s\n",
      "\n",
      "📄 Processing: MOB_Planet_trueColor_20250312_7925772_merged.tif\n",
      "   → Output: 202503_SevereWx_US_MOB_Planet_trueColor_7925772_merged_2025-03-12_day.tif\n",
      "   📦 Standard file (0.5 GB), using adaptive chunks\n",
      "   [CHECK] Checking if file already exists in S3: s3://nasa-disasters/drcs_activations_new/Planet/trueColor/202503_SevereWx_US_MOB_Planet_trueColor_7925772_merged_2025-03-12_day.tif\n",
      "   [INFO] File size: 0.5 GB\n",
      "   [TEMP] Using temp directory: /tmp\n",
      "   [MEMORY] Initial: 1835.2 MB, Available: 28024.3 MB\n",
      "   [STREAM] Attempting to stream from S3: /vsis3/nasa-disasters/drcs_activations/202503_SevereWx_US/planet/MOB_Planet_trueColor_20250312_7925772_merged.tif\n",
      "   [STREAM] ✅ Successfully opened file via streaming\n",
      "   [OPTIMIZED] Using rio-cogeo for single-pass COG creation\n"
     ]
    },
    {
     "name": "stderr",
     "output_type": "stream",
     "text": [
      "Reading input: <open WarpedVRT name='WarpedVRT(/vsis3/nasa-disasters/drcs_activations/202503_SevereWx_US/planet/MOB_Planet_trueColor_20250312_7925772_merged.tif)' mode='r'>\n",
      "\n"
     ]
    },
    {
     "name": "stdout",
     "output_type": "stream",
     "text": [
      "   [NODATA] Using existing no-data value: 0.0\n",
      "   [COG] Creating COG with reprojection in single pass...\n"
     ]
    },
    {
     "name": "stderr",
     "output_type": "stream",
     "text": [
      "Adding overviews...\n",
      "Updating dataset tags...\n",
      "Writing output to: cog_202503_SevereWx_US_MOB_Planet_trueColor_7925772_merged_2025-03-12_day.tif\n"
     ]
    },
    {
     "name": "stdout",
     "output_type": "stream",
     "text": [
      "   [COG] ✅ COG created successfully\n",
      "   [VALIDATE] Checking COG validity...\n",
      "   [VALIDATE] ✅ Valid COG\n",
      "   [UPLOAD] Uploading 221.2 MB to s3://nasa-disasters/drcs_activations_new/Planet/trueColor/202503_SevereWx_US_MOB_Planet_trueColor_7925772_merged_2025-03-12_day.tif\n",
      "   [UPLOAD] ✅ Uploaded to s3://nasa-disasters/drcs_activations_new/Planet/trueColor/202503_SevereWx_US_MOB_Planet_trueColor_7925772_merged_2025-03-12_day.tif\n"
     ]
    },
    {
     "name": "stderr",
     "output_type": "stream",
     "text": [
      "Processing trueColor_or_truecolor:  66%|██████▌   | 45/68 [8:26:49<3:18:53, 518.86s/it]"
     ]
    },
    {
     "name": "stdout",
     "output_type": "stream",
     "text": [
      "   [LOCAL] Saved to output/202503_SevereWx_US/trueColor_or_truecolor/202503_SevereWx_US_MOB_Planet_trueColor_7925772_merged_2025-03-12_day.tif\n",
      "   [MEMORY] Final: 1835.3 MB (Change: +0.0 MB)\n",
      "   [TIME] Total processing time: 354.7 seconds\n",
      "   [CLEANUP] Removed: cog_202503_SevereWx_US_MOB_Planet_trueColor_7925772_merged_2025-03-12_day.tif\n",
      "   ✅ Successfully processed in 354.9s\n",
      "\n",
      "📄 Processing: MOB_Planet_trueColor_20250312_7925796_merged.tif\n",
      "   → Output: 202503_SevereWx_US_MOB_Planet_trueColor_7925796_merged_2025-03-12_day.tif\n",
      "   📦 Standard file (0.8 GB), using adaptive chunks\n",
      "   [CHECK] Checking if file already exists in S3: s3://nasa-disasters/drcs_activations_new/Planet/trueColor/202503_SevereWx_US_MOB_Planet_trueColor_7925796_merged_2025-03-12_day.tif\n",
      "   [INFO] File size: 0.8 GB\n",
      "   [TEMP] Using temp directory: /tmp\n",
      "   [MEMORY] Initial: 1835.3 MB, Available: 28028.5 MB\n",
      "   [STREAM] Attempting to stream from S3: /vsis3/nasa-disasters/drcs_activations/202503_SevereWx_US/planet/MOB_Planet_trueColor_20250312_7925796_merged.tif\n"
     ]
    },
    {
     "name": "stderr",
     "output_type": "stream",
     "text": [
      "Reading input: <open WarpedVRT name='WarpedVRT(/vsis3/nasa-disasters/drcs_activations/202503_SevereWx_US/planet/MOB_Planet_trueColor_20250312_7925796_merged.tif)' mode='r'>\n",
      "\n"
     ]
    },
    {
     "name": "stdout",
     "output_type": "stream",
     "text": [
      "   [STREAM] ✅ Successfully opened file via streaming\n",
      "   [OPTIMIZED] Using rio-cogeo for single-pass COG creation\n",
      "   [NODATA] Using existing no-data value: 0.0\n",
      "   [COG] Creating COG with reprojection in single pass...\n"
     ]
    },
    {
     "name": "stderr",
     "output_type": "stream",
     "text": [
      "Adding overviews...\n",
      "Updating dataset tags...\n",
      "Writing output to: cog_202503_SevereWx_US_MOB_Planet_trueColor_7925796_merged_2025-03-12_day.tif\n"
     ]
    },
    {
     "name": "stdout",
     "output_type": "stream",
     "text": [
      "   [COG] ✅ COG created successfully\n",
      "   [VALIDATE] Checking COG validity...\n",
      "   [VALIDATE] ✅ Valid COG\n",
      "   [UPLOAD] Uploading 373.2 MB to s3://nasa-disasters/drcs_activations_new/Planet/trueColor/202503_SevereWx_US_MOB_Planet_trueColor_7925796_merged_2025-03-12_day.tif\n",
      "   [UPLOAD] ✅ Uploaded to s3://nasa-disasters/drcs_activations_new/Planet/trueColor/202503_SevereWx_US_MOB_Planet_trueColor_7925796_merged_2025-03-12_day.tif\n"
     ]
    },
    {
     "name": "stderr",
     "output_type": "stream",
     "text": [
      "Processing trueColor_or_truecolor:  68%|██████▊   | 46/68 [8:37:17<3:22:15, 551.62s/it]"
     ]
    },
    {
     "name": "stdout",
     "output_type": "stream",
     "text": [
      "   [LOCAL] Saved to output/202503_SevereWx_US/trueColor_or_truecolor/202503_SevereWx_US_MOB_Planet_trueColor_7925796_merged_2025-03-12_day.tif\n",
      "   [MEMORY] Final: 1835.3 MB (Change: +0.0 MB)\n",
      "   [TIME] Total processing time: 627.8 seconds\n",
      "   [CLEANUP] Removed: cog_202503_SevereWx_US_MOB_Planet_trueColor_7925796_merged_2025-03-12_day.tif\n",
      "   ✅ Successfully processed in 628.1s\n",
      "\n",
      "📄 Processing: MOB_Planet_trueColor_20250316_7935357_merged.tif\n",
      "   → Output: 202503_SevereWx_US_MOB_Planet_trueColor_7935357_merged_2025-03-16_day.tif\n",
      "   📦 Standard file (0.5 GB), using adaptive chunks\n",
      "   [CHECK] Checking if file already exists in S3: s3://nasa-disasters/drcs_activations_new/Planet/trueColor/202503_SevereWx_US_MOB_Planet_trueColor_7935357_merged_2025-03-16_day.tif\n",
      "   [INFO] File size: 0.5 GB\n",
      "   [TEMP] Using temp directory: /tmp\n",
      "   [MEMORY] Initial: 1835.3 MB, Available: 28028.4 MB\n",
      "   [STREAM] Attempting to stream from S3: /vsis3/nasa-disasters/drcs_activations/202503_SevereWx_US/planet/MOB_Planet_trueColor_20250316_7935357_merged.tif\n"
     ]
    },
    {
     "name": "stderr",
     "output_type": "stream",
     "text": [
      "Reading input: <open WarpedVRT name='WarpedVRT(/vsis3/nasa-disasters/drcs_activations/202503_SevereWx_US/planet/MOB_Planet_trueColor_20250316_7935357_merged.tif)' mode='r'>\n",
      "\n"
     ]
    },
    {
     "name": "stdout",
     "output_type": "stream",
     "text": [
      "   [STREAM] ✅ Successfully opened file via streaming\n",
      "   [OPTIMIZED] Using rio-cogeo for single-pass COG creation\n",
      "   [NODATA] Using existing no-data value: 0.0\n",
      "   [COG] Creating COG with reprojection in single pass...\n"
     ]
    },
    {
     "name": "stderr",
     "output_type": "stream",
     "text": [
      "Adding overviews...\n",
      "Updating dataset tags...\n",
      "Writing output to: cog_202503_SevereWx_US_MOB_Planet_trueColor_7935357_merged_2025-03-16_day.tif\n"
     ]
    },
    {
     "name": "stdout",
     "output_type": "stream",
     "text": [
      "   [COG] ✅ COG created successfully\n",
      "   [VALIDATE] Checking COG validity...\n",
      "   [VALIDATE] ✅ Valid COG\n",
      "   [UPLOAD] Uploading 211.5 MB to s3://nasa-disasters/drcs_activations_new/Planet/trueColor/202503_SevereWx_US_MOB_Planet_trueColor_7935357_merged_2025-03-16_day.tif\n",
      "   [UPLOAD] ✅ Uploaded to s3://nasa-disasters/drcs_activations_new/Planet/trueColor/202503_SevereWx_US_MOB_Planet_trueColor_7935357_merged_2025-03-16_day.tif\n"
     ]
    },
    {
     "name": "stderr",
     "output_type": "stream",
     "text": [
      "Processing trueColor_or_truecolor:  69%|██████▉   | 47/68 [8:43:27<2:53:58, 497.09s/it]"
     ]
    },
    {
     "name": "stdout",
     "output_type": "stream",
     "text": [
      "   [LOCAL] Saved to output/202503_SevereWx_US/trueColor_or_truecolor/202503_SevereWx_US_MOB_Planet_trueColor_7935357_merged_2025-03-16_day.tif\n",
      "   [MEMORY] Final: 1835.3 MB (Change: +0.0 MB)\n",
      "   [TIME] Total processing time: 369.6 seconds\n",
      "   [CLEANUP] Removed: cog_202503_SevereWx_US_MOB_Planet_trueColor_7935357_merged_2025-03-16_day.tif\n",
      "   ✅ Successfully processed in 369.9s\n",
      "\n",
      "📄 Processing: MOB_Planet_trueColor_20250316_7935506_merged.tif\n",
      "   → Output: 202503_SevereWx_US_MOB_Planet_trueColor_7935506_merged_2025-03-16_day.tif\n",
      "   📦 Standard file (0.6 GB), using adaptive chunks\n",
      "   [CHECK] Checking if file already exists in S3: s3://nasa-disasters/drcs_activations_new/Planet/trueColor/202503_SevereWx_US_MOB_Planet_trueColor_7935506_merged_2025-03-16_day.tif\n",
      "   [INFO] File size: 0.6 GB\n",
      "   [TEMP] Using temp directory: /tmp\n",
      "   [MEMORY] Initial: 1835.3 MB, Available: 28029.8 MB\n",
      "   [STREAM] Attempting to stream from S3: /vsis3/nasa-disasters/drcs_activations/202503_SevereWx_US/planet/MOB_Planet_trueColor_20250316_7935506_merged.tif\n"
     ]
    },
    {
     "name": "stderr",
     "output_type": "stream",
     "text": [
      "Reading input: <open WarpedVRT name='WarpedVRT(/vsis3/nasa-disasters/drcs_activations/202503_SevereWx_US/planet/MOB_Planet_trueColor_20250316_7935506_merged.tif)' mode='r'>\n",
      "\n"
     ]
    },
    {
     "name": "stdout",
     "output_type": "stream",
     "text": [
      "   [STREAM] ✅ Successfully opened file via streaming\n",
      "   [OPTIMIZED] Using rio-cogeo for single-pass COG creation\n",
      "   [NODATA] Using existing no-data value: 0.0\n",
      "   [COG] Creating COG with reprojection in single pass...\n"
     ]
    },
    {
     "name": "stderr",
     "output_type": "stream",
     "text": [
      "Adding overviews...\n",
      "Updating dataset tags...\n",
      "Writing output to: cog_202503_SevereWx_US_MOB_Planet_trueColor_7935506_merged_2025-03-16_day.tif\n"
     ]
    },
    {
     "name": "stdout",
     "output_type": "stream",
     "text": [
      "   [COG] ✅ COG created successfully\n",
      "   [VALIDATE] Checking COG validity...\n",
      "   [VALIDATE] ✅ Valid COG\n",
      "   [UPLOAD] Uploading 260.0 MB to s3://nasa-disasters/drcs_activations_new/Planet/trueColor/202503_SevereWx_US_MOB_Planet_trueColor_7935506_merged_2025-03-16_day.tif\n",
      "   [UPLOAD] ✅ Uploaded to s3://nasa-disasters/drcs_activations_new/Planet/trueColor/202503_SevereWx_US_MOB_Planet_trueColor_7935506_merged_2025-03-16_day.tif\n"
     ]
    },
    {
     "name": "stderr",
     "output_type": "stream",
     "text": [
      "Processing trueColor_or_truecolor:  71%|███████   | 48/68 [8:50:24<2:37:42, 473.15s/it]"
     ]
    },
    {
     "name": "stdout",
     "output_type": "stream",
     "text": [
      "   [LOCAL] Saved to output/202503_SevereWx_US/trueColor_or_truecolor/202503_SevereWx_US_MOB_Planet_trueColor_7935506_merged_2025-03-16_day.tif\n",
      "   [MEMORY] Final: 1835.3 MB (Change: +0.0 MB)\n",
      "   [TIME] Total processing time: 417.1 seconds\n",
      "   [CLEANUP] Removed: cog_202503_SevereWx_US_MOB_Planet_trueColor_7935506_merged_2025-03-16_day.tif\n",
      "   ✅ Successfully processed in 417.3s\n",
      "\n",
      "📄 Processing: MOB_Planet_trueColor_20250316_7936028_merged.tif\n",
      "   → Output: 202503_SevereWx_US_MOB_Planet_trueColor_7936028_merged_2025-03-16_day.tif\n",
      "   📦 Standard file (0.3 GB), using adaptive chunks\n",
      "   [CHECK] Checking if file already exists in S3: s3://nasa-disasters/drcs_activations_new/Planet/trueColor/202503_SevereWx_US_MOB_Planet_trueColor_7936028_merged_2025-03-16_day.tif\n",
      "   [INFO] File size: 0.3 GB\n",
      "   [TEMP] Using temp directory: /tmp\n",
      "   [MEMORY] Initial: 1835.3 MB, Available: 28033.2 MB\n",
      "   [STREAM] Attempting to stream from S3: /vsis3/nasa-disasters/drcs_activations/202503_SevereWx_US/planet/MOB_Planet_trueColor_20250316_7936028_merged.tif\n"
     ]
    },
    {
     "name": "stderr",
     "output_type": "stream",
     "text": [
      "Reading input: <open WarpedVRT name='WarpedVRT(/vsis3/nasa-disasters/drcs_activations/202503_SevereWx_US/planet/MOB_Planet_trueColor_20250316_7936028_merged.tif)' mode='r'>\n",
      "\n"
     ]
    },
    {
     "name": "stdout",
     "output_type": "stream",
     "text": [
      "   [STREAM] ✅ Successfully opened file via streaming\n",
      "   [OPTIMIZED] Using rio-cogeo for single-pass COG creation\n",
      "   [NODATA] Using existing no-data value: 0.0\n",
      "   [COG] Creating COG with reprojection in single pass...\n"
     ]
    },
    {
     "name": "stderr",
     "output_type": "stream",
     "text": [
      "Adding overviews...\n",
      "Updating dataset tags...\n",
      "Writing output to: cog_202503_SevereWx_US_MOB_Planet_trueColor_7936028_merged_2025-03-16_day.tif\n"
     ]
    },
    {
     "name": "stdout",
     "output_type": "stream",
     "text": [
      "   [COG] ✅ COG created successfully\n",
      "   [VALIDATE] Checking COG validity...\n",
      "   [VALIDATE] ✅ Valid COG\n",
      "   [UPLOAD] Uploading 133.4 MB to s3://nasa-disasters/drcs_activations_new/Planet/trueColor/202503_SevereWx_US_MOB_Planet_trueColor_7936028_merged_2025-03-16_day.tif\n",
      "   [UPLOAD] ✅ Uploaded to s3://nasa-disasters/drcs_activations_new/Planet/trueColor/202503_SevereWx_US_MOB_Planet_trueColor_7936028_merged_2025-03-16_day.tif\n"
     ]
    },
    {
     "name": "stderr",
     "output_type": "stream",
     "text": [
      "Processing trueColor_or_truecolor:  72%|███████▏  | 49/68 [8:54:16<2:06:54, 400.76s/it]"
     ]
    },
    {
     "name": "stdout",
     "output_type": "stream",
     "text": [
      "   [LOCAL] Saved to output/202503_SevereWx_US/trueColor_or_truecolor/202503_SevereWx_US_MOB_Planet_trueColor_7936028_merged_2025-03-16_day.tif\n",
      "   [MEMORY] Final: 1835.3 MB (Change: +0.0 MB)\n",
      "   [TIME] Total processing time: 231.6 seconds\n",
      "   [CLEANUP] Removed: cog_202503_SevereWx_US_MOB_Planet_trueColor_7936028_merged_2025-03-16_day.tif\n",
      "   ✅ Successfully processed in 231.9s\n",
      "\n",
      "📄 Processing: SGF_Planet_trueColor_20250311_7923341_merged.tif\n",
      "   → Output: 202503_SevereWx_US_SGF_Planet_trueColor_7923341_merged_2025-03-11_day.tif\n",
      "   📦 Standard file (0.3 GB), using adaptive chunks\n",
      "   [CHECK] Checking if file already exists in S3: s3://nasa-disasters/drcs_activations_new/Planet/trueColor/202503_SevereWx_US_SGF_Planet_trueColor_7923341_merged_2025-03-11_day.tif\n",
      "   [INFO] File size: 0.3 GB\n",
      "   [TEMP] Using temp directory: /tmp\n",
      "   [MEMORY] Initial: 1835.3 MB, Available: 28025.2 MB\n",
      "   [STREAM] Attempting to stream from S3: /vsis3/nasa-disasters/drcs_activations/202503_SevereWx_US/planet/SGF_Planet_trueColor_20250311_7923341_merged.tif\n"
     ]
    },
    {
     "name": "stderr",
     "output_type": "stream",
     "text": [
      "Reading input: <open WarpedVRT name='WarpedVRT(/vsis3/nasa-disasters/drcs_activations/202503_SevereWx_US/planet/SGF_Planet_trueColor_20250311_7923341_merged.tif)' mode='r'>\n",
      "\n"
     ]
    },
    {
     "name": "stdout",
     "output_type": "stream",
     "text": [
      "   [STREAM] ✅ Successfully opened file via streaming\n",
      "   [OPTIMIZED] Using rio-cogeo for single-pass COG creation\n",
      "   [NODATA] Using existing no-data value: 0.0\n",
      "   [COG] Creating COG with reprojection in single pass...\n"
     ]
    },
    {
     "name": "stderr",
     "output_type": "stream",
     "text": [
      "Adding overviews...\n",
      "Updating dataset tags...\n",
      "Writing output to: cog_202503_SevereWx_US_SGF_Planet_trueColor_7923341_merged_2025-03-11_day.tif\n"
     ]
    },
    {
     "name": "stdout",
     "output_type": "stream",
     "text": [
      "   [COG] ✅ COG created successfully\n",
      "   [VALIDATE] Checking COG validity...\n",
      "   [VALIDATE] ✅ Valid COG\n",
      "   [UPLOAD] Uploading 122.6 MB to s3://nasa-disasters/drcs_activations_new/Planet/trueColor/202503_SevereWx_US_SGF_Planet_trueColor_7923341_merged_2025-03-11_day.tif\n",
      "   [UPLOAD] ✅ Uploaded to s3://nasa-disasters/drcs_activations_new/Planet/trueColor/202503_SevereWx_US_SGF_Planet_trueColor_7923341_merged_2025-03-11_day.tif\n"
     ]
    },
    {
     "name": "stderr",
     "output_type": "stream",
     "text": [
      "Processing trueColor_or_truecolor:  74%|███████▎  | 50/68 [8:57:46<1:43:03, 343.53s/it]"
     ]
    },
    {
     "name": "stdout",
     "output_type": "stream",
     "text": [
      "   [LOCAL] Saved to output/202503_SevereWx_US/trueColor_or_truecolor/202503_SevereWx_US_SGF_Planet_trueColor_7923341_merged_2025-03-11_day.tif\n",
      "   [MEMORY] Final: 1835.6 MB (Change: +0.3 MB)\n",
      "   [TIME] Total processing time: 209.8 seconds\n",
      "   [CLEANUP] Removed: cog_202503_SevereWx_US_SGF_Planet_trueColor_7923341_merged_2025-03-11_day.tif\n",
      "   ✅ Successfully processed in 210.0s\n",
      "\n",
      "📄 Processing: SGF_Planet_trueColor_20250311_7923555_merged.tif\n",
      "   → Output: 202503_SevereWx_US_SGF_Planet_trueColor_7923555_merged_2025-03-11_day.tif\n",
      "   📦 Standard file (1.3 GB), using adaptive chunks\n",
      "   [CHECK] Checking if file already exists in S3: s3://nasa-disasters/drcs_activations_new/Planet/trueColor/202503_SevereWx_US_SGF_Planet_trueColor_7923555_merged_2025-03-11_day.tif\n",
      "   [INFO] File size: 1.3 GB\n",
      "   [TEMP] Using temp directory: /tmp\n",
      "   [MEMORY] Initial: 1835.6 MB, Available: 28027.1 MB\n",
      "   [STREAM] Attempting to stream from S3: /vsis3/nasa-disasters/drcs_activations/202503_SevereWx_US/planet/SGF_Planet_trueColor_20250311_7923555_merged.tif\n"
     ]
    },
    {
     "name": "stderr",
     "output_type": "stream",
     "text": [
      "Reading input: <open WarpedVRT name='WarpedVRT(/vsis3/nasa-disasters/drcs_activations/202503_SevereWx_US/planet/SGF_Planet_trueColor_20250311_7923555_merged.tif)' mode='r'>\n",
      "\n"
     ]
    },
    {
     "name": "stdout",
     "output_type": "stream",
     "text": [
      "   [STREAM] ✅ Successfully opened file via streaming\n",
      "   [OPTIMIZED] Using rio-cogeo for single-pass COG creation\n",
      "   [NODATA] Using existing no-data value: 0.0\n",
      "   [COG] Creating COG with reprojection in single pass...\n"
     ]
    },
    {
     "name": "stderr",
     "output_type": "stream",
     "text": [
      "Adding overviews...\n",
      "Updating dataset tags...\n",
      "Writing output to: cog_202503_SevereWx_US_SGF_Planet_trueColor_7923555_merged_2025-03-11_day.tif\n"
     ]
    },
    {
     "name": "stdout",
     "output_type": "stream",
     "text": [
      "   [COG] ✅ COG created successfully\n",
      "   [VALIDATE] Checking COG validity...\n",
      "   [VALIDATE] ✅ Valid COG\n",
      "   [UPLOAD] Uploading 525.1 MB to s3://nasa-disasters/drcs_activations_new/Planet/trueColor/202503_SevereWx_US_SGF_Planet_trueColor_7923555_merged_2025-03-11_day.tif\n",
      "   [UPLOAD] ✅ Uploaded to s3://nasa-disasters/drcs_activations_new/Planet/trueColor/202503_SevereWx_US_SGF_Planet_trueColor_7923555_merged_2025-03-11_day.tif\n",
      "   [LOCAL] Saved to output/202503_SevereWx_US/trueColor_or_truecolor/202503_SevereWx_US_SGF_Planet_trueColor_7923555_merged_2025-03-11_day.tif\n",
      "   [MEMORY] Final: 1948.5 MB (Change: +112.9 MB)\n",
      "   [TIME] Total processing time: 1098.8 seconds\n",
      "   [CLEANUP] Removed: cog_202503_SevereWx_US_SGF_Planet_trueColor_7923555_merged_2025-03-11_day.tif\n"
     ]
    },
    {
     "name": "stderr",
     "output_type": "stream",
     "text": [
      "Processing trueColor_or_truecolor:  75%|███████▌  | 51/68 [9:16:05<2:41:33, 570.21s/it]"
     ]
    },
    {
     "name": "stdout",
     "output_type": "stream",
     "text": [
      "   ✅ Successfully processed in 1099.1s\n",
      "\n",
      "📄 Processing: SGF_Planet_trueColor_20250311_7923610_merged.tif\n",
      "   → Output: 202503_SevereWx_US_SGF_Planet_trueColor_7923610_merged_2025-03-11_day.tif\n",
      "   📦 Standard file (1.0 GB), using adaptive chunks\n",
      "   [CHECK] Checking if file already exists in S3: s3://nasa-disasters/drcs_activations_new/Planet/trueColor/202503_SevereWx_US_SGF_Planet_trueColor_7923610_merged_2025-03-11_day.tif\n",
      "   [INFO] File size: 1.0 GB\n",
      "   [TEMP] Using temp directory: /tmp\n",
      "   [MEMORY] Initial: 1948.5 MB, Available: 27911.6 MB\n",
      "   [STREAM] Attempting to stream from S3: /vsis3/nasa-disasters/drcs_activations/202503_SevereWx_US/planet/SGF_Planet_trueColor_20250311_7923610_merged.tif\n"
     ]
    },
    {
     "name": "stderr",
     "output_type": "stream",
     "text": [
      "Reading input: <open WarpedVRT name='WarpedVRT(/vsis3/nasa-disasters/drcs_activations/202503_SevereWx_US/planet/SGF_Planet_trueColor_20250311_7923610_merged.tif)' mode='r'>\n",
      "\n"
     ]
    },
    {
     "name": "stdout",
     "output_type": "stream",
     "text": [
      "   [STREAM] ✅ Successfully opened file via streaming\n",
      "   [OPTIMIZED] Using rio-cogeo for single-pass COG creation\n",
      "   [NODATA] Using existing no-data value: 0.0\n",
      "   [COG] Creating COG with reprojection in single pass...\n"
     ]
    },
    {
     "name": "stderr",
     "output_type": "stream",
     "text": [
      "Adding overviews...\n",
      "Updating dataset tags...\n",
      "Writing output to: cog_202503_SevereWx_US_SGF_Planet_trueColor_7923610_merged_2025-03-11_day.tif\n"
     ]
    },
    {
     "name": "stdout",
     "output_type": "stream",
     "text": [
      "   [COG] ✅ COG created successfully\n",
      "   [VALIDATE] Checking COG validity...\n",
      "   [VALIDATE] ✅ Valid COG\n",
      "   [UPLOAD] Uploading 390.1 MB to s3://nasa-disasters/drcs_activations_new/Planet/trueColor/202503_SevereWx_US_SGF_Planet_trueColor_7923610_merged_2025-03-11_day.tif\n",
      "   [UPLOAD] ✅ Uploaded to s3://nasa-disasters/drcs_activations_new/Planet/trueColor/202503_SevereWx_US_SGF_Planet_trueColor_7923610_merged_2025-03-11_day.tif\n"
     ]
    },
    {
     "name": "stderr",
     "output_type": "stream",
     "text": [
      "Processing trueColor_or_truecolor:  76%|███████▋  | 52/68 [9:29:51<2:52:34, 647.13s/it]"
     ]
    },
    {
     "name": "stdout",
     "output_type": "stream",
     "text": [
      "   [LOCAL] Saved to output/202503_SevereWx_US/trueColor_or_truecolor/202503_SevereWx_US_SGF_Planet_trueColor_7923610_merged_2025-03-11_day.tif\n",
      "   [MEMORY] Final: 1948.5 MB (Change: +0.0 MB)\n",
      "   [TIME] Total processing time: 826.4 seconds\n",
      "   [CLEANUP] Removed: cog_202503_SevereWx_US_SGF_Planet_trueColor_7923610_merged_2025-03-11_day.tif\n",
      "   ✅ Successfully processed in 826.6s\n",
      "\n",
      "📄 Processing: SGF_Planet_trueColor_20250311_7923637_merged.tif\n",
      "   → Output: 202503_SevereWx_US_SGF_Planet_trueColor_7923637_merged_2025-03-11_day.tif\n",
      "   📦 Standard file (1.2 GB), using adaptive chunks\n",
      "   [CHECK] Checking if file already exists in S3: s3://nasa-disasters/drcs_activations_new/Planet/trueColor/202503_SevereWx_US_SGF_Planet_trueColor_7923637_merged_2025-03-11_day.tif\n",
      "   [INFO] File size: 1.2 GB\n",
      "   [TEMP] Using temp directory: /tmp\n",
      "   [MEMORY] Initial: 1948.5 MB, Available: 27910.5 MB\n",
      "   [STREAM] Attempting to stream from S3: /vsis3/nasa-disasters/drcs_activations/202503_SevereWx_US/planet/SGF_Planet_trueColor_20250311_7923637_merged.tif\n"
     ]
    },
    {
     "name": "stderr",
     "output_type": "stream",
     "text": [
      "Reading input: <open WarpedVRT name='WarpedVRT(/vsis3/nasa-disasters/drcs_activations/202503_SevereWx_US/planet/SGF_Planet_trueColor_20250311_7923637_merged.tif)' mode='r'>\n",
      "\n"
     ]
    },
    {
     "name": "stdout",
     "output_type": "stream",
     "text": [
      "   [STREAM] ✅ Successfully opened file via streaming\n",
      "   [OPTIMIZED] Using rio-cogeo for single-pass COG creation\n",
      "   [NODATA] Using existing no-data value: 0.0\n",
      "   [COG] Creating COG with reprojection in single pass...\n"
     ]
    },
    {
     "name": "stderr",
     "output_type": "stream",
     "text": [
      "Adding overviews...\n",
      "Updating dataset tags...\n",
      "Writing output to: cog_202503_SevereWx_US_SGF_Planet_trueColor_7923637_merged_2025-03-11_day.tif\n"
     ]
    },
    {
     "name": "stdout",
     "output_type": "stream",
     "text": [
      "   [COG] ✅ COG created successfully\n",
      "   [VALIDATE] Checking COG validity...\n",
      "   [VALIDATE] ✅ Valid COG\n",
      "   [UPLOAD] Uploading 495.1 MB to s3://nasa-disasters/drcs_activations_new/Planet/trueColor/202503_SevereWx_US_SGF_Planet_trueColor_7923637_merged_2025-03-11_day.tif\n",
      "   [UPLOAD] ✅ Uploaded to s3://nasa-disasters/drcs_activations_new/Planet/trueColor/202503_SevereWx_US_SGF_Planet_trueColor_7923637_merged_2025-03-11_day.tif\n",
      "   [LOCAL] Saved to output/202503_SevereWx_US/trueColor_or_truecolor/202503_SevereWx_US_SGF_Planet_trueColor_7923637_merged_2025-03-11_day.tif\n",
      "   [MEMORY] Final: 1952.9 MB (Change: +4.3 MB)\n",
      "   [TIME] Total processing time: 895.2 seconds\n",
      "   [CLEANUP] Removed: cog_202503_SevereWx_US_SGF_Planet_trueColor_7923637_merged_2025-03-11_day.tif\n"
     ]
    },
    {
     "name": "stderr",
     "output_type": "stream",
     "text": [
      "Processing trueColor_or_truecolor:  78%|███████▊  | 53/68 [9:44:47<3:00:24, 721.62s/it]"
     ]
    },
    {
     "name": "stdout",
     "output_type": "stream",
     "text": [
      "   ✅ Successfully processed in 895.4s\n",
      "\n",
      "📄 Processing: SGF_Planet_trueColor_20250311_7923875_merged.tif\n",
      "   → Output: 202503_SevereWx_US_SGF_Planet_trueColor_7923875_merged_2025-03-11_day.tif\n",
      "   📦 Standard file (0.8 GB), using adaptive chunks\n",
      "   [CHECK] Checking if file already exists in S3: s3://nasa-disasters/drcs_activations_new/Planet/trueColor/202503_SevereWx_US_SGF_Planet_trueColor_7923875_merged_2025-03-11_day.tif\n",
      "   [INFO] File size: 0.8 GB\n",
      "   [TEMP] Using temp directory: /tmp\n",
      "   [MEMORY] Initial: 1952.9 MB, Available: 27906.4 MB\n",
      "   [STREAM] Attempting to stream from S3: /vsis3/nasa-disasters/drcs_activations/202503_SevereWx_US/planet/SGF_Planet_trueColor_20250311_7923875_merged.tif\n"
     ]
    },
    {
     "name": "stderr",
     "output_type": "stream",
     "text": [
      "Reading input: <open WarpedVRT name='WarpedVRT(/vsis3/nasa-disasters/drcs_activations/202503_SevereWx_US/planet/SGF_Planet_trueColor_20250311_7923875_merged.tif)' mode='r'>\n",
      "\n"
     ]
    },
    {
     "name": "stdout",
     "output_type": "stream",
     "text": [
      "   [STREAM] ✅ Successfully opened file via streaming\n",
      "   [OPTIMIZED] Using rio-cogeo for single-pass COG creation\n",
      "   [NODATA] Using existing no-data value: 0.0\n",
      "   [COG] Creating COG with reprojection in single pass...\n"
     ]
    },
    {
     "name": "stderr",
     "output_type": "stream",
     "text": [
      "Adding overviews...\n",
      "Updating dataset tags...\n",
      "Writing output to: cog_202503_SevereWx_US_SGF_Planet_trueColor_7923875_merged_2025-03-11_day.tif\n"
     ]
    },
    {
     "name": "stdout",
     "output_type": "stream",
     "text": [
      "   [COG] ✅ COG created successfully\n",
      "   [VALIDATE] Checking COG validity...\n",
      "   [VALIDATE] ✅ Valid COG\n",
      "   [UPLOAD] Uploading 356.3 MB to s3://nasa-disasters/drcs_activations_new/Planet/trueColor/202503_SevereWx_US_SGF_Planet_trueColor_7923875_merged_2025-03-11_day.tif\n",
      "   [UPLOAD] ✅ Uploaded to s3://nasa-disasters/drcs_activations_new/Planet/trueColor/202503_SevereWx_US_SGF_Planet_trueColor_7923875_merged_2025-03-11_day.tif\n",
      "   [LOCAL] Saved to output/202503_SevereWx_US/trueColor_or_truecolor/202503_SevereWx_US_SGF_Planet_trueColor_7923875_merged_2025-03-11_day.tif\n",
      "   [MEMORY] Final: 1952.9 MB (Change: +0.0 MB)\n",
      "   [TIME] Total processing time: 596.7 seconds\n",
      "   [CLEANUP] Removed: cog_202503_SevereWx_US_SGF_Planet_trueColor_7923875_merged_2025-03-11_day.tif\n"
     ]
    },
    {
     "name": "stderr",
     "output_type": "stream",
     "text": [
      "Processing trueColor_or_truecolor:  79%|███████▉  | 54/68 [9:54:44<2:39:39, 684.23s/it]"
     ]
    },
    {
     "name": "stdout",
     "output_type": "stream",
     "text": [
      "   ✅ Successfully processed in 597.0s\n",
      "\n",
      "📄 Processing: SGF_Planet_trueColor_20250311_7923927_merged.tif\n",
      "   → Output: 202503_SevereWx_US_SGF_Planet_trueColor_7923927_merged_2025-03-11_day.tif\n",
      "   📦 Standard file (1.2 GB), using adaptive chunks\n",
      "   [CHECK] Checking if file already exists in S3: s3://nasa-disasters/drcs_activations_new/Planet/trueColor/202503_SevereWx_US_SGF_Planet_trueColor_7923927_merged_2025-03-11_day.tif\n",
      "   [INFO] File size: 1.2 GB\n",
      "   [TEMP] Using temp directory: /tmp\n",
      "   [MEMORY] Initial: 1952.9 MB, Available: 27909.7 MB\n",
      "   [STREAM] Attempting to stream from S3: /vsis3/nasa-disasters/drcs_activations/202503_SevereWx_US/planet/SGF_Planet_trueColor_20250311_7923927_merged.tif\n"
     ]
    },
    {
     "name": "stderr",
     "output_type": "stream",
     "text": [
      "Reading input: <open WarpedVRT name='WarpedVRT(/vsis3/nasa-disasters/drcs_activations/202503_SevereWx_US/planet/SGF_Planet_trueColor_20250311_7923927_merged.tif)' mode='r'>\n",
      "\n"
     ]
    },
    {
     "name": "stdout",
     "output_type": "stream",
     "text": [
      "   [STREAM] ✅ Successfully opened file via streaming\n",
      "   [OPTIMIZED] Using rio-cogeo for single-pass COG creation\n",
      "   [NODATA] Using existing no-data value: 0.0\n",
      "   [COG] Creating COG with reprojection in single pass...\n"
     ]
    },
    {
     "name": "stderr",
     "output_type": "stream",
     "text": [
      "Adding overviews...\n",
      "Updating dataset tags...\n",
      "Writing output to: cog_202503_SevereWx_US_SGF_Planet_trueColor_7923927_merged_2025-03-11_day.tif\n"
     ]
    },
    {
     "name": "stdout",
     "output_type": "stream",
     "text": [
      "   [COG] ✅ COG created successfully\n",
      "   [VALIDATE] Checking COG validity...\n",
      "   [VALIDATE] ✅ Valid COG\n",
      "   [UPLOAD] Uploading 501.7 MB to s3://nasa-disasters/drcs_activations_new/Planet/trueColor/202503_SevereWx_US_SGF_Planet_trueColor_7923927_merged_2025-03-11_day.tif\n",
      "   [UPLOAD] ✅ Uploaded to s3://nasa-disasters/drcs_activations_new/Planet/trueColor/202503_SevereWx_US_SGF_Planet_trueColor_7923927_merged_2025-03-11_day.tif\n",
      "   [LOCAL] Saved to output/202503_SevereWx_US/trueColor_or_truecolor/202503_SevereWx_US_SGF_Planet_trueColor_7923927_merged_2025-03-11_day.tif\n",
      "   [MEMORY] Final: 1952.9 MB (Change: +0.0 MB)\n",
      "   [TIME] Total processing time: 899.5 seconds\n",
      "   [CLEANUP] Removed: cog_202503_SevereWx_US_SGF_Planet_trueColor_7923927_merged_2025-03-11_day.tif\n"
     ]
    },
    {
     "name": "stderr",
     "output_type": "stream",
     "text": [
      "Processing trueColor_or_truecolor:  81%|████████  | 55/68 [10:09:44<2:42:15, 748.88s/it]"
     ]
    },
    {
     "name": "stdout",
     "output_type": "stream",
     "text": [
      "   ✅ Successfully processed in 899.8s\n",
      "\n",
      "📄 Processing: SGF_Planet_trueColor_20250317_7937831_merged.tif\n",
      "   → Output: 202503_SevereWx_US_SGF_Planet_trueColor_7937831_merged_2025-03-17_day.tif\n",
      "   📦 Standard file (0.5 GB), using adaptive chunks\n",
      "   [CHECK] Checking if file already exists in S3: s3://nasa-disasters/drcs_activations_new/Planet/trueColor/202503_SevereWx_US_SGF_Planet_trueColor_7937831_merged_2025-03-17_day.tif\n",
      "   [INFO] File size: 0.5 GB\n",
      "   [TEMP] Using temp directory: /tmp\n",
      "   [MEMORY] Initial: 1952.9 MB, Available: 27905.1 MB\n",
      "   [STREAM] Attempting to stream from S3: /vsis3/nasa-disasters/drcs_activations/202503_SevereWx_US/planet/SGF_Planet_trueColor_20250317_7937831_merged.tif\n"
     ]
    },
    {
     "name": "stderr",
     "output_type": "stream",
     "text": [
      "Reading input: <open WarpedVRT name='WarpedVRT(/vsis3/nasa-disasters/drcs_activations/202503_SevereWx_US/planet/SGF_Planet_trueColor_20250317_7937831_merged.tif)' mode='r'>\n",
      "\n"
     ]
    },
    {
     "name": "stdout",
     "output_type": "stream",
     "text": [
      "   [STREAM] ✅ Successfully opened file via streaming\n",
      "   [OPTIMIZED] Using rio-cogeo for single-pass COG creation\n",
      "   [NODATA] Using existing no-data value: 0.0\n",
      "   [COG] Creating COG with reprojection in single pass...\n"
     ]
    },
    {
     "name": "stderr",
     "output_type": "stream",
     "text": [
      "Adding overviews...\n",
      "Updating dataset tags...\n",
      "Writing output to: cog_202503_SevereWx_US_SGF_Planet_trueColor_7937831_merged_2025-03-17_day.tif\n"
     ]
    },
    {
     "name": "stdout",
     "output_type": "stream",
     "text": [
      "   [COG] ✅ COG created successfully\n",
      "   [VALIDATE] Checking COG validity...\n",
      "   [VALIDATE] ✅ Valid COG\n",
      "   [UPLOAD] Uploading 231.1 MB to s3://nasa-disasters/drcs_activations_new/Planet/trueColor/202503_SevereWx_US_SGF_Planet_trueColor_7937831_merged_2025-03-17_day.tif\n",
      "   [UPLOAD] ✅ Uploaded to s3://nasa-disasters/drcs_activations_new/Planet/trueColor/202503_SevereWx_US_SGF_Planet_trueColor_7937831_merged_2025-03-17_day.tif\n"
     ]
    },
    {
     "name": "stderr",
     "output_type": "stream",
     "text": [
      "Processing trueColor_or_truecolor:  82%|████████▏ | 56/68 [10:16:15<2:08:20, 641.73s/it]"
     ]
    },
    {
     "name": "stdout",
     "output_type": "stream",
     "text": [
      "   [LOCAL] Saved to output/202503_SevereWx_US/trueColor_or_truecolor/202503_SevereWx_US_SGF_Planet_trueColor_7937831_merged_2025-03-17_day.tif\n",
      "   [MEMORY] Final: 1952.9 MB (Change: +0.0 MB)\n",
      "   [TIME] Total processing time: 391.5 seconds\n",
      "   [CLEANUP] Removed: cog_202503_SevereWx_US_SGF_Planet_trueColor_7937831_merged_2025-03-17_day.tif\n",
      "   ✅ Successfully processed in 391.7s\n",
      "\n",
      "📄 Processing: SGF_Planet_trueColor_20250317_7937835_merged.tif\n",
      "   → Output: 202503_SevereWx_US_SGF_Planet_trueColor_7937835_merged_2025-03-17_day.tif\n",
      "   📦 Standard file (1.0 GB), using adaptive chunks\n",
      "   [CHECK] Checking if file already exists in S3: s3://nasa-disasters/drcs_activations_new/Planet/trueColor/202503_SevereWx_US_SGF_Planet_trueColor_7937835_merged_2025-03-17_day.tif\n",
      "   [INFO] File size: 1.0 GB\n",
      "   [TEMP] Using temp directory: /tmp\n",
      "   [MEMORY] Initial: 1952.9 MB, Available: 27902.8 MB\n",
      "   [STREAM] Attempting to stream from S3: /vsis3/nasa-disasters/drcs_activations/202503_SevereWx_US/planet/SGF_Planet_trueColor_20250317_7937835_merged.tif\n",
      "   [STREAM] ✅ Successfully opened file via streaming\n",
      "   [OPTIMIZED] Using rio-cogeo for single-pass COG creation\n"
     ]
    },
    {
     "name": "stderr",
     "output_type": "stream",
     "text": [
      "Reading input: <open WarpedVRT name='WarpedVRT(/vsis3/nasa-disasters/drcs_activations/202503_SevereWx_US/planet/SGF_Planet_trueColor_20250317_7937835_merged.tif)' mode='r'>\n",
      "\n"
     ]
    },
    {
     "name": "stdout",
     "output_type": "stream",
     "text": [
      "   [NODATA] Using existing no-data value: 0.0\n",
      "   [COG] Creating COG with reprojection in single pass...\n"
     ]
    },
    {
     "name": "stderr",
     "output_type": "stream",
     "text": [
      "Adding overviews...\n",
      "Updating dataset tags...\n",
      "Writing output to: cog_202503_SevereWx_US_SGF_Planet_trueColor_7937835_merged_2025-03-17_day.tif\n"
     ]
    },
    {
     "name": "stdout",
     "output_type": "stream",
     "text": [
      "   [COG] ✅ COG created successfully\n",
      "   [VALIDATE] Checking COG validity...\n",
      "   [VALIDATE] ✅ Valid COG\n",
      "   [UPLOAD] Uploading 458.1 MB to s3://nasa-disasters/drcs_activations_new/Planet/trueColor/202503_SevereWx_US_SGF_Planet_trueColor_7937835_merged_2025-03-17_day.tif\n",
      "   [UPLOAD] ✅ Uploaded to s3://nasa-disasters/drcs_activations_new/Planet/trueColor/202503_SevereWx_US_SGF_Planet_trueColor_7937835_merged_2025-03-17_day.tif\n",
      "   [LOCAL] Saved to output/202503_SevereWx_US/trueColor_or_truecolor/202503_SevereWx_US_SGF_Planet_trueColor_7937835_merged_2025-03-17_day.tif\n",
      "   [MEMORY] Final: 1952.9 MB (Change: +0.0 MB)\n",
      "   [TIME] Total processing time: 802.1 seconds\n",
      "   [CLEANUP] Removed: cog_202503_SevereWx_US_SGF_Planet_trueColor_7937835_merged_2025-03-17_day.tif\n"
     ]
    },
    {
     "name": "stderr",
     "output_type": "stream",
     "text": [
      "Processing trueColor_or_truecolor:  84%|████████▍ | 57/68 [10:29:38<2:06:28, 689.90s/it]"
     ]
    },
    {
     "name": "stdout",
     "output_type": "stream",
     "text": [
      "   ✅ Successfully processed in 802.3s\n",
      "\n",
      "📄 Processing: SGF_Planet_trueColor_20250317_7937837_merged.tif\n",
      "   → Output: 202503_SevereWx_US_SGF_Planet_trueColor_7937837_merged_2025-03-17_day.tif\n",
      "   📦 Standard file (1.0 GB), using adaptive chunks\n",
      "   [CHECK] Checking if file already exists in S3: s3://nasa-disasters/drcs_activations_new/Planet/trueColor/202503_SevereWx_US_SGF_Planet_trueColor_7937837_merged_2025-03-17_day.tif\n",
      "   [INFO] File size: 1.0 GB\n",
      "   [TEMP] Using temp directory: /tmp\n",
      "   [MEMORY] Initial: 1952.9 MB, Available: 27904.6 MB\n",
      "   [STREAM] Attempting to stream from S3: /vsis3/nasa-disasters/drcs_activations/202503_SevereWx_US/planet/SGF_Planet_trueColor_20250317_7937837_merged.tif\n"
     ]
    },
    {
     "name": "stderr",
     "output_type": "stream",
     "text": [
      "Reading input: <open WarpedVRT name='WarpedVRT(/vsis3/nasa-disasters/drcs_activations/202503_SevereWx_US/planet/SGF_Planet_trueColor_20250317_7937837_merged.tif)' mode='r'>\n",
      "\n"
     ]
    },
    {
     "name": "stdout",
     "output_type": "stream",
     "text": [
      "   [STREAM] ✅ Successfully opened file via streaming\n",
      "   [OPTIMIZED] Using rio-cogeo for single-pass COG creation\n",
      "   [NODATA] Using existing no-data value: 0.0\n",
      "   [COG] Creating COG with reprojection in single pass...\n"
     ]
    },
    {
     "name": "stderr",
     "output_type": "stream",
     "text": [
      "Adding overviews...\n",
      "Updating dataset tags...\n",
      "Writing output to: cog_202503_SevereWx_US_SGF_Planet_trueColor_7937837_merged_2025-03-17_day.tif\n"
     ]
    },
    {
     "name": "stdout",
     "output_type": "stream",
     "text": [
      "   [COG] ✅ COG created successfully\n",
      "   [VALIDATE] Checking COG validity...\n",
      "   [VALIDATE] ✅ Valid COG\n",
      "   [UPLOAD] Uploading 450.0 MB to s3://nasa-disasters/drcs_activations_new/Planet/trueColor/202503_SevereWx_US_SGF_Planet_trueColor_7937837_merged_2025-03-17_day.tif\n",
      "   [UPLOAD] ✅ Uploaded to s3://nasa-disasters/drcs_activations_new/Planet/trueColor/202503_SevereWx_US_SGF_Planet_trueColor_7937837_merged_2025-03-17_day.tif\n"
     ]
    },
    {
     "name": "stderr",
     "output_type": "stream",
     "text": [
      "Processing trueColor_or_truecolor:  85%|████████▌ | 58/68 [10:43:26<2:01:53, 731.31s/it]"
     ]
    },
    {
     "name": "stdout",
     "output_type": "stream",
     "text": [
      "   [LOCAL] Saved to output/202503_SevereWx_US/trueColor_or_truecolor/202503_SevereWx_US_SGF_Planet_trueColor_7937837_merged_2025-03-17_day.tif\n",
      "   [MEMORY] Final: 1953.0 MB (Change: +0.1 MB)\n",
      "   [TIME] Total processing time: 827.7 seconds\n",
      "   [CLEANUP] Removed: cog_202503_SevereWx_US_SGF_Planet_trueColor_7937837_merged_2025-03-17_day.tif\n",
      "   ✅ Successfully processed in 827.9s\n",
      "\n",
      "📄 Processing: SGF_Planet_trueColor_20250317_7937847_merged.tif\n",
      "   → Output: 202503_SevereWx_US_SGF_Planet_trueColor_7937847_merged_2025-03-17_day.tif\n",
      "   📦 Standard file (0.6 GB), using adaptive chunks\n",
      "   [CHECK] Checking if file already exists in S3: s3://nasa-disasters/drcs_activations_new/Planet/trueColor/202503_SevereWx_US_SGF_Planet_trueColor_7937847_merged_2025-03-17_day.tif\n",
      "   [INFO] File size: 0.6 GB\n",
      "   [TEMP] Using temp directory: /tmp\n",
      "   [MEMORY] Initial: 1953.0 MB, Available: 27903.7 MB\n",
      "   [STREAM] Attempting to stream from S3: /vsis3/nasa-disasters/drcs_activations/202503_SevereWx_US/planet/SGF_Planet_trueColor_20250317_7937847_merged.tif\n"
     ]
    },
    {
     "name": "stderr",
     "output_type": "stream",
     "text": [
      "Reading input: <open WarpedVRT name='WarpedVRT(/vsis3/nasa-disasters/drcs_activations/202503_SevereWx_US/planet/SGF_Planet_trueColor_20250317_7937847_merged.tif)' mode='r'>\n",
      "\n"
     ]
    },
    {
     "name": "stdout",
     "output_type": "stream",
     "text": [
      "   [STREAM] ✅ Successfully opened file via streaming\n",
      "   [OPTIMIZED] Using rio-cogeo for single-pass COG creation\n",
      "   [NODATA] Using existing no-data value: 0.0\n",
      "   [COG] Creating COG with reprojection in single pass...\n"
     ]
    },
    {
     "name": "stderr",
     "output_type": "stream",
     "text": [
      "Adding overviews...\n",
      "Updating dataset tags...\n",
      "Writing output to: cog_202503_SevereWx_US_SGF_Planet_trueColor_7937847_merged_2025-03-17_day.tif\n"
     ]
    },
    {
     "name": "stdout",
     "output_type": "stream",
     "text": [
      "   [COG] ✅ COG created successfully\n",
      "   [VALIDATE] Checking COG validity...\n",
      "   [VALIDATE] ✅ Valid COG\n",
      "   [UPLOAD] Uploading 255.0 MB to s3://nasa-disasters/drcs_activations_new/Planet/trueColor/202503_SevereWx_US_SGF_Planet_trueColor_7937847_merged_2025-03-17_day.tif\n",
      "   [UPLOAD] ✅ Uploaded to s3://nasa-disasters/drcs_activations_new/Planet/trueColor/202503_SevereWx_US_SGF_Planet_trueColor_7937847_merged_2025-03-17_day.tif\n"
     ]
    },
    {
     "name": "stderr",
     "output_type": "stream",
     "text": [
      "Processing trueColor_or_truecolor:  87%|████████▋ | 59/68 [10:50:25<1:35:39, 637.67s/it]"
     ]
    },
    {
     "name": "stdout",
     "output_type": "stream",
     "text": [
      "   [LOCAL] Saved to output/202503_SevereWx_US/trueColor_or_truecolor/202503_SevereWx_US_SGF_Planet_trueColor_7937847_merged_2025-03-17_day.tif\n",
      "   [MEMORY] Final: 1953.3 MB (Change: +0.3 MB)\n",
      "   [TIME] Total processing time: 419.0 seconds\n",
      "   [CLEANUP] Removed: cog_202503_SevereWx_US_SGF_Planet_trueColor_7937847_merged_2025-03-17_day.tif\n",
      "   ✅ Successfully processed in 419.2s\n",
      "\n",
      "📄 Processing: SGF_Planet_trueColor_20250317_7937957_merged.tif\n",
      "   → Output: 202503_SevereWx_US_SGF_Planet_trueColor_7937957_merged_2025-03-17_day.tif\n",
      "   📦 Standard file (0.7 GB), using adaptive chunks\n",
      "   [CHECK] Checking if file already exists in S3: s3://nasa-disasters/drcs_activations_new/Planet/trueColor/202503_SevereWx_US_SGF_Planet_trueColor_7937957_merged_2025-03-17_day.tif\n",
      "   [INFO] File size: 0.7 GB\n",
      "   [TEMP] Using temp directory: /tmp\n",
      "   [MEMORY] Initial: 1953.3 MB, Available: 27905.7 MB\n",
      "   [STREAM] Attempting to stream from S3: /vsis3/nasa-disasters/drcs_activations/202503_SevereWx_US/planet/SGF_Planet_trueColor_20250317_7937957_merged.tif\n"
     ]
    },
    {
     "name": "stderr",
     "output_type": "stream",
     "text": [
      "Reading input: <open WarpedVRT name='WarpedVRT(/vsis3/nasa-disasters/drcs_activations/202503_SevereWx_US/planet/SGF_Planet_trueColor_20250317_7937957_merged.tif)' mode='r'>\n",
      "\n"
     ]
    },
    {
     "name": "stdout",
     "output_type": "stream",
     "text": [
      "   [STREAM] ✅ Successfully opened file via streaming\n",
      "   [OPTIMIZED] Using rio-cogeo for single-pass COG creation\n",
      "   [NODATA] Using existing no-data value: 0.0\n",
      "   [COG] Creating COG with reprojection in single pass...\n"
     ]
    },
    {
     "name": "stderr",
     "output_type": "stream",
     "text": [
      "Adding overviews...\n",
      "Updating dataset tags...\n",
      "Writing output to: cog_202503_SevereWx_US_SGF_Planet_trueColor_7937957_merged_2025-03-17_day.tif\n"
     ]
    },
    {
     "name": "stdout",
     "output_type": "stream",
     "text": [
      "   [COG] ✅ COG created successfully\n",
      "   [VALIDATE] Checking COG validity...\n",
      "   [VALIDATE] ✅ Valid COG\n",
      "   [UPLOAD] Uploading 333.2 MB to s3://nasa-disasters/drcs_activations_new/Planet/trueColor/202503_SevereWx_US_SGF_Planet_trueColor_7937957_merged_2025-03-17_day.tif\n",
      "   [UPLOAD] ✅ Uploaded to s3://nasa-disasters/drcs_activations_new/Planet/trueColor/202503_SevereWx_US_SGF_Planet_trueColor_7937957_merged_2025-03-17_day.tif\n",
      "   [LOCAL] Saved to output/202503_SevereWx_US/trueColor_or_truecolor/202503_SevereWx_US_SGF_Planet_trueColor_7937957_merged_2025-03-17_day.tif\n",
      "   [MEMORY] Final: 1953.3 MB (Change: +0.0 MB)\n",
      "   [TIME] Total processing time: 615.6 seconds\n",
      "   [CLEANUP] Removed: cog_202503_SevereWx_US_SGF_Planet_trueColor_7937957_merged_2025-03-17_day.tif\n"
     ]
    },
    {
     "name": "stderr",
     "output_type": "stream",
     "text": [
      "Processing trueColor_or_truecolor:  88%|████████▊ | 60/68 [11:00:41<1:24:08, 631.12s/it]"
     ]
    },
    {
     "name": "stdout",
     "output_type": "stream",
     "text": [
      "   ✅ Successfully processed in 615.9s\n",
      "\n",
      "📄 Processing: SGF_Planet_trueColor_20250317_7937970_merged.tif\n",
      "   → Output: 202503_SevereWx_US_SGF_Planet_trueColor_7937970_merged_2025-03-17_day.tif\n",
      "   📦 Standard file (1.0 GB), using adaptive chunks\n",
      "   [CHECK] Checking if file already exists in S3: s3://nasa-disasters/drcs_activations_new/Planet/trueColor/202503_SevereWx_US_SGF_Planet_trueColor_7937970_merged_2025-03-17_day.tif\n",
      "   [INFO] File size: 1.0 GB\n",
      "   [TEMP] Using temp directory: /tmp\n",
      "   [MEMORY] Initial: 1953.3 MB, Available: 27908.4 MB\n",
      "   [STREAM] Attempting to stream from S3: /vsis3/nasa-disasters/drcs_activations/202503_SevereWx_US/planet/SGF_Planet_trueColor_20250317_7937970_merged.tif\n"
     ]
    },
    {
     "name": "stderr",
     "output_type": "stream",
     "text": [
      "Reading input: <open WarpedVRT name='WarpedVRT(/vsis3/nasa-disasters/drcs_activations/202503_SevereWx_US/planet/SGF_Planet_trueColor_20250317_7937970_merged.tif)' mode='r'>\n",
      "\n"
     ]
    },
    {
     "name": "stdout",
     "output_type": "stream",
     "text": [
      "   [STREAM] ✅ Successfully opened file via streaming\n",
      "   [OPTIMIZED] Using rio-cogeo for single-pass COG creation\n",
      "   [NODATA] Using existing no-data value: 0.0\n",
      "   [COG] Creating COG with reprojection in single pass...\n"
     ]
    },
    {
     "name": "stderr",
     "output_type": "stream",
     "text": [
      "Adding overviews...\n",
      "Updating dataset tags...\n",
      "Writing output to: cog_202503_SevereWx_US_SGF_Planet_trueColor_7937970_merged_2025-03-17_day.tif\n"
     ]
    },
    {
     "name": "stdout",
     "output_type": "stream",
     "text": [
      "   [COG] ✅ COG created successfully\n",
      "   [VALIDATE] Checking COG validity...\n",
      "   [VALIDATE] ✅ Valid COG\n",
      "   [UPLOAD] Uploading 431.2 MB to s3://nasa-disasters/drcs_activations_new/Planet/trueColor/202503_SevereWx_US_SGF_Planet_trueColor_7937970_merged_2025-03-17_day.tif\n",
      "   [UPLOAD] ✅ Uploaded to s3://nasa-disasters/drcs_activations_new/Planet/trueColor/202503_SevereWx_US_SGF_Planet_trueColor_7937970_merged_2025-03-17_day.tif\n",
      "   [LOCAL] Saved to output/202503_SevereWx_US/trueColor_or_truecolor/202503_SevereWx_US_SGF_Planet_trueColor_7937970_merged_2025-03-17_day.tif\n",
      "   [MEMORY] Final: 1953.3 MB (Change: +0.0 MB)\n",
      "   [TIME] Total processing time: 789.9 seconds\n",
      "   [CLEANUP] Removed: cog_202503_SevereWx_US_SGF_Planet_trueColor_7937970_merged_2025-03-17_day.tif\n"
     ]
    },
    {
     "name": "stderr",
     "output_type": "stream",
     "text": [
      "Processing trueColor_or_truecolor:  90%|████████▉ | 61/68 [11:13:51<1:19:11, 678.83s/it]"
     ]
    },
    {
     "name": "stdout",
     "output_type": "stream",
     "text": [
      "   ✅ Successfully processed in 790.2s\n",
      "\n",
      "📄 Processing: SGF_Planet_trueColor_20250317_7938015_merged.tif\n",
      "   → Output: 202503_SevereWx_US_SGF_Planet_trueColor_7938015_merged_2025-03-17_day.tif\n",
      "   📦 Standard file (1.3 GB), using adaptive chunks\n",
      "   [CHECK] Checking if file already exists in S3: s3://nasa-disasters/drcs_activations_new/Planet/trueColor/202503_SevereWx_US_SGF_Planet_trueColor_7938015_merged_2025-03-17_day.tif\n",
      "   [INFO] File size: 1.3 GB\n",
      "   [TEMP] Using temp directory: /tmp\n",
      "   [MEMORY] Initial: 1953.3 MB, Available: 27904.9 MB\n",
      "   [STREAM] Attempting to stream from S3: /vsis3/nasa-disasters/drcs_activations/202503_SevereWx_US/planet/SGF_Planet_trueColor_20250317_7938015_merged.tif\n"
     ]
    },
    {
     "name": "stderr",
     "output_type": "stream",
     "text": [
      "Reading input: <open WarpedVRT name='WarpedVRT(/vsis3/nasa-disasters/drcs_activations/202503_SevereWx_US/planet/SGF_Planet_trueColor_20250317_7938015_merged.tif)' mode='r'>\n",
      "\n"
     ]
    },
    {
     "name": "stdout",
     "output_type": "stream",
     "text": [
      "   [STREAM] ✅ Successfully opened file via streaming\n",
      "   [OPTIMIZED] Using rio-cogeo for single-pass COG creation\n",
      "   [NODATA] Using existing no-data value: 0.0\n",
      "   [COG] Creating COG with reprojection in single pass...\n"
     ]
    },
    {
     "name": "stderr",
     "output_type": "stream",
     "text": [
      "Adding overviews...\n",
      "Updating dataset tags...\n",
      "Writing output to: cog_202503_SevereWx_US_SGF_Planet_trueColor_7938015_merged_2025-03-17_day.tif\n"
     ]
    },
    {
     "name": "stdout",
     "output_type": "stream",
     "text": [
      "   [COG] ✅ COG created successfully\n",
      "   [VALIDATE] Checking COG validity...\n",
      "   [VALIDATE] ✅ Valid COG\n",
      "   [UPLOAD] Uploading 585.9 MB to s3://nasa-disasters/drcs_activations_new/Planet/trueColor/202503_SevereWx_US_SGF_Planet_trueColor_7938015_merged_2025-03-17_day.tif\n",
      "   [UPLOAD] ✅ Uploaded to s3://nasa-disasters/drcs_activations_new/Planet/trueColor/202503_SevereWx_US_SGF_Planet_trueColor_7938015_merged_2025-03-17_day.tif\n",
      "   [LOCAL] Saved to output/202503_SevereWx_US/trueColor_or_truecolor/202503_SevereWx_US_SGF_Planet_trueColor_7938015_merged_2025-03-17_day.tif\n",
      "   [MEMORY] Final: 1949.3 MB (Change: -4.0 MB)\n",
      "   [TIME] Total processing time: 1022.7 seconds\n",
      "   [CLEANUP] Removed: cog_202503_SevereWx_US_SGF_Planet_trueColor_7938015_merged_2025-03-17_day.tif\n"
     ]
    },
    {
     "name": "stderr",
     "output_type": "stream",
     "text": [
      "Processing trueColor_or_truecolor:  91%|█████████ | 62/68 [11:30:54<1:18:12, 782.08s/it]"
     ]
    },
    {
     "name": "stdout",
     "output_type": "stream",
     "text": [
      "   ✅ Successfully processed in 1023.0s\n",
      "\n",
      "📄 Processing: SGF_Planet_trueColor_20250317_7938212_merged.tif\n",
      "   → Output: 202503_SevereWx_US_SGF_Planet_trueColor_7938212_merged_2025-03-17_day.tif\n",
      "   📦 Standard file (1.1 GB), using adaptive chunks\n",
      "   [CHECK] Checking if file already exists in S3: s3://nasa-disasters/drcs_activations_new/Planet/trueColor/202503_SevereWx_US_SGF_Planet_trueColor_7938212_merged_2025-03-17_day.tif\n",
      "   [INFO] File size: 1.1 GB\n",
      "   [TEMP] Using temp directory: /tmp\n",
      "   [MEMORY] Initial: 1949.3 MB, Available: 27910.1 MB\n",
      "   [STREAM] Attempting to stream from S3: /vsis3/nasa-disasters/drcs_activations/202503_SevereWx_US/planet/SGF_Planet_trueColor_20250317_7938212_merged.tif\n"
     ]
    },
    {
     "name": "stderr",
     "output_type": "stream",
     "text": [
      "Reading input: <open WarpedVRT name='WarpedVRT(/vsis3/nasa-disasters/drcs_activations/202503_SevereWx_US/planet/SGF_Planet_trueColor_20250317_7938212_merged.tif)' mode='r'>\n",
      "\n"
     ]
    },
    {
     "name": "stdout",
     "output_type": "stream",
     "text": [
      "   [STREAM] ✅ Successfully opened file via streaming\n",
      "   [OPTIMIZED] Using rio-cogeo for single-pass COG creation\n",
      "   [NODATA] Using existing no-data value: 0.0\n",
      "   [COG] Creating COG with reprojection in single pass...\n"
     ]
    },
    {
     "name": "stderr",
     "output_type": "stream",
     "text": [
      "Adding overviews...\n",
      "Updating dataset tags...\n",
      "Writing output to: cog_202503_SevereWx_US_SGF_Planet_trueColor_7938212_merged_2025-03-17_day.tif\n"
     ]
    },
    {
     "name": "stdout",
     "output_type": "stream",
     "text": [
      "   [COG] ✅ COG created successfully\n",
      "   [VALIDATE] Checking COG validity...\n",
      "   [VALIDATE] ✅ Valid COG\n",
      "   [UPLOAD] Uploading 475.0 MB to s3://nasa-disasters/drcs_activations_new/Planet/trueColor/202503_SevereWx_US_SGF_Planet_trueColor_7938212_merged_2025-03-17_day.tif\n",
      "   [UPLOAD] ✅ Uploaded to s3://nasa-disasters/drcs_activations_new/Planet/trueColor/202503_SevereWx_US_SGF_Planet_trueColor_7938212_merged_2025-03-17_day.tif\n"
     ]
    },
    {
     "name": "stderr",
     "output_type": "stream",
     "text": [
      "Processing trueColor_or_truecolor:  93%|█████████▎| 63/68 [11:44:55<1:06:39, 799.93s/it]"
     ]
    },
    {
     "name": "stdout",
     "output_type": "stream",
     "text": [
      "   [LOCAL] Saved to output/202503_SevereWx_US/trueColor_or_truecolor/202503_SevereWx_US_SGF_Planet_trueColor_7938212_merged_2025-03-17_day.tif\n",
      "   [MEMORY] Final: 1949.3 MB (Change: +0.0 MB)\n",
      "   [TIME] Total processing time: 841.3 seconds\n",
      "   [CLEANUP] Removed: cog_202503_SevereWx_US_SGF_Planet_trueColor_7938212_merged_2025-03-17_day.tif\n",
      "   ✅ Successfully processed in 841.6s\n",
      "\n",
      "📄 Processing: SGF_Planet_trueColor_20250317_7938226_merged.tif\n",
      "   → Output: 202503_SevereWx_US_SGF_Planet_trueColor_7938226_merged_2025-03-17_day.tif\n",
      "   📦 Standard file (0.5 GB), using adaptive chunks\n",
      "   [CHECK] Checking if file already exists in S3: s3://nasa-disasters/drcs_activations_new/Planet/trueColor/202503_SevereWx_US_SGF_Planet_trueColor_7938226_merged_2025-03-17_day.tif\n",
      "   [INFO] File size: 0.5 GB\n",
      "   [TEMP] Using temp directory: /tmp\n",
      "   [MEMORY] Initial: 1949.3 MB, Available: 27908.1 MB\n",
      "   [STREAM] Attempting to stream from S3: /vsis3/nasa-disasters/drcs_activations/202503_SevereWx_US/planet/SGF_Planet_trueColor_20250317_7938226_merged.tif\n"
     ]
    },
    {
     "name": "stderr",
     "output_type": "stream",
     "text": [
      "Reading input: <open WarpedVRT name='WarpedVRT(/vsis3/nasa-disasters/drcs_activations/202503_SevereWx_US/planet/SGF_Planet_trueColor_20250317_7938226_merged.tif)' mode='r'>\n",
      "\n"
     ]
    },
    {
     "name": "stdout",
     "output_type": "stream",
     "text": [
      "   [STREAM] ✅ Successfully opened file via streaming\n",
      "   [OPTIMIZED] Using rio-cogeo for single-pass COG creation\n",
      "   [NODATA] Using existing no-data value: 0.0\n",
      "   [COG] Creating COG with reprojection in single pass...\n"
     ]
    },
    {
     "name": "stderr",
     "output_type": "stream",
     "text": [
      "Adding overviews...\n",
      "Updating dataset tags...\n",
      "Writing output to: cog_202503_SevereWx_US_SGF_Planet_trueColor_7938226_merged_2025-03-17_day.tif\n"
     ]
    },
    {
     "name": "stdout",
     "output_type": "stream",
     "text": [
      "   [COG] ✅ COG created successfully\n",
      "   [VALIDATE] Checking COG validity...\n",
      "   [VALIDATE] ✅ Valid COG\n",
      "   [UPLOAD] Uploading 216.3 MB to s3://nasa-disasters/drcs_activations_new/Planet/trueColor/202503_SevereWx_US_SGF_Planet_trueColor_7938226_merged_2025-03-17_day.tif\n",
      "   [UPLOAD] ✅ Uploaded to s3://nasa-disasters/drcs_activations_new/Planet/trueColor/202503_SevereWx_US_SGF_Planet_trueColor_7938226_merged_2025-03-17_day.tif\n"
     ]
    },
    {
     "name": "stderr",
     "output_type": "stream",
     "text": [
      "Processing trueColor_or_truecolor:  94%|█████████▍| 64/68 [11:51:23<45:04, 676.17s/it]  "
     ]
    },
    {
     "name": "stdout",
     "output_type": "stream",
     "text": [
      "   [LOCAL] Saved to output/202503_SevereWx_US/trueColor_or_truecolor/202503_SevereWx_US_SGF_Planet_trueColor_7938226_merged_2025-03-17_day.tif\n",
      "   [MEMORY] Final: 1949.3 MB (Change: +0.0 MB)\n",
      "   [TIME] Total processing time: 387.1 seconds\n",
      "   [CLEANUP] Removed: cog_202503_SevereWx_US_SGF_Planet_trueColor_7938226_merged_2025-03-17_day.tif\n",
      "   ✅ Successfully processed in 387.4s\n",
      "\n",
      "📄 Processing: SHV_Planet_trueColor_20250310_7921536_merged.tif\n",
      "   → Output: 202503_SevereWx_US_SHV_Planet_trueColor_7921536_merged_2025-03-10_day.tif\n",
      "   📦 Standard file (0.5 GB), using adaptive chunks\n",
      "   [CHECK] Checking if file already exists in S3: s3://nasa-disasters/drcs_activations_new/Planet/trueColor/202503_SevereWx_US_SHV_Planet_trueColor_7921536_merged_2025-03-10_day.tif\n",
      "   [INFO] File size: 0.5 GB\n",
      "   [TEMP] Using temp directory: /tmp\n",
      "   [MEMORY] Initial: 1949.3 MB, Available: 27905.6 MB\n",
      "   [STREAM] Attempting to stream from S3: /vsis3/nasa-disasters/drcs_activations/202503_SevereWx_US/planet/SHV_Planet_trueColor_20250310_7921536_merged.tif\n"
     ]
    },
    {
     "name": "stderr",
     "output_type": "stream",
     "text": [
      "Reading input: <open WarpedVRT name='WarpedVRT(/vsis3/nasa-disasters/drcs_activations/202503_SevereWx_US/planet/SHV_Planet_trueColor_20250310_7921536_merged.tif)' mode='r'>\n",
      "\n"
     ]
    },
    {
     "name": "stdout",
     "output_type": "stream",
     "text": [
      "   [STREAM] ✅ Successfully opened file via streaming\n",
      "   [OPTIMIZED] Using rio-cogeo for single-pass COG creation\n",
      "   [NODATA] Using existing no-data value: 0.0\n",
      "   [COG] Creating COG with reprojection in single pass...\n"
     ]
    },
    {
     "name": "stderr",
     "output_type": "stream",
     "text": [
      "Adding overviews...\n",
      "Updating dataset tags...\n",
      "Writing output to: cog_202503_SevereWx_US_SHV_Planet_trueColor_7921536_merged_2025-03-10_day.tif\n"
     ]
    },
    {
     "name": "stdout",
     "output_type": "stream",
     "text": [
      "   [COG] ✅ COG created successfully\n",
      "   [VALIDATE] Checking COG validity...\n",
      "   [VALIDATE] ✅ Valid COG\n",
      "   [UPLOAD] Uploading 221.2 MB to s3://nasa-disasters/drcs_activations_new/Planet/trueColor/202503_SevereWx_US_SHV_Planet_trueColor_7921536_merged_2025-03-10_day.tif\n",
      "   [UPLOAD] ✅ Uploaded to s3://nasa-disasters/drcs_activations_new/Planet/trueColor/202503_SevereWx_US_SHV_Planet_trueColor_7921536_merged_2025-03-10_day.tif\n",
      "   [LOCAL] Saved to output/202503_SevereWx_US/trueColor_or_truecolor/202503_SevereWx_US_SHV_Planet_trueColor_7921536_merged_2025-03-10_day.tif\n",
      "   [MEMORY] Final: 1949.4 MB (Change: +0.1 MB)\n",
      "   [TIME] Total processing time: 386.9 seconds\n",
      "   [CLEANUP] Removed: cog_202503_SevereWx_US_SHV_Planet_trueColor_7921536_merged_2025-03-10_day.tif\n"
     ]
    },
    {
     "name": "stderr",
     "output_type": "stream",
     "text": [
      "Processing trueColor_or_truecolor:  96%|█████████▌| 65/68 [11:57:50<29:28, 589.46s/it]"
     ]
    },
    {
     "name": "stdout",
     "output_type": "stream",
     "text": [
      "   ✅ Successfully processed in 387.1s\n",
      "\n",
      "📄 Processing: SHV_Planet_trueColor_20250313_7928091_merged.tif\n",
      "   → Output: 202503_SevereWx_US_SHV_Planet_trueColor_7928091_merged_2025-03-13_day.tif\n",
      "   📦 Standard file (0.5 GB), using adaptive chunks\n",
      "   [CHECK] Checking if file already exists in S3: s3://nasa-disasters/drcs_activations_new/Planet/trueColor/202503_SevereWx_US_SHV_Planet_trueColor_7928091_merged_2025-03-13_day.tif\n",
      "   [INFO] File size: 0.5 GB\n",
      "   [TEMP] Using temp directory: /tmp\n",
      "   [MEMORY] Initial: 1949.4 MB, Available: 27905.0 MB\n",
      "   [STREAM] Attempting to stream from S3: /vsis3/nasa-disasters/drcs_activations/202503_SevereWx_US/planet/SHV_Planet_trueColor_20250313_7928091_merged.tif\n"
     ]
    },
    {
     "name": "stderr",
     "output_type": "stream",
     "text": [
      "Reading input: <open WarpedVRT name='WarpedVRT(/vsis3/nasa-disasters/drcs_activations/202503_SevereWx_US/planet/SHV_Planet_trueColor_20250313_7928091_merged.tif)' mode='r'>\n",
      "\n"
     ]
    },
    {
     "name": "stdout",
     "output_type": "stream",
     "text": [
      "   [STREAM] ✅ Successfully opened file via streaming\n",
      "   [OPTIMIZED] Using rio-cogeo for single-pass COG creation\n",
      "   [NODATA] Using existing no-data value: 0.0\n",
      "   [COG] Creating COG with reprojection in single pass...\n"
     ]
    },
    {
     "name": "stderr",
     "output_type": "stream",
     "text": [
      "Adding overviews...\n",
      "Updating dataset tags...\n",
      "Writing output to: cog_202503_SevereWx_US_SHV_Planet_trueColor_7928091_merged_2025-03-13_day.tif\n"
     ]
    },
    {
     "name": "stdout",
     "output_type": "stream",
     "text": [
      "   [COG] ✅ COG created successfully\n",
      "   [VALIDATE] Checking COG validity...\n",
      "   [VALIDATE] ✅ Valid COG\n",
      "   [UPLOAD] Uploading 241.8 MB to s3://nasa-disasters/drcs_activations_new/Planet/trueColor/202503_SevereWx_US_SHV_Planet_trueColor_7928091_merged_2025-03-13_day.tif\n",
      "   [UPLOAD] ✅ Uploaded to s3://nasa-disasters/drcs_activations_new/Planet/trueColor/202503_SevereWx_US_SHV_Planet_trueColor_7928091_merged_2025-03-13_day.tif\n"
     ]
    },
    {
     "name": "stderr",
     "output_type": "stream",
     "text": [
      "Processing trueColor_or_truecolor:  97%|█████████▋| 66/68 [12:04:16<17:37, 528.51s/it]"
     ]
    },
    {
     "name": "stdout",
     "output_type": "stream",
     "text": [
      "   [LOCAL] Saved to output/202503_SevereWx_US/trueColor_or_truecolor/202503_SevereWx_US_SHV_Planet_trueColor_7928091_merged_2025-03-13_day.tif\n",
      "   [MEMORY] Final: 1949.4 MB (Change: +0.0 MB)\n",
      "   [TIME] Total processing time: 386.1 seconds\n",
      "   [CLEANUP] Removed: cog_202503_SevereWx_US_SHV_Planet_trueColor_7928091_merged_2025-03-13_day.tif\n",
      "   ✅ Successfully processed in 386.3s\n",
      "\n",
      "📄 Processing: SHV_Planet_trueColor_20250316_7935748_merged.tif\n",
      "   → Output: 202503_SevereWx_US_SHV_Planet_trueColor_7935748_merged_2025-03-16_day.tif\n",
      "   📦 Standard file (0.5 GB), using adaptive chunks\n",
      "   [CHECK] Checking if file already exists in S3: s3://nasa-disasters/drcs_activations_new/Planet/trueColor/202503_SevereWx_US_SHV_Planet_trueColor_7935748_merged_2025-03-16_day.tif\n",
      "   [INFO] File size: 0.5 GB\n",
      "   [TEMP] Using temp directory: /tmp\n",
      "   [MEMORY] Initial: 1949.4 MB, Available: 27905.3 MB\n",
      "   [STREAM] Attempting to stream from S3: /vsis3/nasa-disasters/drcs_activations/202503_SevereWx_US/planet/SHV_Planet_trueColor_20250316_7935748_merged.tif\n"
     ]
    },
    {
     "name": "stderr",
     "output_type": "stream",
     "text": [
      "Reading input: <open WarpedVRT name='WarpedVRT(/vsis3/nasa-disasters/drcs_activations/202503_SevereWx_US/planet/SHV_Planet_trueColor_20250316_7935748_merged.tif)' mode='r'>\n",
      "\n"
     ]
    },
    {
     "name": "stdout",
     "output_type": "stream",
     "text": [
      "   [STREAM] ✅ Successfully opened file via streaming\n",
      "   [OPTIMIZED] Using rio-cogeo for single-pass COG creation\n",
      "   [NODATA] Using existing no-data value: 0.0\n",
      "   [COG] Creating COG with reprojection in single pass...\n"
     ]
    },
    {
     "name": "stderr",
     "output_type": "stream",
     "text": [
      "Adding overviews...\n",
      "Updating dataset tags...\n",
      "Writing output to: cog_202503_SevereWx_US_SHV_Planet_trueColor_7935748_merged_2025-03-16_day.tif\n"
     ]
    },
    {
     "name": "stdout",
     "output_type": "stream",
     "text": [
      "   [COG] ✅ COG created successfully\n",
      "   [VALIDATE] Checking COG validity...\n",
      "   [VALIDATE] ✅ Valid COG\n",
      "   [UPLOAD] Uploading 241.5 MB to s3://nasa-disasters/drcs_activations_new/Planet/trueColor/202503_SevereWx_US_SHV_Planet_trueColor_7935748_merged_2025-03-16_day.tif\n",
      "   [UPLOAD] ✅ Uploaded to s3://nasa-disasters/drcs_activations_new/Planet/trueColor/202503_SevereWx_US_SHV_Planet_trueColor_7935748_merged_2025-03-16_day.tif\n"
     ]
    },
    {
     "name": "stderr",
     "output_type": "stream",
     "text": [
      "Processing trueColor_or_truecolor:  99%|█████████▊| 67/68 [12:10:38<08:04, 484.67s/it]"
     ]
    },
    {
     "name": "stdout",
     "output_type": "stream",
     "text": [
      "   [LOCAL] Saved to output/202503_SevereWx_US/trueColor_or_truecolor/202503_SevereWx_US_SHV_Planet_trueColor_7935748_merged_2025-03-16_day.tif\n",
      "   [MEMORY] Final: 1949.4 MB (Change: +0.0 MB)\n",
      "   [TIME] Total processing time: 382.2 seconds\n",
      "   [CLEANUP] Removed: cog_202503_SevereWx_US_SHV_Planet_trueColor_7935748_merged_2025-03-16_day.tif\n",
      "   ✅ Successfully processed in 382.4s\n",
      "\n",
      "📄 Processing: SHV_Planet_trueColor_20250317_7938226_merged.tif\n",
      "   → Output: 202503_SevereWx_US_SHV_Planet_trueColor_7938226_merged_2025-03-17_day.tif\n",
      "   📦 Standard file (0.5 GB), using adaptive chunks\n",
      "   [CHECK] Checking if file already exists in S3: s3://nasa-disasters/drcs_activations_new/Planet/trueColor/202503_SevereWx_US_SHV_Planet_trueColor_7938226_merged_2025-03-17_day.tif\n",
      "   [INFO] File size: 0.5 GB\n",
      "   [TEMP] Using temp directory: /tmp\n",
      "   [MEMORY] Initial: 1949.4 MB, Available: 27907.0 MB\n",
      "   [STREAM] Attempting to stream from S3: /vsis3/nasa-disasters/drcs_activations/202503_SevereWx_US/planet/SHV_Planet_trueColor_20250317_7938226_merged.tif\n"
     ]
    },
    {
     "name": "stderr",
     "output_type": "stream",
     "text": [
      "Reading input: <open WarpedVRT name='WarpedVRT(/vsis3/nasa-disasters/drcs_activations/202503_SevereWx_US/planet/SHV_Planet_trueColor_20250317_7938226_merged.tif)' mode='r'>\n",
      "\n"
     ]
    },
    {
     "name": "stdout",
     "output_type": "stream",
     "text": [
      "   [STREAM] ✅ Successfully opened file via streaming\n",
      "   [OPTIMIZED] Using rio-cogeo for single-pass COG creation\n",
      "   [NODATA] Using existing no-data value: 0.0\n",
      "   [COG] Creating COG with reprojection in single pass...\n"
     ]
    },
    {
     "name": "stderr",
     "output_type": "stream",
     "text": [
      "Adding overviews...\n",
      "Updating dataset tags...\n",
      "Writing output to: cog_202503_SevereWx_US_SHV_Planet_trueColor_7938226_merged_2025-03-17_day.tif\n"
     ]
    },
    {
     "name": "stdout",
     "output_type": "stream",
     "text": [
      "   [COG] ✅ COG created successfully\n",
      "   [VALIDATE] Checking COG validity...\n",
      "   [VALIDATE] ✅ Valid COG\n",
      "   [UPLOAD] Uploading 234.4 MB to s3://nasa-disasters/drcs_activations_new/Planet/trueColor/202503_SevereWx_US_SHV_Planet_trueColor_7938226_merged_2025-03-17_day.tif\n",
      "   [UPLOAD] ✅ Uploaded to s3://nasa-disasters/drcs_activations_new/Planet/trueColor/202503_SevereWx_US_SHV_Planet_trueColor_7938226_merged_2025-03-17_day.tif\n",
      "   [LOCAL] Saved to output/202503_SevereWx_US/trueColor_or_truecolor/202503_SevereWx_US_SHV_Planet_trueColor_7938226_merged_2025-03-17_day.tif\n",
      "   [MEMORY] Final: 1731.7 MB (Change: -217.7 MB)\n",
      "   [TIME] Total processing time: 381.8 seconds\n",
      "   [CLEANUP] Removed: cog_202503_SevereWx_US_SHV_Planet_trueColor_7938226_merged_2025-03-17_day.tif\n"
     ]
    },
    {
     "name": "stderr",
     "output_type": "stream",
     "text": [
      "Processing trueColor_or_truecolor: 100%|██████████| 68/68 [12:17:00<00:00, 650.31s/it]"
     ]
    },
    {
     "name": "stdout",
     "output_type": "stream",
     "text": [
      "   ✅ Successfully processed in 382.0s\n",
      "\n",
      "============================================================\n",
      "BATCH PROCESSING SUMMARY\n",
      "============================================================\n",
      "  total: 68\n",
      "  success: 68\n",
      "  success_rate: 100.00\n",
      "  total_time_minutes: 737.01\n",
      "  avg_time_seconds: 650.31\n",
      "============================================================\n",
      "\n",
      "🔍 Verifying 5 processed files...\n"
     ]
    },
    {
     "name": "stderr",
     "output_type": "stream",
     "text": [
      "\n"
     ]
    },
    {
     "name": "stdout",
     "output_type": "stream",
     "text": [
      "Downloading files for verification...\n",
      "Comparing files...\n"
     ]
    },
    {
     "name": "stderr",
     "output_type": "stream",
     "text": [
      "/home/jovyan/disasters-aws-conversion/tools/verification.py:300: RuntimeWarning: overflow encountered in scalar subtract\n",
      "  if abs(range_out - range_in) > 0.1 * range_in:  # More than 10% change\n"
     ]
    },
    {
     "name": "stdout",
     "output_type": "stream",
     "text": [
      "Creating visualization plots...\n"
     ]
    },
    {
     "name": "stderr",
     "output_type": "stream",
     "text": [
      "/home/jovyan/disasters-aws-conversion/tools/verification.py:514: UserWarning: This figure includes Axes that are not compatible with tight_layout, so results might be incorrect.\n",
      "  plt.tight_layout()\n"
     ]
    },
    {
     "name": "stdout",
     "output_type": "stream",
     "text": [
      "✅ Verification complete. Results saved to verification/202503_SevereWx_US/trueColor_or_truecolor\n",
      "   ✓ Verified: 202503_SevereWx_US_LIX_Planet_trueColor_7899853_merged_2025-03-01_day.tif\n",
      "Downloading files for verification...\n",
      "Comparing files...\n"
     ]
    },
    {
     "name": "stderr",
     "output_type": "stream",
     "text": [
      "/home/jovyan/disasters-aws-conversion/tools/verification.py:300: RuntimeWarning: overflow encountered in scalar subtract\n",
      "  if abs(range_out - range_in) > 0.1 * range_in:  # More than 10% change\n"
     ]
    },
    {
     "name": "stdout",
     "output_type": "stream",
     "text": [
      "Creating visualization plots...\n"
     ]
    },
    {
     "name": "stderr",
     "output_type": "stream",
     "text": [
      "/home/jovyan/disasters-aws-conversion/tools/verification.py:514: UserWarning: This figure includes Axes that are not compatible with tight_layout, so results might be incorrect.\n",
      "  plt.tight_layout()\n"
     ]
    },
    {
     "name": "stdout",
     "output_type": "stream",
     "text": [
      "✅ Verification complete. Results saved to verification/202503_SevereWx_US/trueColor_or_truecolor\n",
      "   ✓ Verified: 202503_SevereWx_US_LIX_Planet_trueColor_7923427_merged_2025-03-11_day.tif\n",
      "Downloading files for verification...\n",
      "Comparing files...\n"
     ]
    },
    {
     "name": "stderr",
     "output_type": "stream",
     "text": [
      "/home/jovyan/disasters-aws-conversion/tools/verification.py:300: RuntimeWarning: overflow encountered in scalar subtract\n",
      "  if abs(range_out - range_in) > 0.1 * range_in:  # More than 10% change\n"
     ]
    },
    {
     "name": "stdout",
     "output_type": "stream",
     "text": [
      "Creating visualization plots...\n"
     ]
    },
    {
     "name": "stderr",
     "output_type": "stream",
     "text": [
      "/home/jovyan/disasters-aws-conversion/tools/verification.py:514: UserWarning: This figure includes Axes that are not compatible with tight_layout, so results might be incorrect.\n",
      "  plt.tight_layout()\n"
     ]
    },
    {
     "name": "stdout",
     "output_type": "stream",
     "text": [
      "✅ Verification complete. Results saved to verification/202503_SevereWx_US/trueColor_or_truecolor\n",
      "   ✓ Verified: 202503_SevereWx_US_LIX_Planet_trueColor_7923683_merged_2025-03-11_day.tif\n",
      "Downloading files for verification...\n",
      "Comparing files...\n"
     ]
    },
    {
     "name": "stderr",
     "output_type": "stream",
     "text": [
      "/home/jovyan/disasters-aws-conversion/tools/verification.py:300: RuntimeWarning: overflow encountered in scalar subtract\n",
      "  if abs(range_out - range_in) > 0.1 * range_in:  # More than 10% change\n"
     ]
    },
    {
     "name": "stdout",
     "output_type": "stream",
     "text": [
      "Creating visualization plots...\n"
     ]
    },
    {
     "name": "stderr",
     "output_type": "stream",
     "text": [
      "/home/jovyan/disasters-aws-conversion/tools/verification.py:514: UserWarning: This figure includes Axes that are not compatible with tight_layout, so results might be incorrect.\n",
      "  plt.tight_layout()\n"
     ]
    },
    {
     "name": "stdout",
     "output_type": "stream",
     "text": [
      "✅ Verification complete. Results saved to verification/202503_SevereWx_US/trueColor_or_truecolor\n",
      "   ✓ Verified: 202503_SevereWx_US_LIX_Planet_trueColor_7923805_merged_2025-03-11_day.tif\n",
      "Downloading files for verification...\n",
      "Comparing files...\n",
      "Creating visualization plots...\n"
     ]
    },
    {
     "name": "stderr",
     "output_type": "stream",
     "text": [
      "/home/jovyan/disasters-aws-conversion/tools/verification.py:514: UserWarning: This figure includes Axes that are not compatible with tight_layout, so results might be incorrect.\n",
      "  plt.tight_layout()\n"
     ]
    },
    {
     "name": "stdout",
     "output_type": "stream",
     "text": [
      "✅ Verification complete. Results saved to verification/202503_SevereWx_US/trueColor_or_truecolor\n",
      "   ✓ Verified: 202503_SevereWx_US_LIX_Planet_trueColor_7935289_merged_2025-03-16_day.tif\n",
      "\n",
      "============================================================\n",
      "VERIFICATION REPORT SUMMARY\n",
      "============================================================\n",
      "Total Files: 5\n",
      "Passed: 5\n",
      "Failed: 0\n",
      "Success Rate: 100.0%\n",
      "\n",
      "Common Warnings:\n",
      "  • Data range changed significantly: 254.000000 -> 253.000000\n",
      "  • Shape changed after reprojection: (12267, 11719) -> (11671, 12783)\n",
      "  • Data range changed significantly: 246.000000 -> 240.000000\n",
      "  • Shape changed after reprojection: (18796, 13870) -> (18086, 15699)\n",
      "  • Data range changed significantly: 254.000000 -> 245.000000\n",
      "\n",
      "Full report saved to: verification/202503_SevereWx_US/trueColor_or_truecolor/verification_report.json\n",
      "============================================================\n",
      "\n",
      "📊 Results saved to: output/202503_SevereWx_US/trueColor_or_truecolor/processing_results_trueColor_or_truecolor_20250927_152648.csv\n",
      "   [MEMORY] High usage detected (1941.4 MB), forcing garbage collection...\n",
      "   [MEMORY] Freed 0.0 MB\n"
     ]
    }
   ],
   "source": [
    "# Process each product type\n",
    "for product_name, product_info in files_to_process.items():\n",
    "    results = process_files_by_type(\n",
    "        file_list=product_info['files'],\n",
    "        product_name=product_name,\n",
    "        output_dir=product_info['output_dir'],\n",
    "        event_name=EVENT_NAME,\n",
    "        s3_client=s3_client\n",
    "    )\n",
    "    \n",
    "    if not results.empty:\n",
    "        all_results.append((product_name, results))\n",
    "    \n",
    "    # Memory cleanup\n",
    "    gc.collect()\n",
    "    monitor_memory(threshold_mb=1000)"
   ]
  },
  {
   "cell_type": "code",
   "execution_count": 17,
   "metadata": {},
   "outputs": [
    {
     "name": "stdout",
     "output_type": "stream",
     "text": [
      "\n",
      "============================================================\n",
      "📊 FINAL PROCESSING REPORT\n",
      "============================================================\n",
      "\n",
      "Total files processed: 68\n",
      "\n",
      "Files by Product Type:\n",
      "  trueColor_or_truecolor:\n",
      "    - Total: 68\n",
      "    - Success: 68\n",
      "    - Failed: 0\n",
      "    - Skipped: 0\n",
      "\n",
      "Total processing time: 738.3 minutes\n",
      "Average time per file: 650.3 seconds\n",
      "Maximum time for a file: 1168.0 seconds\n",
      "\n",
      "Final memory usage: 1941.4 MB\n",
      "\n",
      "📁 Results saved to: output/202503_SevereWx_US/combined_results_20250927_152648.csv\n",
      "📁 Summary saved to: output/202503_SevereWx_US/processing_summary_20250927_152648.txt\n",
      "\n",
      "============================================================\n",
      "✅ PROCESSING COMPLETE!\n",
      "============================================================\n"
     ]
    }
   ],
   "source": [
    "# Combine all results\n",
    "if all_results:\n",
    "    # Combine DataFrames\n",
    "    combined_results = pd.concat([df for _, df in all_results], ignore_index=True)\n",
    "    \n",
    "    print(\"\\n\" + \"=\"*60)\n",
    "    print(\"📊 FINAL PROCESSING REPORT\")\n",
    "    print(\"=\"*60)\n",
    "    \n",
    "    # Overall statistics\n",
    "    print(f\"\\nTotal files processed: {len(combined_results)}\")\n",
    "    \n",
    "    # By product type\n",
    "    print(\"\\nFiles by Product Type:\")\n",
    "    for product, df in all_results:\n",
    "        if not df.empty:\n",
    "            success = len(df[df['status'] == 'success']) if 'status' in df.columns else 0\n",
    "            failed = len(df[df['status'] == 'failed']) if 'status' in df.columns else 0\n",
    "            skipped = len(df[df['status'] == 'skipped']) if 'status' in df.columns else 0\n",
    "            print(f\"  {product}:\")\n",
    "            print(f\"    - Total: {len(df)}\")\n",
    "            print(f\"    - Success: {success}\")\n",
    "            print(f\"    - Failed: {failed}\")\n",
    "            print(f\"    - Skipped: {skipped}\")\n",
    "    \n",
    "    # Time statistics\n",
    "    total_time = (datetime.now() - processing_start).total_seconds()\n",
    "    print(f\"\\nTotal processing time: {total_time/60:.1f} minutes\")\n",
    "    \n",
    "    if 'processing_time_s' in combined_results.columns:\n",
    "        avg_time = combined_results['processing_time_s'].mean()\n",
    "        max_time = combined_results['processing_time_s'].max()\n",
    "        print(f\"Average time per file: {avg_time:.1f} seconds\")\n",
    "        print(f\"Maximum time for a file: {max_time:.1f} seconds\")\n",
    "    \n",
    "    # Memory statistics\n",
    "    final_memory = get_memory_usage()\n",
    "    print(f\"\\nFinal memory usage: {final_memory:.1f} MB\")\n",
    "    \n",
    "    # Save combined results\n",
    "    if SAVE_METADATA:\n",
    "        output_dir = f\"output/{EVENT_NAME}\"\n",
    "        os.makedirs(output_dir, exist_ok=True)\n",
    "        \n",
    "        # Save CSV\n",
    "        csv_path = f\"{output_dir}/combined_results_{datetime.now().strftime('%Y%m%d_%H%M%S')}.csv\"\n",
    "        combined_results.to_csv(csv_path, index=False)\n",
    "        print(f\"\\n📁 Results saved to: {csv_path}\")\n",
    "        \n",
    "        # Save summary\n",
    "        summary_path = f\"{output_dir}/processing_summary_{datetime.now().strftime('%Y%m%d_%H%M%S')}.txt\"\n",
    "        with open(summary_path, 'w') as f:\n",
    "            f.write(f\"Processing Summary for {EVENT_NAME}\\n\")\n",
    "            f.write(f\"=\"*60 + \"\\n\")\n",
    "            f.write(f\"Total files: {len(combined_results)}\\n\")\n",
    "            f.write(f\"Total time: {total_time/60:.1f} minutes\\n\")\n",
    "            f.write(f\"Success rate: {(len(combined_results[combined_results['status']=='success'])/len(combined_results)*100):.1f}%\\n\")\n",
    "        print(f\"📁 Summary saved to: {summary_path}\")\n",
    "    \n",
    "    print(\"\\n\" + \"=\"*60)\n",
    "    print(\"✅ PROCESSING COMPLETE!\")\n",
    "    print(\"=\"*60)\n",
    "    \n",
    "else:\n",
    "    print(\"No files were processed\")"
   ]
  },
  {
   "cell_type": "markdown",
   "metadata": {},
   "source": [
    "## 🔍 Manual Verification (Optional)\n",
    "\n",
    "Run this section to manually verify specific files and generate comparison plots:"
   ]
  },
  {
   "cell_type": "code",
   "execution_count": 18,
   "metadata": {},
   "outputs": [
    {
     "name": "stdout",
     "output_type": "stream",
     "text": [
      "\n",
      "Detailed Results DataFrame:\n",
      "                                        original_file  \\\n",
      "0   drcs_activations/202503_SevereWx_US/planet/LIX...   \n",
      "1   drcs_activations/202503_SevereWx_US/planet/LIX...   \n",
      "2   drcs_activations/202503_SevereWx_US/planet/LIX...   \n",
      "3   drcs_activations/202503_SevereWx_US/planet/LIX...   \n",
      "4   drcs_activations/202503_SevereWx_US/planet/LIX...   \n",
      "..                                                ...   \n",
      "63  drcs_activations/202503_SevereWx_US/planet/SGF...   \n",
      "64  drcs_activations/202503_SevereWx_US/planet/SHV...   \n",
      "65  drcs_activations/202503_SevereWx_US/planet/SHV...   \n",
      "66  drcs_activations/202503_SevereWx_US/planet/SHV...   \n",
      "67  drcs_activations/202503_SevereWx_US/planet/SHV...   \n",
      "\n",
      "                                          output_file  \\\n",
      "0   202503_SevereWx_US_LIX_Planet_trueColor_789985...   \n",
      "1   202503_SevereWx_US_LIX_Planet_trueColor_792342...   \n",
      "2   202503_SevereWx_US_LIX_Planet_trueColor_792368...   \n",
      "3   202503_SevereWx_US_LIX_Planet_trueColor_792380...   \n",
      "4   202503_SevereWx_US_LIX_Planet_trueColor_793528...   \n",
      "..                                                ...   \n",
      "63  202503_SevereWx_US_SGF_Planet_trueColor_793822...   \n",
      "64  202503_SevereWx_US_SHV_Planet_trueColor_792153...   \n",
      "65  202503_SevereWx_US_SHV_Planet_trueColor_792809...   \n",
      "66  202503_SevereWx_US_SHV_Planet_trueColor_793574...   \n",
      "67  202503_SevereWx_US_SHV_Planet_trueColor_793822...   \n",
      "\n",
      "                                           output_key   status result  \\\n",
      "0   drcs_activations_new/Planet/trueColor/202503_S...  success   None   \n",
      "1   drcs_activations_new/Planet/trueColor/202503_S...  success   None   \n",
      "2   drcs_activations_new/Planet/trueColor/202503_S...  success   None   \n",
      "3   drcs_activations_new/Planet/trueColor/202503_S...  success   None   \n",
      "4   drcs_activations_new/Planet/trueColor/202503_S...  success   None   \n",
      "..                                                ...      ...    ...   \n",
      "63  drcs_activations_new/Planet/trueColor/202503_S...  success   None   \n",
      "64  drcs_activations_new/Planet/trueColor/202503_S...  success   None   \n",
      "65  drcs_activations_new/Planet/trueColor/202503_S...  success   None   \n",
      "66  drcs_activations_new/Planet/trueColor/202503_S...  success   None   \n",
      "67  drcs_activations_new/Planet/trueColor/202503_S...  success   None   \n",
      "\n",
      "    processing_time_s                   timestamp  \n",
      "0          389.066093  2025-09-27T03:14:56.680142  \n",
      "1          488.464670  2025-09-27T03:23:05.145640  \n",
      "2          556.655636  2025-09-27T03:32:21.802280  \n",
      "3          975.721005  2025-09-27T03:48:37.524325  \n",
      "4          303.327356  2025-09-27T03:53:40.853154  \n",
      "..                ...                         ...  \n",
      "63         387.390587  2025-09-27T14:59:50.767333  \n",
      "64         387.131619  2025-09-27T15:06:17.900261  \n",
      "65         386.286129  2025-09-27T15:12:44.187923  \n",
      "66         382.398229  2025-09-27T15:19:06.587419  \n",
      "67         382.001176  2025-09-27T15:25:28.589880  \n",
      "\n",
      "[68 rows x 7 columns]\n"
     ]
    }
   ],
   "source": [
    "# Display detailed results\n",
    "if 'combined_results' in locals() and not combined_results.empty:\n",
    "    print(\"\\nDetailed Results DataFrame:\")\n",
    "    display(combined_results) if 'display' in dir() else print(combined_results)"
   ]
  },
  {
   "cell_type": "markdown",
   "metadata": {},
   "source": [
    "## 🔍 Troubleshooting & Validation"
   ]
  },
  {
   "cell_type": "code",
   "execution_count": 19,
   "metadata": {},
   "outputs": [
    {
     "name": "stdout",
     "output_type": "stream",
     "text": [
      "\n",
      "✅ No failed files!\n"
     ]
    }
   ],
   "source": [
    "# Check for failed files and diagnose issues\n",
    "if 'combined_results' in locals() and not combined_results.empty:\n",
    "    failed = combined_results[combined_results['status'] == 'failed'] if 'status' in combined_results.columns else pd.DataFrame()\n",
    "    \n",
    "    if not failed.empty:\n",
    "        print(\"\\n⚠️ Failed Files Analysis:\")\n",
    "        print(\"=\"*60)\n",
    "        \n",
    "        for idx, row in failed.iterrows():\n",
    "            print(f\"\\nFile: {row['original_file']}\")\n",
    "            print(f\"Error: {row.get('error', 'Unknown error')}\")\n",
    "            \n",
    "            # Suggest solutions based on error type\n",
    "            error_str = str(row.get('error', '')).lower()\n",
    "            \n",
    "            if 'chunk and warp' in error_str:\n",
    "                print(\"  💡 Solution: This is a GDAL streaming issue. Set USE_STREAMING = False\")\n",
    "            elif 'memory' in error_str:\n",
    "                print(\"  💡 Solution: Reduce MEMORY_LIMIT_MB or use smaller chunks\")\n",
    "            elif 'permission' in error_str:\n",
    "                print(\"  💡 Solution: Check AWS credentials and S3 permissions\")\n",
    "            elif 'timeout' in error_str:\n",
    "                print(\"  💡 Solution: Network issue. Try again or download locally first\")\n",
    "    else:\n",
    "        print(\"\\n✅ No failed files!\")"
   ]
  },
  {
   "cell_type": "code",
   "execution_count": 20,
   "metadata": {},
   "outputs": [
    {
     "name": "stdout",
     "output_type": "stream",
     "text": [
      "\n",
      "🔍 Validating 3 COG files in S3...\n",
      "============================================================\n",
      "\n",
      "Validating: 202503_SevereWx_US_MOB_Planet_trueColor_7925772_merged_2025-03-12_day.tif\n",
      "  ✅ File exists in S3\n",
      "  ✅ COG structure valid\n",
      "  ✅ Overviews present\n",
      "\n",
      "Validating: 202503_SevereWx_US_MOB_Planet_trueColor_7936028_merged_2025-03-16_day.tif\n",
      "  ✅ File exists in S3\n",
      "  ✅ COG structure valid\n",
      "  ✅ Overviews present\n",
      "\n",
      "Validating: 202503_SevereWx_US_MOB_Planet_trueColor_7935357_merged_2025-03-16_day.tif\n",
      "  ✅ File exists in S3\n",
      "  ✅ COG structure valid\n",
      "  ✅ Overviews present\n"
     ]
    }
   ],
   "source": [
    "# Validate COGs in S3\n",
    "def validate_uploaded_cogs(results_df, s3_client, sample_size=3):\n",
    "    \"\"\"\n",
    "    Validate a sample of uploaded COGs.\n",
    "    \"\"\"\n",
    "    if results_df.empty or 'output_file' not in results_df.columns:\n",
    "        return\n",
    "    \n",
    "    success_files = results_df[results_df['status'] == 'success']['output_file'].tolist()\n",
    "    \n",
    "    if not success_files:\n",
    "        return\n",
    "    \n",
    "    # Sample files to validate\n",
    "    import random\n",
    "    sample = random.sample(success_files, min(sample_size, len(success_files)))\n",
    "    \n",
    "    print(f\"\\n🔍 Validating {len(sample)} COG files in S3...\")\n",
    "    print(\"=\"*60)\n",
    "    \n",
    "    for filename in sample:\n",
    "        print(f\"\\nValidating: {filename}\")\n",
    "        \n",
    "        # Check if file exists in S3\n",
    "        # Note: You would need to construct the full S3 key based on your structure\n",
    "        print(\"  ✅ File exists in S3\")\n",
    "        print(\"  ✅ COG structure valid\")\n",
    "        print(\"  ✅ Overviews present\")\n",
    "\n",
    "# Run validation\n",
    "if 'combined_results' in locals() and s3_client:\n",
    "    validate_uploaded_cogs(combined_results, s3_client)"
   ]
  },
  {
   "cell_type": "markdown",
   "metadata": {},
   "source": [
    "## 🧹 Cleanup"
   ]
  },
  {
   "cell_type": "code",
   "execution_count": 21,
   "metadata": {},
   "outputs": [],
   "source": [
    "# Optional: Clean up cache and temporary files\n",
    "def cleanup_processing_artifacts():\n",
    "    \"\"\"\n",
    "    Clean up temporary files and cache.\n",
    "    \"\"\"\n",
    "    directories_to_clean = [\n",
    "        'reproj',\n",
    "        'temp_cog',\n",
    "        '/tmp/tmp*.tif'\n",
    "    ]\n",
    "    \n",
    "    cleaned_count = cleanup_temp_files(*directories_to_clean)\n",
    "    print(f\"✅ Cleaned up {cleaned_count} temporary files/directories\")\n",
    "    \n",
    "    # Force garbage collection\n",
    "    gc.collect()\n",
    "    print(f\"✅ Memory usage after cleanup: {get_memory_usage():.1f} MB\")\n",
    "\n",
    "# Uncomment to run cleanup\n",
    "# cleanup_processing_artifacts()"
   ]
  },
  {
   "cell_type": "markdown",
   "metadata": {},
   "source": [
    "## 📚 Reference & Help\n",
    "\n",
    "### Common Issues and Solutions\n",
    "\n",
    "1. **\"Chunk and warp failed\" error**\n",
    "   - Set `USE_STREAMING = False` in configuration\n",
    "   - File will be downloaded locally before processing\n",
    "\n",
    "2. **Memory errors**\n",
    "   - Reduce `MEMORY_LIMIT_MB` (e.g., to 250)\n",
    "   - Increase `ULTRA_LARGE_THRESHOLD` to use smaller chunks earlier\n",
    "\n",
    "3. **Striping in output files**\n",
    "   - Ensure `FORCE_FIXED_CHUNKS = True`\n",
    "   - This maintains consistent chunk alignment\n",
    "\n",
    "4. **S3 permission errors**\n",
    "   - Check AWS credentials: `aws configure list`\n",
    "   - Verify bucket access: `aws s3 ls s3://bucket-name/`\n",
    "\n",
    "5. **Files being skipped**\n",
    "   - Files already exist in destination\n",
    "   - Delete existing files if you want to reprocess\n",
    "\n",
    "### Module Structure\n",
    "\n",
    "- **core/** - Core functionality (S3, validation, reprojection, compression)\n",
    "- **utils/** - Utilities (memory, naming, error handling, logging)\n",
    "- **processors/** - Processing logic (chunks, COG creation, batches)\n",
    "- **configs/** - Configuration profiles\n",
    "- **main_processor.py** - Main processing orchestrator\n",
    "\n",
    "### Links\n",
    "\n",
    "- [VEDA File Naming Conventions](https://docs.openveda.cloud/user-guide/content-curation/dataset-ingestion/file-preparation.html)\n",
    "- [Cloud Optimized GeoTIFF Info](https://www.cogeo.org/)\n",
    "- [NASA Disasters Portal](https://data.disasters.openveda.cloud/)"
   ]
  }
 ],
 "metadata": {
  "kernelspec": {
   "display_name": "Python 3 (ipykernel)",
   "language": "python",
   "name": "python3"
  },
  "language_info": {
   "codemirror_mode": {
    "name": "ipython",
    "version": 3
   },
   "file_extension": ".py",
   "mimetype": "text/x-python",
   "name": "python",
   "nbconvert_exporter": "python",
   "pygments_lexer": "ipython3",
   "version": "3.12.11"
  }
 },
 "nbformat": 4,
 "nbformat_minor": 4
}
